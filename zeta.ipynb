{
 "cells": [
  {
   "cell_type": "markdown",
   "metadata": {},
   "source": [
    "# Correct Zeta function\n",
    "Here I am using the correct zeta function after correcting thr kinematic mistake in my previous definition"
   ]
  },
  {
   "cell_type": "code",
   "execution_count": 1,
   "metadata": {},
   "outputs": [],
   "source": [
    "import numpy as np\n",
    "import matplotlib.pyplot as plt\n",
    "from non_relativistic_seperate import *\n",
    "from zeta import *\n",
    "from tqdm import tqdm\n",
    "from scipy.optimize import root_scalar\n",
    "import sys\n",
    "from importlib import reload\n",
    "import zeta_asymptotes"
   ]
  },
  {
   "cell_type": "code",
   "execution_count": 2,
   "metadata": {},
   "outputs": [
    {
     "name": "stdout",
     "output_type": "stream",
     "text": [
      "1000\n"
     ]
    }
   ],
   "source": [
    "k = 3\n",
    "a = k-1.5\n",
    "Xi_sq = 10**k\n",
    "alpha = 10**(-a)\n",
    "print(Xi_sq)\n",
    "#graph zeta for q_2 in range 0 to 10\n",
    "\n",
    "d = np.array([0,0,0])\n"
   ]
  },
  {
   "cell_type": "code",
   "execution_count": null,
   "metadata": {},
   "outputs": [],
   "source": [
    "q_2 = np.linspace(0.001,20,4000)\n",
    "zeta_results = np.zeros(len(q_2))\n",
    "\n",
    "for i in tqdm(range(len(q_2))):\n",
    "    zeta_results[i] = zeta(q_2[i],Xi_sq,alpha,d)\n",
    "\n"
   ]
  },
  {
   "cell_type": "code",
   "execution_count": null,
   "metadata": {},
   "outputs": [],
   "source": [
    "asy = zeta_asymptotes.asymptotes(21, d )"
   ]
  },
  {
   "cell_type": "code",
   "execution_count": null,
   "metadata": {},
   "outputs": [],
   "source": [
    "#plot first 10 asymptotes on top of zeta\n",
    "plt.figure(figsize=(40,4))\n",
    "#\n",
    "plt.plot(q_2,zeta_results, label = 'zeta')\n",
    "plt.ylim(-50,50)\n",
    "#plot asymptotes\n",
    "\n",
    "asy_smaller_than = asy[asy<max(q_2)]\n",
    "for i in range(len(asy_smaller_than)):\n",
    "    plt.axvline(asy[i], color = 'r')\n",
    "\n",
    "plt.legend()\n",
    "plt.grid()\n",
    "plt.show()\n",
    "\n"
   ]
  },
  {
   "cell_type": "code",
   "execution_count": null,
   "metadata": {},
   "outputs": [],
   "source": [
    "root = 1.5\n",
    "y =  zeta(root,Xi_sq,alpha,d)\n",
    "\n",
    "print(y)"
   ]
  },
  {
   "cell_type": "code",
   "execution_count": null,
   "metadata": {},
   "outputs": [],
   "source": [
    "#find roots of function\n",
    "\n",
    "\n",
    "root1 = root_scalar(zeta, args = (Xi_sq,alpha,d), bracket = [1.5,2]).root \n",
    "\n",
    "print(root1)"
   ]
  },
  {
   "cell_type": "code",
   "execution_count": null,
   "metadata": {},
   "outputs": [],
   "source": [
    "s = 1\n",
    "derivative(root1, Xi_sq, s, d)\n"
   ]
  },
  {
   "cell_type": "code",
   "execution_count": null,
   "metadata": {},
   "outputs": [],
   "source": [
    "#find taylor series coefficients for zeta\n",
    "s_max = 50\n",
    "c_s = [derivative(root1,3e4 if s  ==1 else 1e3,s, d) for s in range(1,s_max)]\n",
    "\n",
    "taylor = lambda x: sum([c_s[s-1]*(x-root1)**s for s in range(1,s_max)])  #+y"
   ]
  },
  {
   "cell_type": "code",
   "execution_count": null,
   "metadata": {},
   "outputs": [],
   "source": [
    "\n",
    "plt.ylim(-20,20)\n",
    "plt.plot(q_2, taylor(q_2))\n",
    "plt.plot(q_2, zeta_results)\n",
    "plt.grid()"
   ]
  },
  {
   "cell_type": "code",
   "execution_count": null,
   "metadata": {},
   "outputs": [],
   "source": [
    "# plot the difference\n",
    "plt.figure(figsize=(10,4))\n",
    "plt.plot(q_2, taylor(q_2)-zeta_results)\n",
    "plt.ylim(-1,1)\n",
    "plt.xlim(1,2)\n",
    "plt.grid()\n",
    "plt.show()\n"
   ]
  },
  {
   "cell_type": "code",
   "execution_count": null,
   "metadata": {},
   "outputs": [],
   "source": []
  },
  {
   "cell_type": "markdown",
   "metadata": {},
   "source": [
    "# Finding Asymptotes and zeros\n"
   ]
  },
  {
   "cell_type": "code",
   "execution_count": null,
   "metadata": {},
   "outputs": [],
   "source": [
    "###Main PARAMETER D\n",
    "d = np.array([4,0,0])\n",
    "\n",
    "\n",
    "k = 4\n",
    "a = k-1.5\n",
    "Xi = 10**k\n",
    "alpha = 10**(-a)"
   ]
  },
  {
   "cell_type": "code",
   "execution_count": null,
   "metadata": {},
   "outputs": [],
   "source": [
    "asymptotes = zeta_asymptotes.asymptotes(d, 5e3)\n",
    "\n",
    "kappa_sq = np.max(asymptotes)\n",
    "print(\"Number of Asymptotes found: \",len(asymptotes))\n",
    "print(\"Max q_sq: \", np.round(kappa_sq))"
   ]
  },
  {
   "cell_type": "code",
   "execution_count": null,
   "metadata": {},
   "outputs": [],
   "source": [
    "nth_root = 10\n",
    "first_asymptotes = asymptotes[:(nth_root+1)]"
   ]
  },
  {
   "cell_type": "code",
   "execution_count": null,
   "metadata": {},
   "outputs": [],
   "source": [
    "dx = 1e-11\n",
    "lower_asy = first_asymptotes[:-1]\n",
    "upper_asy = first_asymptotes[1:]\n",
    "\n",
    "\n",
    "zeros = np.zeros_like(lower_asy)\n",
    "for i in tqdm(range(len(lower_asy))):\n",
    "\n",
    "    if (upper_asy[i]-lower_asy[i])<dx:\n",
    "        zeros[i] = (lower_asy[i] + upper_asy[i])/2\n",
    "    else:\n",
    "        try:\n",
    "            zeros[i] = root_scalar(zeta,args=(Xi, alpha, d),bracket = [lower_asy[i]+dx, upper_asy[i]-dx]).root\n",
    "        except ValueError:\n",
    "            print(\"failed at q_2 = \", lower_asy[i]+dx, upper_asy[i]-dx)\n",
    "            print(\"values at these points: \", round(zeta(lower_asy[i]+dx, Xi, alpha_recommended(lower_asy[i], Xi, d), d)), round(zeta(upper_asy[i]-dx, Xi, alpha, d)))\n",
    "            zeros[i] = (lower_asy[i] + upper_asy[i])/2"
   ]
  },
  {
   "cell_type": "code",
   "execution_count": null,
   "metadata": {},
   "outputs": [],
   "source": [
    "print(zeros)"
   ]
  },
  {
   "cell_type": "code",
   "execution_count": null,
   "metadata": {},
   "outputs": [],
   "source": [
    "k = 3\n",
    "a = k-1.5\n",
    "Xi = 10**k\n",
    "alpha = 10**(-a)\n",
    "\n",
    "q_2 = np.linspace(0.001, first_asymptotes[-1], 500)\n",
    "z_d_results = np.zeros_like(q_2)\n",
    "for i in tqdm(range(len(z_d_results))):\n",
    "    z_d_results[i] = zeta(q_2[i], Xi, alpha, d)\n",
    "\n",
    "z_d_plot = np.copy(z_d_results)\n",
    "q_2_plot = np.copy(q_2)"
   ]
  },
  {
   "cell_type": "code",
   "execution_count": null,
   "metadata": {},
   "outputs": [],
   "source": [
    "k = 4.3\n",
    "a = k-1.5\n",
    "Xi = 10**k\n",
    "alpha = 10**(-a)\n",
    "\n",
    "i = 15\n",
    "print(zeros[i])\n",
    "\n",
    "print(zeta(zeros[i], Xi, alpha, d))"
   ]
  },
  {
   "cell_type": "code",
   "execution_count": null,
   "metadata": {},
   "outputs": [],
   "source": [
    "for i in first_asymptotes:\n",
    "    q_2_plot= np.insert(q_2_plot, np.argmax(q_2_plot >= i),i)\n",
    "    z_d_plot = np.insert(z_d_plot, np.argmax(q_2_plot >= i),np.nan)\n",
    "\n",
    "plt.figure(figsize = (40,6))\n",
    "plt.plot(q_2_plot, z_d_plot, label = \"z_d\")\n",
    "#insert first asymptotes with black dotted lines, thickness 1 pt\n",
    "for i in first_asymptotes:\n",
    "    plt.axvline(i, linestyle = \"--\", color = \"black\", linewidth = 1, label = \"Asymptotes\")\n",
    "\n",
    "#insert zeros with red dotted lines, thickness 1 pt\n",
    "for i in zeros:\n",
    "    plt.axvline(i, color = \"red\", linewidth = 1, label = \"Zeros\")\n",
    "\n",
    "#label\n",
    "plt.xlabel(\"q^2\")\n",
    "plt.ylabel(\"z_d\")\n",
    "plt.title(\"First 100 zeros of $z^d$ vs $q^2$ for $d$ = \" + str(d))\n",
    "\n",
    "plt.xlim(0,first_asymptotes[-1])\n",
    "\n",
    "#legend\n",
    "handles, labels = plt.gca().get_legend_handles_labels()\n",
    "labels, ids = np.unique(labels, return_index=True)\n",
    "handles = [handles[i] for i in ids]\n",
    "plt.legend(handles, labels, loc='best')\n",
    "\n",
    "\n",
    "plt.ylim(-50,50)\n",
    "#tickmarks\n",
    "\n",
    "#set x tickmarks, 100\n",
    "max_x = first_asymptotes[-1]\n",
    "steps = np.ceil(max_x/50)\n",
    "plt.xticks(np.arange(0,max_x, steps))\n",
    "\n",
    "\n",
    "plt.grid()\n",
    "\n",
    "\n",
    "#plt.savefig(\"roots_zeta/\"+folder_name+\"/first_\"+ str(len(zeros))+ \"_zeros.png\")\n",
    "plt.show()\n",
    "\n",
    "\n",
    "\n"
   ]
  },
  {
   "cell_type": "code",
   "execution_count": null,
   "metadata": {},
   "outputs": [],
   "source": [
    "\n",
    "iasy  = 1\n",
    "#make an k and a meshgrid for the contour plot, a goes from 1 to 5 and k goes from 1 to 5\n",
    "k = np.linspace(1,4,10)\n",
    "a = np.linspace(0,5,10)\n",
    "k, a = np.meshgrid(k,a)\n",
    "#make alpha and Xi_sq from k and a\n",
    "Xi_sqs = 10**k\n",
    "alphas = 10**(-a)\n",
    "\n",
    "zeros_mesh = np.zeros_like(k)\n",
    "for i in tqdm(range(len(Xi_sqs))):\n",
    "    for j in range(len(Xi_sqs[0])):\n",
    "        Xi = Xi_sqs[i,j]\n",
    "        alpha = alphas[i,j]\n",
    "        try:\n",
    "            zeros_mesh[i,j] = root_scalar(zeta,args=(Xi, alpha, d),bracket = [lower_asy[iasy]+dx, upper_asy[iasy]-dx]).root\n",
    "        except ValueError:\n",
    "            print(\"failed at q_2 = \", lower_asy[iasy]+dx, upper_asy[iasy]-dx)\n",
    "            print(\"values at these points: \", round(zeta(lower_asy[iasy]+dx, Xi, alpha, d)), round(zeta(upper_asy[iasy]-dx, Xi, alpha, d)))\n",
    "            zeros_mesh[i,j] = (lower_asy[iasy] + upper_asy[iasy])/2\n",
    "\n",
    "#plot contour plot\n"
   ]
  },
  {
   "cell_type": "code",
   "execution_count": null,
   "metadata": {},
   "outputs": [],
   "source": [
    "plt.figure(figsize = (10,6))\n",
    "plt.contourf(k,a,zeros_mesh, levels = 100)\n",
    "plt.colorbar()\n",
    "plt.xlabel(\"k\")\n",
    "plt.ylabel(\"a\")\n",
    "plt.title(\"Contour plot of zeros of $z^d$ for $d$ = \" + str(d))\n",
    "plt.show()\n"
   ]
  },
  {
   "cell_type": "code",
   "execution_count": null,
   "metadata": {},
   "outputs": [],
   "source": [
    "q_2 = np.linspace(0.001,10,1000)\n",
    "Xi_sq = 1e4\n",
    "a = np.linspace(0,3,10)\n",
    "alpha = 10**(-a)\n",
    "\n",
    "print(np.zeros((len(q_2),len(alpha))))"
   ]
  },
  {
   "cell_type": "code",
   "execution_count": null,
   "metadata": {},
   "outputs": [],
   "source": [
    "import numpy as np\n",
    "from scipy.optimize import fsolve\n",
    "\n",
    "def equation(x, Xi, m, d):\n",
    "    # Define the equation to solve\n",
    "    gamma = np.sqrt((d**2 / (m**2 + 4*x)) + 1)\n",
    "    omega_Xi = np.sqrt(Xi**2 + (1/4)*m**2)\n",
    "    beta = d / np.sqrt(d**2 + m**2 + 4*x)\n",
    "    return gamma * (Xi - omega_Xi * beta) - x\n",
    "\n",
    "def solve_for_x(Xi, m, d):\n",
    "    # Initial guess for x\n",
    "    initial_guess = Xi\n",
    "    # Solve the equation\n",
    "    x_solution = fsolve(equation, initial_guess, args=(Xi, m, d))\n",
    "    return x_solution[0]\n",
    "\n",
    "# Example usage\n",
    "Xi = 1000  # Replace with your value\n",
    "m = 1      # Replace with your value\n",
    "d = 100      # Replace with your value\n",
    "\n",
    "x_solution = solve_for_x(Xi, m, d)\n",
    "print(\"Solution for x:\", x_solution)\n"
   ]
  },
  {
   "cell_type": "markdown",
   "metadata": {},
   "source": [
    "# Returning to root finding algorithm"
   ]
  },
  {
   "cell_type": "code",
   "execution_count": 24,
   "metadata": {},
   "outputs": [],
   "source": [
    "###Main PARAMETER D\n",
    "d = np.array([1,0,0])\n",
    "k = 4\n",
    "a = k-1.5\n",
    "Xi = 10**k\n",
    "alpha = 10**(-a)"
   ]
  },
  {
   "cell_type": "code",
   "execution_count": 25,
   "metadata": {},
   "outputs": [
    {
     "name": "stdout",
     "output_type": "stream",
     "text": [
      "Number of Asymptotes found:  9076\n",
      "Max q_sq:  1181.0\n"
     ]
    }
   ],
   "source": [
    "asymptotes = zeta_asymptotes.asymptotes(d, 5e3)\n",
    "\n",
    "kappa_sq = np.max(asymptotes)\n",
    "print(\"Number of Asymptotes found: \",len(asymptotes))\n",
    "print(\"Max q_sq: \", np.round(kappa_sq))"
   ]
  },
  {
   "cell_type": "code",
   "execution_count": 26,
   "metadata": {},
   "outputs": [],
   "source": [
    "nth_root = 20\n",
    "first_asymptotes = asymptotes[:(nth_root+1)]"
   ]
  },
  {
   "cell_type": "code",
   "execution_count": 27,
   "metadata": {},
   "outputs": [
    {
     "name": "stderr",
     "output_type": "stream",
     "text": [
      "100%|██████████| 20/20 [01:03<00:00,  3.20s/it]\n"
     ]
    }
   ],
   "source": [
    "dx = 1e-11\n",
    "lower_asy = first_asymptotes[:-1]\n",
    "upper_asy = first_asymptotes[1:]\n",
    "\n",
    "\n",
    "zeros = np.zeros_like(lower_asy)\n",
    "for i in tqdm(range(len(lower_asy))):\n",
    "    if (upper_asy[i]-lower_asy[i])<dx:\n",
    "        zeros[i] = (lower_asy[i] + upper_asy[i])/2\n",
    "    else:\n",
    "        try:\n",
    "            zeros[i] = root_scalar(zeta,args=(Xi, alpha, d),bracket = [lower_asy[i]+dx, upper_asy[i]-dx]).root\n",
    "        except ValueError:\n",
    "            print(\"failed at q_2 = \", lower_asy[i]+dx, upper_asy[i]-dx)\n",
    "            print(\"values at these points: \", round(zeta(lower_asy[i]+dx, Xi, alpha_recommended(lower_asy[i], Xi, d), d)), round(zeta(upper_asy[i]-dx, Xi, alpha, d)))\n",
    "            zeros[i] = (lower_asy[i] + upper_asy[i])/2"
   ]
  },
  {
   "cell_type": "code",
   "execution_count": 46,
   "metadata": {},
   "outputs": [
    {
     "name": "stderr",
     "output_type": "stream",
     "text": [
      "100%|██████████| 20/20 [00:06<00:00,  3.12it/s]"
     ]
    },
    {
     "name": "stdout",
     "output_type": "stream",
     "text": [
      "[-1.58135011e-14 -3.66743674e-12 -1.86337399e-13 -7.38472006e-15\n",
      "  5.86121028e-14  1.47758269e-10  2.18291090e-14  7.24806752e-15\n",
      "  1.05729223e-12 -4.33960086e-14  2.70859602e-12  1.44271757e-14\n",
      "  5.40625222e-13 -2.88051914e-14 -2.15843680e-14  1.60957004e-09\n",
      " -2.13069295e-11 -1.36510803e-13  7.54080011e-13  1.07671696e-12]\n"
     ]
    },
    {
     "name": "stderr",
     "output_type": "stream",
     "text": [
      "\n"
     ]
    }
   ],
   "source": [
    "k = 4\n",
    "a = k-1.5\n",
    "Xi = 10**k\n",
    "alpha = 10**(-a)\n",
    "#evaluate zeta for all zeros\n",
    "z_d_results = np.zeros_like(zeros)\n",
    "for i in tqdm(range(len(zeros))):\n",
    "    z_d_results[i] = zeta(zeros[i], Xi, alpha, d)\n",
    "    \n",
    "\n",
    "print(z_d_results)"
   ]
  },
  {
   "cell_type": "code",
   "execution_count": 47,
   "metadata": {},
   "outputs": [
    {
     "name": "stderr",
     "output_type": "stream",
     "text": [
      "100%|██████████| 1000/1000 [05:05<00:00,  3.27it/s]\n"
     ]
    }
   ],
   "source": [
    "q_2 = np.linspace(0.001, first_asymptotes[-1], 1000)\n",
    "z_d_results = np.zeros_like(q_2)\n",
    "for i in tqdm(range(len(z_d_results))):\n",
    "    z_d_results[i] = zeta(q_2[i], Xi, alpha, d)\n",
    "\n",
    "z_d_plot = np.copy(z_d_results)\n",
    "q_2_plot = np.copy(q_2)"
   ]
  },
  {
   "cell_type": "code",
   "execution_count": 49,
   "metadata": {},
   "outputs": [
    {
     "data": {
      "image/png": "[encoded data removed]",
      "text/plain": [
       "<Figure size 4000x600 with 1 Axes>"
      ]
     },
     "metadata": {},
     "output_type": "display_data"
    }
   ],
   "source": [
    "for i in first_asymptotes:\n",
    "    q_2_plot= np.insert(q_2_plot, np.argmax(q_2_plot >= i),i)\n",
    "    z_d_plot = np.insert(z_d_plot, np.argmax(q_2_plot >= i),np.nan)\n",
    "\n",
    "plt.figure(figsize = (40,6))\n",
    "plt.plot(q_2_plot, z_d_plot, label = \"z_d\", linewidth = 1)\n",
    "#insert first asymptotes with black dotted lines, thickness 1 pt\n",
    "for i in first_asymptotes:\n",
    "    plt.axvline(i, linestyle = \"--\", color = \"black\", linewidth = 1, label = \"Asymptotes\")\n",
    "\n",
    "#insert zeros with red dotted lines, thickness 1 pt\n",
    "for i in zeros:\n",
    "    plt.axvline(i, color = \"red\", linewidth = 1, label = \"Zeros\")\n",
    "\n",
    "#label\n",
    "plt.xlabel(\"q^2\")\n",
    "plt.ylabel(\"z_d\")\n",
    "plt.title(\"First {} zeros of $z^d$ vs $q^2$ for $d$ = {} \". format(len(zeros), d))\n",
    "\n",
    "plt.xlim(0,first_asymptotes[-1])\n",
    "\n",
    "#legend\n",
    "handles, labels = plt.gca().get_legend_handles_labels()\n",
    "labels, ids = np.unique(labels, return_index=True)\n",
    "handles = [handles[i] for i in ids]\n",
    "plt.legend(handles, labels, loc='best')\n",
    "\n",
    "\n",
    "plt.ylim(-50,50)\n",
    "#tickmarks\n",
    "\n",
    "#set x tickmarks, 100\n",
    "max_x = first_asymptotes[-1]\n",
    "steps = np.ceil(max_x/50)\n",
    "plt.xticks(np.arange(0,max_x, steps))\n",
    "\n",
    "\n",
    "plt.grid()\n",
    "\n",
    "\n",
    "#plt.savefig(\"roots_zeta/\"+folder_name+\"/first_\"+ str(len(zeros))+ \"_zeros.png\")\n",
    "plt.show()\n"
   ]
  },
  {
   "cell_type": "code",
   "execution_count": 1,
   "metadata": {},
   "outputs": [],
   "source": [
    "from roots_finder_zeta_d import root_finding\n",
    "import numpy as np"
   ]
  },
  {
   "cell_type": "code",
   "execution_count": 4,
   "metadata": {},
   "outputs": [
    {
     "name": "stdout",
     "output_type": "stream",
     "text": [
      "[1 1 1]\n",
      "Number of Asymptotes found:  3457\n",
      "Max q_sq:  537.0\n",
      "missing_zero\n",
      "Finding zeros of zeta\n"
     ]
    },
    {
     "name": "stderr",
     "output_type": "stream",
     "text": [
      "100%|██████████| 101/101 [06:34<00:00,  3.91s/it]\n"
     ]
    },
    {
     "name": "stdout",
     "output_type": "stream",
     "text": [
      "Calculating function for plotting\n"
     ]
    },
    {
     "name": "stderr",
     "output_type": "stream",
     "text": [
      "100%|██████████| 10000/10000 [1:43:25<00:00,  1.61it/s]    \n"
     ]
    },
    {
     "name": "stdout",
     "output_type": "stream",
     "text": [
      "[2 1 0]\n",
      "Number of Asymptotes found:  4053\n",
      "Max q_sq:  350.0\n",
      "missing_zero\n",
      "Finding zeros of zeta\n"
     ]
    },
    {
     "name": "stderr",
     "output_type": "stream",
     "text": [
      "100%|██████████| 101/101 [06:33<00:00,  3.89s/it]\n"
     ]
    },
    {
     "name": "stdout",
     "output_type": "stream",
     "text": [
      "Calculating function for plotting\n"
     ]
    },
    {
     "name": "stderr",
     "output_type": "stream",
     "text": [
      "100%|██████████| 10000/10000 [10:00<00:00, 16.66it/s]\n"
     ]
    },
    {
     "name": "stdout",
     "output_type": "stream",
     "text": [
      "[2 1 1]\n",
      "Number of Asymptotes found:  3392\n",
      "Max q_sq:  298.0\n",
      "missing_zero\n",
      "Finding zeros of zeta\n"
     ]
    },
    {
     "name": "stderr",
     "output_type": "stream",
     "text": [
      "100%|██████████| 101/101 [06:24<00:00,  3.81s/it]\n"
     ]
    },
    {
     "name": "stdout",
     "output_type": "stream",
     "text": [
      "Calculating function for plotting\n"
     ]
    },
    {
     "name": "stderr",
     "output_type": "stream",
     "text": [
      "100%|██████████| 10000/10000 [10:00<00:00, 16.64it/s]\n"
     ]
    },
    {
     "name": "stdout",
     "output_type": "stream",
     "text": [
      "[2 2 1]\n",
      "Number of Asymptotes found:  2254\n",
      "Max q_sq:  207.0\n",
      "missing_zero\n",
      "Finding zeros of zeta\n"
     ]
    },
    {
     "name": "stderr",
     "output_type": "stream",
     "text": [
      "100%|██████████| 101/101 [06:30<00:00,  3.87s/it]\n"
     ]
    },
    {
     "name": "stdout",
     "output_type": "stream",
     "text": [
      "Calculating function for plotting\n"
     ]
    },
    {
     "name": "stderr",
     "output_type": "stream",
     "text": [
      "100%|██████████| 10000/10000 [10:07<00:00, 16.45it/s]\n"
     ]
    },
    {
     "name": "stdout",
     "output_type": "stream",
     "text": [
      "[3 0 0]\n",
      "Number of Asymptotes found:  822\n",
      "Max q_sq:  207.0\n",
      "Finding zeros of zeta\n"
     ]
    },
    {
     "name": "stderr",
     "output_type": "stream",
     "text": [
      "100%|██████████| 100/100 [06:34<00:00,  3.94s/it]\n"
     ]
    },
    {
     "name": "stdout",
     "output_type": "stream",
     "text": [
      "Calculating function for plotting\n"
     ]
    },
    {
     "name": "stderr",
     "output_type": "stream",
     "text": [
      "100%|██████████| 10000/10000 [10:01<00:00, 16.62it/s]\n"
     ]
    },
    {
     "name": "stdout",
     "output_type": "stream",
     "text": [
      "[3 1 0]\n",
      "Number of Asymptotes found:  2034\n",
      "Max q_sq:  187.0\n",
      "missing_zero\n",
      "Finding zeros of zeta\n"
     ]
    },
    {
     "name": "stderr",
     "output_type": "stream",
     "text": [
      "100%|██████████| 101/101 [06:32<00:00,  3.89s/it]\n"
     ]
    },
    {
     "name": "stdout",
     "output_type": "stream",
     "text": [
      "Calculating function for plotting\n"
     ]
    },
    {
     "name": "stderr",
     "output_type": "stream",
     "text": [
      "100%|██████████| 10000/10000 [13:48<00:00, 12.07it/s]  \n"
     ]
    },
    {
     "name": "stdout",
     "output_type": "stream",
     "text": [
      "[3 1 1]\n",
      "Number of Asymptotes found:  1435\n",
      "Max q_sq:  172.0\n",
      "missing_zero\n",
      "Finding zeros of zeta\n"
     ]
    },
    {
     "name": "stderr",
     "output_type": "stream",
     "text": [
      "100%|██████████| 101/101 [05:19<00:00,  3.16s/it]\n"
     ]
    },
    {
     "name": "stdout",
     "output_type": "stream",
     "text": [
      "Calculating function for plotting\n"
     ]
    },
    {
     "name": "stderr",
     "output_type": "stream",
     "text": [
      "100%|██████████| 10000/10000 [07:56<00:00, 20.99it/s]\n"
     ]
    },
    {
     "name": "stdout",
     "output_type": "stream",
     "text": [
      "[3 2 1]\n",
      "Number of Asymptotes found:  1827\n",
      "Max q_sq:  137.0\n",
      "missing_zero\n",
      "Finding zeros of zeta\n"
     ]
    },
    {
     "name": "stderr",
     "output_type": "stream",
     "text": [
      "100%|██████████| 101/101 [05:08<00:00,  3.05s/it]\n"
     ]
    },
    {
     "name": "stdout",
     "output_type": "stream",
     "text": [
      "Calculating function for plotting\n"
     ]
    },
    {
     "name": "stderr",
     "output_type": "stream",
     "text": [
      "100%|██████████| 10000/10000 [08:01<00:00, 20.76it/s]\n"
     ]
    },
    {
     "name": "stdout",
     "output_type": "stream",
     "text": [
      "[3 2 2]\n",
      "Number of Asymptotes found:  1133\n",
      "Max q_sq:  113.0\n",
      "missing_zero\n",
      "Finding zeros of zeta\n"
     ]
    },
    {
     "name": "stderr",
     "output_type": "stream",
     "text": [
      "100%|██████████| 101/101 [05:12<00:00,  3.09s/it]\n"
     ]
    },
    {
     "name": "stdout",
     "output_type": "stream",
     "text": [
      "Calculating function for plotting\n"
     ]
    },
    {
     "name": "stderr",
     "output_type": "stream",
     "text": [
      "100%|██████████| 10000/10000 [07:59<00:00, 20.84it/s]\n"
     ]
    },
    {
     "name": "stdout",
     "output_type": "stream",
     "text": [
      "[3 3 1]\n",
      "Number of Asymptotes found:  812\n",
      "Max q_sq:  102.0\n",
      "missing_zero\n",
      "Finding zeros of zeta\n"
     ]
    },
    {
     "name": "stderr",
     "output_type": "stream",
     "text": [
      "100%|██████████| 101/101 [05:15<00:00,  3.13s/it]\n"
     ]
    },
    {
     "name": "stdout",
     "output_type": "stream",
     "text": [
      "Calculating function for plotting\n"
     ]
    },
    {
     "name": "stderr",
     "output_type": "stream",
     "text": [
      "100%|██████████| 10000/10000 [08:00<00:00, 20.80it/s]\n"
     ]
    },
    {
     "name": "stdout",
     "output_type": "stream",
     "text": [
      "[3 3 2]\n",
      "Number of Asymptotes found:  839\n",
      "Max q_sq:  89.0\n",
      "missing_zero\n",
      "Finding zeros of zeta\n"
     ]
    },
    {
     "name": "stderr",
     "output_type": "stream",
     "text": [
      "100%|██████████| 101/101 [05:53<00:00,  3.50s/it]\n"
     ]
    },
    {
     "name": "stdout",
     "output_type": "stream",
     "text": [
      "Calculating function for plotting\n"
     ]
    },
    {
     "name": "stderr",
     "output_type": "stream",
     "text": [
      "100%|██████████| 10000/10000 [08:05<00:00, 20.60it/s]\n"
     ]
    },
    {
     "name": "stdout",
     "output_type": "stream",
     "text": [
      "[4 0 0]\n",
      "Number of Asymptotes found:  425\n",
      "Max q_sq:  120.0\n"
     ]
    },
    {
     "name": "stderr",
     "output_type": "stream",
     "text": [
      "/Users/ericrechberger/Library/CloudStorage/OneDrive-UniversityofEdinburgh/MPhys project/Code/zeta.py:39: RuntimeWarning: divide by zero encountered in divide\n",
      "  terms = omega_r_star/omega_r*np.exp(-alpha*(r_star_sq-q_2_star))/(q_2_star-r_star_sq)\n"
     ]
    },
    {
     "name": "stdout",
     "output_type": "stream",
     "text": [
      "missing_zero\n",
      "Finding zeros of zeta\n"
     ]
    },
    {
     "name": "stderr",
     "output_type": "stream",
     "text": [
      "100%|██████████| 101/101 [05:16<00:00,  3.13s/it]\n"
     ]
    },
    {
     "name": "stdout",
     "output_type": "stream",
     "text": [
      "Calculating function for plotting\n"
     ]
    },
    {
     "name": "stderr",
     "output_type": "stream",
     "text": [
      "100%|██████████| 10000/10000 [08:01<00:00, 20.76it/s]\n"
     ]
    },
    {
     "name": "stdout",
     "output_type": "stream",
     "text": [
      "[4 1 0]\n",
      "Number of Asymptotes found:  1143\n",
      "Max q_sq:  114.0\n",
      "missing_zero\n",
      "Finding zeros of zeta\n"
     ]
    },
    {
     "name": "stderr",
     "output_type": "stream",
     "text": [
      "100%|██████████| 101/101 [05:13<00:00,  3.11s/it]\n"
     ]
    },
    {
     "name": "stdout",
     "output_type": "stream",
     "text": [
      "Calculating function for plotting\n"
     ]
    },
    {
     "name": "stderr",
     "output_type": "stream",
     "text": [
      "100%|██████████| 10000/10000 [07:58<00:00, 20.88it/s]\n"
     ]
    },
    {
     "name": "stdout",
     "output_type": "stream",
     "text": [
      "[4 1 1]\n",
      "Number of Asymptotes found:  1062\n",
      "Max q_sq:  108.0\n",
      "missing_zero\n",
      "Finding zeros of zeta\n"
     ]
    },
    {
     "name": "stderr",
     "output_type": "stream",
     "text": [
      "100%|██████████| 101/101 [05:11<00:00,  3.08s/it]\n"
     ]
    },
    {
     "name": "stdout",
     "output_type": "stream",
     "text": [
      "Calculating function for plotting\n"
     ]
    },
    {
     "name": "stderr",
     "output_type": "stream",
     "text": [
      "100%|██████████| 10000/10000 [08:27<00:00, 19.72it/s]\n"
     ]
    },
    {
     "name": "stdout",
     "output_type": "stream",
     "text": [
      "[4 2 0]\n",
      "Number of Asymptotes found:  704\n",
      "Max q_sq:  97.0\n",
      "missing_zero\n",
      "Finding zeros of zeta\n"
     ]
    },
    {
     "name": "stderr",
     "output_type": "stream",
     "text": [
      "100%|██████████| 101/101 [05:14<00:00,  3.11s/it]\n"
     ]
    },
    {
     "name": "stdout",
     "output_type": "stream",
     "text": [
      "Calculating function for plotting\n"
     ]
    },
    {
     "name": "stderr",
     "output_type": "stream",
     "text": [
      "100%|██████████| 10000/10000 [07:59<00:00, 20.84it/s]\n"
     ]
    },
    {
     "name": "stdout",
     "output_type": "stream",
     "text": [
      "[4 2 1]\n",
      "Number of Asymptotes found:  1159\n",
      "Max q_sq:  93.0\n",
      "missing_zero\n",
      "Finding zeros of zeta\n"
     ]
    },
    {
     "name": "stderr",
     "output_type": "stream",
     "text": [
      "100%|██████████| 101/101 [05:12<00:00,  3.09s/it]\n"
     ]
    },
    {
     "name": "stdout",
     "output_type": "stream",
     "text": [
      "Calculating function for plotting\n"
     ]
    },
    {
     "name": "stderr",
     "output_type": "stream",
     "text": [
      "100%|██████████| 10000/10000 [1:42:54<00:00,  1.62it/s]    \n"
     ]
    },
    {
     "name": "stdout",
     "output_type": "stream",
     "text": [
      "[4 2 2]\n",
      "Number of Asymptotes found:  584\n",
      "Max q_sq:  81.0\n",
      "missing_zero\n",
      "Finding zeros of zeta\n"
     ]
    },
    {
     "name": "stderr",
     "output_type": "stream",
     "text": [
      "100%|██████████| 101/101 [06:27<00:00,  3.83s/it]\n"
     ]
    },
    {
     "name": "stdout",
     "output_type": "stream",
     "text": [
      "Calculating function for plotting\n"
     ]
    },
    {
     "name": "stderr",
     "output_type": "stream",
     "text": [
      "100%|██████████| 10000/10000 [10:04<00:00, 16.53it/s]\n"
     ]
    },
    {
     "name": "stdout",
     "output_type": "stream",
     "text": [
      "[4 3 0]\n",
      "Number of Asymptotes found:  725\n",
      "Max q_sq:  78.0\n",
      "missing_zero\n",
      "Finding zeros of zeta\n"
     ]
    },
    {
     "name": "stderr",
     "output_type": "stream",
     "text": [
      "100%|██████████| 101/101 [06:36<00:00,  3.93s/it]\n"
     ]
    },
    {
     "name": "stdout",
     "output_type": "stream",
     "text": [
      "Calculating function for plotting\n"
     ]
    },
    {
     "name": "stderr",
     "output_type": "stream",
     "text": [
      "100%|██████████| 10000/10000 [10:05<00:00, 16.52it/s]\n"
     ]
    },
    {
     "name": "stdout",
     "output_type": "stream",
     "text": [
      "[4 3 1]\n",
      "Number of Asymptotes found:  949\n",
      "Max q_sq:  75.0\n",
      "missing_zero\n",
      "Finding zeros of zeta\n"
     ]
    },
    {
     "name": "stderr",
     "output_type": "stream",
     "text": [
      "100%|██████████| 101/101 [06:30<00:00,  3.87s/it]\n"
     ]
    },
    {
     "name": "stdout",
     "output_type": "stream",
     "text": [
      "Calculating function for plotting\n"
     ]
    },
    {
     "name": "stderr",
     "output_type": "stream",
     "text": [
      "100%|██████████| 10000/10000 [10:04<00:00, 16.55it/s]\n"
     ]
    },
    {
     "name": "stdout",
     "output_type": "stream",
     "text": [
      "[4 3 2]\n",
      "Number of Asymptotes found:  824\n",
      "Max q_sq:  68.0\n",
      "missing_zero\n",
      "Finding zeros of zeta\n"
     ]
    },
    {
     "name": "stderr",
     "output_type": "stream",
     "text": [
      "100%|██████████| 101/101 [06:33<00:00,  3.90s/it]\n"
     ]
    },
    {
     "name": "stdout",
     "output_type": "stream",
     "text": [
      "Calculating function for plotting\n"
     ]
    },
    {
     "name": "stderr",
     "output_type": "stream",
     "text": [
      "100%|██████████| 10000/10000 [10:06<00:00, 16.48it/s]\n"
     ]
    },
    {
     "name": "stdout",
     "output_type": "stream",
     "text": [
      "[4 3 3]\n",
      "Number of Asymptotes found:  497\n",
      "Max q_sq:  58.0\n",
      "missing_zero\n",
      "Finding zeros of zeta\n"
     ]
    },
    {
     "name": "stderr",
     "output_type": "stream",
     "text": [
      "100%|██████████| 101/101 [06:27<00:00,  3.84s/it]\n"
     ]
    },
    {
     "name": "stdout",
     "output_type": "stream",
     "text": [
      "Calculating function for plotting\n"
     ]
    },
    {
     "name": "stderr",
     "output_type": "stream",
     "text": [
      "100%|██████████| 10000/10000 [10:02<00:00, 16.61it/s]\n"
     ]
    },
    {
     "name": "stdout",
     "output_type": "stream",
     "text": [
      "[4 4 0]\n",
      "Number of Asymptotes found:  266\n",
      "Max q_sq:  61.0\n",
      "Finding zeros of zeta\n"
     ]
    },
    {
     "name": "stderr",
     "output_type": "stream",
     "text": [
      "100%|██████████| 100/100 [06:40<00:00,  4.01s/it]\n"
     ]
    },
    {
     "name": "stdout",
     "output_type": "stream",
     "text": [
      "Calculating function for plotting\n"
     ]
    },
    {
     "name": "stderr",
     "output_type": "stream",
     "text": [
      "100%|██████████| 10000/10000 [09:59<00:00, 16.67it/s]\n"
     ]
    },
    {
     "name": "stdout",
     "output_type": "stream",
     "text": [
      "[4 4 1]\n",
      "Number of Asymptotes found:  520\n",
      "Max q_sq:  60.0\n",
      "missing_zero\n",
      "Finding zeros of zeta\n"
     ]
    },
    {
     "name": "stderr",
     "output_type": "stream",
     "text": [
      "100%|██████████| 101/101 [06:19<00:00,  3.76s/it]\n"
     ]
    },
    {
     "name": "stdout",
     "output_type": "stream",
     "text": [
      "Calculating function for plotting\n"
     ]
    },
    {
     "name": "stderr",
     "output_type": "stream",
     "text": [
      "100%|██████████| 10000/10000 [10:04<00:00, 16.54it/s]\n"
     ]
    },
    {
     "name": "stdout",
     "output_type": "stream",
     "text": [
      "[4 4 2]\n",
      "Number of Asymptotes found:  391\n",
      "Max q_sq:  55.0\n",
      "missing_zero\n",
      "Finding zeros of zeta\n"
     ]
    },
    {
     "name": "stderr",
     "output_type": "stream",
     "text": [
      "100%|██████████| 101/101 [06:32<00:00,  3.89s/it]\n"
     ]
    },
    {
     "name": "stdout",
     "output_type": "stream",
     "text": [
      "Calculating function for plotting\n"
     ]
    },
    {
     "name": "stderr",
     "output_type": "stream",
     "text": [
      "100%|██████████| 10000/10000 [10:03:36<00:00,  3.62s/it]   \n"
     ]
    },
    {
     "name": "stdout",
     "output_type": "stream",
     "text": [
      "[4 4 3]\n",
      "Number of Asymptotes found:  401\n",
      "Max q_sq:  48.0\n",
      "missing_zero\n",
      "Finding zeros of zeta\n"
     ]
    },
    {
     "name": "stderr",
     "output_type": "stream",
     "text": [
      "100%|██████████| 101/101 [07:00<00:00,  4.16s/it]\n"
     ]
    },
    {
     "name": "stdout",
     "output_type": "stream",
     "text": [
      "Calculating function for plotting\n"
     ]
    },
    {
     "name": "stderr",
     "output_type": "stream",
     "text": [
      "100%|██████████| 10000/10000 [10:06<00:00, 16.48it/s]\n"
     ]
    },
    {
     "name": "stdout",
     "output_type": "stream",
     "text": [
      "[4 4 4]\n",
      "Number of Asymptotes found:  120\n",
      "Max q_sq:  41.0\n",
      "missing_zero\n",
      "Finding zeros of zeta\n"
     ]
    },
    {
     "name": "stderr",
     "output_type": "stream",
     "text": [
      "100%|██████████| 101/101 [06:25<00:00,  3.81s/it]\n"
     ]
    },
    {
     "name": "stdout",
     "output_type": "stream",
     "text": [
      "Calculating function for plotting\n"
     ]
    },
    {
     "name": "stderr",
     "output_type": "stream",
     "text": [
      "100%|██████████| 10000/10000 [09:58<00:00, 16.70it/s]\n"
     ]
    }
   ],
   "source": [
    "#d = np.array([[0,0,0], [1,1,0], [1,1,1], [2,0,0], [2,1,0], [2,1,1], [2,2,0], [2,2,1], [2,2,2], [3,0,0], [3,1,0], [3,1,1], [3,2,0], [3,2,1], [3,2,2], [3,3,0], [3,3,1], [3,3,2], [3,3,3], \n",
    "d = np.array([ [1,1,1], [2,1,0],[2,1,1], [2,2,1], [3,0,0], [3,1,0], [3,1,1], [3,2,1], [3,2,2], [3,3,1], [3,3,2], [4,0,0], [4,1,0], [4,1,1], [4,2,0], [4,2,1], [4,2,2], [4,3,0], [4,3,1], [4,3,2], [4,3,3], [4,4,0], [4,4,1], [4,4,2], [4,4,3], [4,4,4]])\n",
    "for i in d:\n",
    "    print(i)\n",
    "    root_finding(i,4)"
   ]
  },
  {
   "cell_type": "code",
   "execution_count": 9,
   "metadata": {},
   "outputs": [
    {
     "data": {
      "text/plain": [
       "5.623413251903491"
      ]
     },
     "execution_count": 9,
     "metadata": {},
     "output_type": "execute_result"
    }
   ],
   "source": [
    "((10**(0.5))**(3/2))"
   ]
  },
  {
   "cell_type": "code",
   "execution_count": 10,
   "metadata": {},
   "outputs": [
    {
     "data": {
      "text/plain": [
       "4.123836384729227"
      ]
     },
     "execution_count": 10,
     "metadata": {},
     "output_type": "execute_result"
    }
   ],
   "source": [
    "(44*_)/60"
   ]
  },
  {
   "cell_type": "code",
   "execution_count": null,
   "metadata": {},
   "outputs": [],
   "source": []
  }
 ],
 "metadata": {
  "kernelspec": {
   "display_name": "base",
   "language": "python",
   "name": "python3"
  },
  "language_info": {
   "codemirror_mode": {
    "name": "ipython",
    "version": 3
   },
   "file_extension": ".py",
   "mimetype": "text/x-python",
   "name": "python",
   "nbconvert_exporter": "python",
   "pygments_lexer": "ipython3",
   "version": "3.9.16"
  }
 },
 "nbformat": 4,
 "nbformat_minor": 2
}
