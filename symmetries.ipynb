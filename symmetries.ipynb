{
 "cells": [
  {
   "cell_type": "code",
   "execution_count": null,
   "metadata": {},
   "outputs": [],
   "source": []
  },
  {
   "cell_type": "markdown",
   "metadata": {},
   "source": [
    "# Degeneracies (before checking literature and Zee)"
   ]
  },
  {
   "cell_type": "markdown",
   "metadata": {},
   "source": []
  },
  {
   "cell_type": "code",
   "execution_count": null,
   "metadata": {},
   "outputs": [],
   "source": [
    "#providing a triplet of numbers should yield the degeneracy of the system\n",
    "\n",
    "a,b,c  = 1,2,3\n",
    "\n",
    "#generate permutations for triplet\n",
    "\n",
    "#negate one of the entries\n",
    "\n"
   ]
  },
  {
   "cell_type": "code",
   "execution_count": 123,
   "metadata": {},
   "outputs": [
    {
     "name": "stdout",
     "output_type": "stream",
     "text": [
      "[1. 2. 3. 3.]\n",
      "[-1.  2.  3.  3.]\n",
      "[ 1. -2.  3.  3.]\n",
      "[-1. -2.  3.  3.]\n",
      "[ 1.  2. -3.  3.]\n",
      "[-1.  2. -3.  3.]\n",
      "[ 1. -2. -3.  3.]\n",
      "[-1. -2. -3.  3.]\n",
      "[ 1.  2. -3. -3.]\n",
      "[-1.  2. -3. -3.]\n",
      "[ 1. -2. -3. -3.]\n",
      "[-1. -2. -3. -3.]\n",
      "192.0\n"
     ]
    }
   ],
   "source": [
    "import numpy as np\n",
    "from scipy.special import factorial\n",
    "in_array = abs(np.array([1,2,3]))\n",
    "\n",
    "\n",
    "vals, freq = np.unique(in_array, return_counts=True)\n",
    "\n",
    "degeneracy = 0\n",
    "ongoing = True\n",
    "k = np.unique(in_array, return_counts=True)\n",
    "modes = np.stack(k, axis  = 1) #first entry is number, second freq\n",
    "modes_no_zero = modes[modes[:,0] != 0]\n",
    "\n",
    "\n",
    "flip_rep = [modes[i,1]+1 for i in range(len(modes))  if modes[i,0] != 0 ]\n",
    "\n",
    "flips = int(np.prod(flip_rep))\n",
    "\n",
    "for i in range(flips):\n",
    "    #here use the multibase representation to assign a number to a sign flip.\n",
    "\n",
    "    key = np.array([])\n",
    "    rest = i\n",
    "    digit_value = flips\n",
    "    for k in range(len(flip_rep),0,-1):\n",
    "        digit_value //= flip_rep[k-1]\n",
    "        key = np.append(key, rest//digit_value)\n",
    "        rest = rest%digit_value\n",
    "    key = key[::-1]\n",
    "\n",
    "    new_array = np.array([])\n",
    "    for j in range(len(key)):\n",
    "        flipped = [modes_no_zero[j,0]*(-1)]\n",
    "        non_flipped = [modes_no_zero[j,0]]\n",
    "        new_array = np.append(new_array, flipped*int(key[j])  )\n",
    "        new_array = np.append(new_array, non_flipped*int(modes_no_zero[j,1]-key[j])  )\n",
    "\n",
    "    if len(new_array)<len(in_array):\n",
    "        new_array = np.append(new_array, np.zeros(len(in_array)-len(new_array)))\n",
    "\n",
    "    print(new_array)\n",
    "    new_occurance = np.unique(new_array, return_counts=True)[1]\n",
    "    degeneracy += factorial(len(new_array))/np.product(factorial(new_occurance))\n",
    "\n",
    "print(degeneracy)\n",
    "\n",
    "\n",
    "\n",
    "while ongoing:\n",
    "\n",
    "\n",
    "\n",
    "    #2**()\n",
    "\n",
    "    #1,2,3\n",
    "\n",
    "    #(0,0,0) -> (1,0,0) -> (0,1,0) -> ... -> (1,1,1)\n",
    "\n",
    "    #(2,2,0)\n",
    "\n",
    "    #(0,0,0) -> (1,0,0)  = (0,1,0) -> (1,1,0)\n",
    "\n",
    "    #(0,0)->(1,0)->(2,0)\n",
    "\n",
    "    #overall flips: modes + 1 (excluding 0) and multiplied together\n",
    "\n",
    "    #(3,3,3) --> (3,3) -> 4\n",
    "\n",
    "    #(2,2,1) --> 6\n",
    "\n",
    "\n",
    "\n",
    "\n",
    "\n",
    "\n",
    "    ongoing = False\n",
    "\n"
   ]
  },
  {
   "cell_type": "code",
   "execution_count": 43,
   "metadata": {},
   "outputs": [
    {
     "data": {
      "text/plain": [
       "[45, 2]"
      ]
     },
     "execution_count": 43,
     "metadata": {},
     "output_type": "execute_result"
    }
   ],
   "source": [
    "list(np.array([45,2]))"
   ]
  },
  {
   "cell_type": "code",
   "execution_count": 94,
   "metadata": {},
   "outputs": [
    {
     "name": "stdout",
     "output_type": "stream",
     "text": [
      "[1. 2. 6.]\n"
     ]
    },
    {
     "data": {
      "text/plain": [
       "array([2.        , 1.        , 0.66666667])"
      ]
     },
     "execution_count": 94,
     "metadata": {},
     "output_type": "execute_result"
    }
   ],
   "source": [
    "\n",
    "a = np.array([1,2,3])\n",
    "print(factorial(a))\n",
    "\n",
    "2/a"
   ]
  },
  {
   "cell_type": "markdown",
   "metadata": {},
   "source": [
    " 1 2 0 1\n",
    " 2 5 3 8\n",
    "\n",
    "= 1 + 4 + \n",
    "\n",
    "\n",
    "2,3,2,3\n",
    "\n",
    "\n",
    "1\n",
    "01\n",
    "11\n",
    "02\n",
    "12\n",
    "\n",
    "\n",
    "\n",
    "10\n",
    "\n",
    "021\n",
    "\n",
    "\n",
    "\n"
   ]
  }
 ],
 "metadata": {
  "kernelspec": {
   "display_name": "base",
   "language": "python",
   "name": "python3"
  },
  "language_info": {
   "codemirror_mode": {
    "name": "ipython",
    "version": 3
   },
   "file_extension": ".py",
   "mimetype": "text/x-python",
   "name": "python",
   "nbconvert_exporter": "python",
   "pygments_lexer": "ipython3",
   "version": "3.9.16"
  }
 },
 "nbformat": 4,
 "nbformat_minor": 2
}
