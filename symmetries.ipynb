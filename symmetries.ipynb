{
 "cells": [
  {
   "cell_type": "code",
   "execution_count": null,
   "metadata": {},
   "outputs": [],
   "source": []
  },
  {
   "cell_type": "markdown",
   "metadata": {},
   "source": [
    "# Degeneracies (before checking literature and Zee)"
   ]
  },
  {
   "cell_type": "markdown",
   "metadata": {},
   "source": []
  },
  {
   "cell_type": "code",
   "execution_count": null,
   "metadata": {},
   "outputs": [],
   "source": [
    "#providing a triplet of numbers should yield the degeneracy of the system\n",
    "\n",
    "a,b,c  = 1,2,3\n",
    "\n",
    "#generate permutations for triplet\n",
    "\n",
    "#negate one of the entries\n",
    "\n"
   ]
  },
  {
   "cell_type": "code",
   "execution_count": 123,
   "metadata": {},
   "outputs": [
    {
     "name": "stdout",
     "output_type": "stream",
     "text": [
      "[1. 2. 3. 3.]\n",
      "[-1.  2.  3.  3.]\n",
      "[ 1. -2.  3.  3.]\n",
      "[-1. -2.  3.  3.]\n",
      "[ 1.  2. -3.  3.]\n",
      "[-1.  2. -3.  3.]\n",
      "[ 1. -2. -3.  3.]\n",
      "[-1. -2. -3.  3.]\n",
      "[ 1.  2. -3. -3.]\n",
      "[-1.  2. -3. -3.]\n",
      "[ 1. -2. -3. -3.]\n",
      "[-1. -2. -3. -3.]\n",
      "192.0\n"
     ]
    }
   ],
   "source": [
    "import numpy as np\n",
    "from scipy.special import factorial\n",
    "in_array = abs(np.array([1,2,3]))\n",
    "\n",
    "\n",
    "vals, freq = np.unique(in_array, return_counts=True)\n",
    "\n",
    "degeneracy = 0\n",
    "ongoing = True\n",
    "k = np.unique(in_array, return_counts=True)\n",
    "modes = np.stack(k, axis  = 1) #first entry is number, second freq\n",
    "modes_no_zero = modes[modes[:,0] != 0]\n",
    "\n",
    "\n",
    "flip_rep = [modes[i,1]+1 for i in range(len(modes))  if modes[i,0] != 0 ]\n",
    "\n",
    "flips = int(np.prod(flip_rep))\n",
    "\n",
    "for i in range(flips):\n",
    "    #here use the multibase representation to assign a number to a sign flip.\n",
    "\n",
    "    key = np.array([])\n",
    "    rest = i\n",
    "    digit_value = flips\n",
    "    for k in range(len(flip_rep),0,-1):\n",
    "        digit_value //= flip_rep[k-1]\n",
    "        key = np.append(key, rest//digit_value)\n",
    "        rest = rest%digit_value\n",
    "    key = key[::-1]\n",
    "\n",
    "    new_array = np.array([])\n",
    "    for j in range(len(key)):\n",
    "        flipped = [modes_no_zero[j,0]*(-1)]\n",
    "        non_flipped = [modes_no_zero[j,0]]\n",
    "        new_array = np.append(new_array, flipped*int(key[j])  )\n",
    "        new_array = np.append(new_array, non_flipped*int(modes_no_zero[j,1]-key[j])  )\n",
    "\n",
    "    if len(new_array)<len(in_array):\n",
    "        new_array = np.append(new_array, np.zeros(len(in_array)-len(new_array)))\n",
    "\n",
    "    print(new_array)\n",
    "    new_occurance = np.unique(new_array, return_counts=True)[1]\n",
    "    degeneracy += factorial(len(new_array))/np.product(factorial(new_occurance))\n",
    "\n",
    "print(degeneracy)\n",
    "\n",
    "\n",
    "\n",
    "while ongoing:\n",
    "\n",
    "\n",
    "\n",
    "    #2**()\n",
    "\n",
    "    #1,2,3\n",
    "\n",
    "    #(0,0,0) -> (1,0,0) -> (0,1,0) -> ... -> (1,1,1)\n",
    "\n",
    "    #(2,2,0)\n",
    "\n",
    "    #(0,0,0) -> (1,0,0)  = (0,1,0) -> (1,1,0)\n",
    "\n",
    "    #(0,0)->(1,0)->(2,0)\n",
    "\n",
    "    #overall flips: modes + 1 (excluding 0) and multiplied together\n",
    "\n",
    "    #(3,3,3) --> (3,3) -> 4\n",
    "\n",
    "    #(2,2,1) --> 6\n",
    "\n",
    "\n",
    "\n",
    "\n",
    "\n",
    "\n",
    "    ongoing = False\n",
    "\n"
   ]
  },
  {
   "cell_type": "code",
   "execution_count": 43,
   "metadata": {},
   "outputs": [
    {
     "data": {
      "text/plain": [
       "[45, 2]"
      ]
     },
     "execution_count": 43,
     "metadata": {},
     "output_type": "execute_result"
    }
   ],
   "source": [
    "list(np.array([45,2]))"
   ]
  },
  {
   "cell_type": "code",
   "execution_count": 94,
   "metadata": {},
   "outputs": [
    {
     "name": "stdout",
     "output_type": "stream",
     "text": [
      "[1. 2. 6.]\n"
     ]
    },
    {
     "data": {
      "text/plain": [
       "array([2.        , 1.        , 0.66666667])"
      ]
     },
     "execution_count": 94,
     "metadata": {},
     "output_type": "execute_result"
    }
   ],
   "source": [
    "\n",
    "a = np.array([1,2,3])\n",
    "print(factorial(a))\n",
    "\n",
    "2/a"
   ]
  },
  {
   "cell_type": "code",
   "execution_count": null,
   "metadata": {},
   "outputs": [],
   "source": []
  },
  {
   "cell_type": "markdown",
   "metadata": {},
   "source": [
    "# One Dimensional Zeta function"
   ]
  },
  {
   "cell_type": "code",
   "execution_count": 199,
   "metadata": {},
   "outputs": [],
   "source": [
    "\n",
    "\n",
    "def zeta_1d(x,Xi):\n",
    "\n",
    "    ML = 4\n",
    "    m_tilde = ML/np.pi\n",
    "\n",
    "    vectors = np.arange(-Xi, Xi+1)\n",
    "    vec_sq = vectors**2\n",
    "\n",
    "    return np.sum(1/(vectors-x))/np.sqrt(4*np.pi)\n",
    "\n",
    "\n"
   ]
  },
  {
   "cell_type": "code",
   "execution_count": 200,
   "metadata": {},
   "outputs": [
    {
     "data": {
      "text/plain": [
       "-0.29019810742275953"
      ]
     },
     "execution_count": 200,
     "metadata": {},
     "output_type": "execute_result"
    }
   ],
   "source": [
    "zeta_1d(0.4,100)"
   ]
  },
  {
   "cell_type": "code",
   "execution_count": 203,
   "metadata": {},
   "outputs": [
    {
     "name": "stderr",
     "output_type": "stream",
     "text": [
      "/var/folders/jw/v39ld52d21dg5yc3z5wt296r0000gn/T/ipykernel_81641/369787246.py:9: RuntimeWarning: divide by zero encountered in divide\n",
      "  return np.sum(1/(vectors-x))/np.sqrt(4*np.pi)\n"
     ]
    },
    {
     "data": {
      "image/png": "[encoded data removed]",
      "text/plain": [
       "<Figure size 640x480 with 1 Axes>"
      ]
     },
     "metadata": {},
     "output_type": "display_data"
    }
   ],
   "source": [
    "#plot the graph vs a tangent function\n",
    "\n",
    "import matplotlib.pyplot as plt\n",
    "\n",
    "x = np.linspace(0,10,1000)\n",
    "y = np.array([zeta_1d(i,10) for i in x])\n",
    "\n",
    "plt.plot(x,y)\n",
    "plt.plot(x,np.tan(np.pi*x+np.pi/2))\n",
    "\n",
    "plt.ylim(-10,10)    \n",
    "\n",
    "plt.show()\n"
   ]
  },
  {
   "cell_type": "markdown",
   "metadata": {},
   "source": [
    "$\n",
    "\\frac{1}{0-x}\n",
    "$"
   ]
  },
  {
   "cell_type": "markdown",
   "metadata": {},
   "source": []
  },
  {
   "cell_type": "code",
   "execution_count": 204,
   "metadata": {},
   "outputs": [
    {
     "name": "stdout",
     "output_type": "stream",
     "text": [
      "1.9235384061671346\n"
     ]
    }
   ],
   "source": [
    "A = 3.7\n",
    "\n",
    "s = np.sqrt(3.7)\n",
    "\n",
    "print(s)"
   ]
  },
  {
   "cell_type": "code",
   "execution_count": 205,
   "metadata": {},
   "outputs": [
    {
     "data": {
      "text/plain": [
       "361"
      ]
     },
     "execution_count": 205,
     "metadata": {},
     "output_type": "execute_result"
    }
   ],
   "source": [
    "19*19"
   ]
  },
  {
   "cell_type": "code",
   "execution_count": 206,
   "metadata": {},
   "outputs": [
    {
     "data": {
      "text/plain": [
       "3.6864"
      ]
     },
     "execution_count": 206,
     "metadata": {},
     "output_type": "execute_result"
    }
   ],
   "source": [
    "1.92*1.92"
   ]
  },
  {
   "cell_type": "code",
   "execution_count": 207,
   "metadata": {},
   "outputs": [
    {
     "data": {
      "text/plain": [
       "3.7"
      ]
     },
     "execution_count": 207,
     "metadata": {},
     "output_type": "execute_result"
    }
   ],
   "source": [
    "\n",
    "\n",
    "1.9235384061671346*1.9235384061671346"
   ]
  },
  {
   "cell_type": "code",
   "execution_count": 209,
   "metadata": {},
   "outputs": [
    {
     "name": "stdout",
     "output_type": "stream",
     "text": [
      "[0 0 0 0 0]\n"
     ]
    }
   ],
   "source": []
  },
  {
   "cell_type": "code",
   "execution_count": 219,
   "metadata": {},
   "outputs": [
    {
     "name": "stdout",
     "output_type": "stream",
     "text": [
      "[7, 15, 23, 28, 31, 39, 47, 55, 60, 63, 71, 79, 92, 112, 124, 156, 188, 220, 240, 252, 284, 316, 368, 448, 496, 624, 752, 880, 960, 1008, 1136, 1264, 1472, 1792, 1984, 2496, 3008, 3520, 3840, 4032, 4544, 5056, 5888, 7936, 9984, 12032, 14080, 16128, 18176, 20224]\n"
     ]
    }
   ],
   "source": [
    "\n",
    "\n",
    "f = lambda a,b: 4**a*(8*b+7)\n",
    "\n",
    "nums = np.array([], dtype=int)\n",
    "\n",
    "for a in range(5):\n",
    "    for b in range(10):\n",
    "        nums = np.append(nums, f(a,b))\n",
    "\n",
    "\n",
    "\n",
    "print(sorted(nums))"
   ]
  },
  {
   "cell_type": "code",
   "execution_count": null,
   "metadata": {},
   "outputs": [],
   "source": []
  }
 ],
 "metadata": {
  "kernelspec": {
   "display_name": "base",
   "language": "python",
   "name": "python3"
  },
  "language_info": {
   "codemirror_mode": {
    "name": "ipython",
    "version": 3
   },
   "file_extension": ".py",
   "mimetype": "text/x-python",
   "name": "python",
   "nbconvert_exporter": "python",
   "pygments_lexer": "ipython3",
   "version": "3.9.16"
  }
 },
 "nbformat": 4,
 "nbformat_minor": 2
}
