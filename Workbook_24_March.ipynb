{
 "cells": [
  {
   "cell_type": "code",
   "execution_count": 8,
   "metadata": {},
   "outputs": [
    {
     "name": "stdout",
     "output_type": "stream",
     "text": [
      "The autoreload extension is already loaded. To reload it, use:\n",
      "  %reload_ext autoreload\n"
     ]
    }
   ],
   "source": [
    "from standard_imports import *\n",
    "import os \n",
    "from graph_convergence_gaa_1 import *\n",
    "np.set_printoptions(precision = 15, linewidth=700, suppress=False)\n",
    "%load_ext autoreload\n",
    "%autoreload 2"
   ]
  },
  {
   "cell_type": "code",
   "execution_count": 162,
   "metadata": {},
   "outputs": [],
   "source": [
    "ML = 4\n",
    "d_vec = np.array([1,1,0])\n",
    "\n",
    "a = 2\n",
    "b = 0\n"
   ]
  },
  {
   "cell_type": "code",
   "execution_count": 14,
   "metadata": {},
   "outputs": [
    {
     "name": "stderr",
     "output_type": "stream",
     "text": [
      "  0%|          | 0/10 [00:00<?, ?it/s]"
     ]
    },
    {
     "name": "stdout",
     "output_type": "stream",
     "text": [
      "2 0\n",
      "2 0\n",
      "2 0\n",
      "2 0\n",
      "2 0\n",
      "2 0\n",
      "2 0\n",
      "2 0\n",
      "2 0\n",
      "2 0\n"
     ]
    },
    {
     "name": "stderr",
     "output_type": "stream",
     "text": [
      " 10%|█         | 1/10 [00:05<00:47,  5.28s/it]"
     ]
    },
    {
     "name": "stdout",
     "output_type": "stream",
     "text": [
      "2 0\n",
      "2 0\n",
      "2 0\n",
      "2 0\n",
      "2 0\n",
      "2 0\n",
      "2 0\n",
      "2 0\n",
      "2 0\n",
      "2 0\n"
     ]
    },
    {
     "name": "stderr",
     "output_type": "stream",
     "text": [
      " 20%|██        | 2/10 [00:09<00:38,  4.79s/it]"
     ]
    },
    {
     "name": "stdout",
     "output_type": "stream",
     "text": [
      "2 0\n",
      "2 0\n",
      "2 0\n",
      "2 0\n",
      "2 0\n",
      "2 0\n",
      "2 0\n",
      "2 0\n",
      "2 0\n",
      "2 0\n"
     ]
    },
    {
     "name": "stderr",
     "output_type": "stream",
     "text": [
      " 30%|███       | 3/10 [00:14<00:32,  4.69s/it]"
     ]
    },
    {
     "name": "stdout",
     "output_type": "stream",
     "text": [
      "2 0\n",
      "2 0\n",
      "2 0\n",
      "2 0\n",
      "2 0\n",
      "2 0\n",
      "2 0\n",
      "2 0\n",
      "2 0\n",
      "2 0\n"
     ]
    },
    {
     "name": "stderr",
     "output_type": "stream",
     "text": [
      " 40%|████      | 4/10 [00:19<00:28,  4.76s/it]"
     ]
    },
    {
     "name": "stdout",
     "output_type": "stream",
     "text": [
      "2 0\n",
      "2 0\n",
      "2 0\n",
      "2 0\n",
      "2 0\n",
      "2 0\n",
      "2 0\n",
      "2 0\n",
      "2 0\n",
      "2 0\n"
     ]
    },
    {
     "name": "stderr",
     "output_type": "stream",
     "text": [
      " 50%|█████     | 5/10 [00:24<00:25,  5.07s/it]"
     ]
    },
    {
     "name": "stdout",
     "output_type": "stream",
     "text": [
      "2 0\n",
      "2 0\n",
      "2 0\n",
      "2 0\n",
      "2 0\n",
      "2 0\n",
      "2 0\n",
      "2 0\n",
      "2 0\n",
      "2 0\n"
     ]
    },
    {
     "name": "stderr",
     "output_type": "stream",
     "text": [
      " 60%|██████    | 6/10 [00:29<00:20,  5.03s/it]"
     ]
    },
    {
     "name": "stdout",
     "output_type": "stream",
     "text": [
      "2 0\n",
      "2 0\n",
      "2 0\n",
      "2 0\n",
      "2 0\n",
      "2 0\n",
      "2 0\n",
      "2 0\n",
      "2 0\n",
      "2 0\n"
     ]
    },
    {
     "name": "stderr",
     "output_type": "stream",
     "text": [
      " 70%|███████   | 7/10 [00:35<00:16,  5.35s/it]"
     ]
    },
    {
     "name": "stdout",
     "output_type": "stream",
     "text": [
      "2 0\n",
      "2 0\n",
      "2 0\n",
      "2 0\n",
      "2 0\n",
      "2 0\n",
      "2 0\n",
      "2 0\n",
      "2 0\n",
      "2 0\n"
     ]
    },
    {
     "name": "stderr",
     "output_type": "stream",
     "text": [
      " 80%|████████  | 8/10 [00:40<00:10,  5.27s/it]"
     ]
    },
    {
     "name": "stdout",
     "output_type": "stream",
     "text": [
      "2 0\n",
      "2 0\n",
      "2 0\n",
      "2 0\n",
      "2 0\n",
      "2 0\n",
      "2 0\n",
      "2 0\n",
      "2 0\n",
      "2 0\n"
     ]
    },
    {
     "name": "stderr",
     "output_type": "stream",
     "text": [
      " 90%|█████████ | 9/10 [00:46<00:05,  5.24s/it]"
     ]
    },
    {
     "name": "stdout",
     "output_type": "stream",
     "text": [
      "2 0\n",
      "2 0\n",
      "2 0\n",
      "2 0\n",
      "2 0\n",
      "2 0\n",
      "2 0\n",
      "2 0\n",
      "2 0\n",
      "2 0\n"
     ]
    },
    {
     "name": "stderr",
     "output_type": "stream",
     "text": [
      "100%|██████████| 10/10 [00:51<00:00,  5.18s/it]\n"
     ]
    },
    {
     "data": {
      "image/png": "[encoded data removed]",
      "text/plain": [
       "<Figure size 640x480 with 2 Axes>"
      ]
     },
     "metadata": {},
     "output_type": "display_data"
    }
   ],
   "source": [
    "zeros = np.load(file_location(d_vec, ML))['zeros']\n",
    "d_vec = np.array([1,0,0])\n",
    "x = zeros[0]\n",
    "\n",
    "\n",
    "resolution = 10\n",
    "alpha = np.logspace(-1,-7,resolution)\n",
    "cutoff = np.logspace(1,5, resolution)\n",
    "\n",
    "A, C = np.meshgrid(alpha, cutoff, indexing='ij')\n",
    "Z = np.zeros_like(A)\n",
    "for i in tqdm(range(len(A))):\n",
    "    for j in range(len(C)):\n",
    "        Z[i,j] = limiting(a,b, d_vec, x, A[i,j],C[i,j],ML)\n",
    "        #derivative(1, d_vec, x, A[i,j],C[i,j],ML) #limiting(a,b,d_vec, x, A[i,j], C[i,j], ML)\n",
    "\n",
    "\n",
    "\n",
    "#extent = (np.log10(np.min(A)), np.log10(np.max(A)), np.log10(np.min(C)), np.log10(np.max(C)))\n",
    "\n",
    "#plt.imshow(np.log10(102.83955351102952-Z), extent=extent, origin='lower', aspect='auto')\n",
    "\n",
    "plt.contourf(np.log10(A), np.log10(C), Z, levels=30)\n",
    "plt.colorbar()\n",
    "\n",
    "plt.plot()\n",
    "plt.show()\n",
    "\n"
   ]
  },
  {
   "cell_type": "code",
   "execution_count": 27,
   "metadata": {},
   "outputs": [
    {
     "data": {
      "text/plain": [
       "28.105936544624917"
      ]
     },
     "execution_count": 27,
     "metadata": {},
     "output_type": "execute_result"
    }
   ],
   "source": [
    "\n",
    "g_ab_large(2,0, d_vec, x, 1e6, 0, ML)"
   ]
  },
  {
   "cell_type": "code",
   "execution_count": 62,
   "metadata": {},
   "outputs": [],
   "source": [
    "def deriv_tolarence(d_vec, ML, iterations):\n",
    "    \n",
    "    x = np.load(file_location(d_vec, ML))['zeros'][0]\n",
    "    alpha = 0.01\n",
    "    cutoff = 1e4\n",
    "    value = derivative(1, d_vec, x, alpha, cutoff, ML )\n",
    "    returned_value = value\n",
    "    increasing_cut = True\n",
    "    tolerence = 1e-4\n",
    "    # results = np.array([])\n",
    "    # cutoffs = np.array([])\n",
    "    # alphas = np.array([])\n",
    "    for i in range(iterations):\n",
    "        if increasing_cut:\n",
    "            cutoff = cutoff*1.5\n",
    "            print('new ',cutoff)\n",
    "            value_tmp = derivative(1, d_vec, x, alpha, cutoff, ML )\n",
    "            if np.abs(value_tmp-value) < tolerence:\n",
    "                increasing_cut = False\n",
    "                # results = np.append(results, value_tmp)\n",
    "                # cutoffs = np.append(cutoffs, cutoff)\n",
    "                # alphas = np.append(alphas, alpha)\n",
    "                returned_value = value_tmp\n",
    "            value = value_tmp\n",
    "        else:\n",
    "            alpha = alpha/1.5\n",
    "            print('new ',alpha)\n",
    "            value_tmp = derivative(1, d_vec, x, alpha, cutoff, ML )\n",
    "            if np.abs(value_tmp-value) > tolerence:\n",
    "                increasing_cut = True\n",
    "\n",
    "    return returned_value, cutoff, alpha #results, cutoffs, alphas"
   ]
  },
  {
   "cell_type": "code",
   "execution_count": 257,
   "metadata": {},
   "outputs": [
    {
     "name": "stdout",
     "output_type": "stream",
     "text": [
      "0.6439411865305936\n"
     ]
    },
    {
     "name": "stderr",
     "output_type": "stream",
     "text": [
      "  0%|          | 0/8 [00:00<?, ?it/s]"
     ]
    },
    {
     "name": "stderr",
     "output_type": "stream",
     "text": [
      "100%|██████████| 8/8 [03:00<00:00, 22.55s/it]\n"
     ]
    }
   ],
   "source": [
    "ML = 4\n",
    "d_vec = np.array([1,0,0])\n",
    "\n",
    "zeros = np.load(file_location(d_vec, ML))['zeros']\n",
    "x = zeros[0]\n",
    "\n",
    "print(x)\n",
    "\n",
    "a = 1\n",
    "b = 0\n",
    "\n",
    "resolution = 8\n",
    "alpha = np.logspace(-2,-4,resolution)\n",
    "cutoff = np.logspace(2,5.7, resolution)\n",
    "\n",
    "A, C = np.meshgrid(alpha, cutoff, indexing='xy')\n",
    "Z = np.zeros_like(A)\n",
    "for i in tqdm(range(len(A))):\n",
    "    for j in range(len(C)):\n",
    "        Z[i,j] = limiting(a,b, d_vec, x, A[i,j],C[i,j],ML)"
   ]
  },
  {
   "cell_type": "code",
   "execution_count": 269,
   "metadata": {},
   "outputs": [
    {
     "name": "stderr",
     "output_type": "stream",
     "text": [
      "/var/folders/jw/v39ld52d21dg5yc3z5wt296r0000gn/T/ipykernel_1150/548847680.py:1: RuntimeWarning: divide by zero encountered in log10\n",
      "  plt.contourf(np.log10(A), np.log10(C), np.log10(np.abs(Z-51.12292830023085)), levels=30)\n"
     ]
    },
    {
     "data": {
      "image/png": "[encoded data removed]",
      "text/plain": [
       "<Figure size 640x480 with 2 Axes>"
      ]
     },
     "metadata": {},
     "output_type": "display_data"
    }
   ],
   "source": [
    "\n",
    "plt.contourf(np.log10(A), np.log10(C), np.log10(np.abs(Z-51.12292830023085)), levels=30)\n",
    "\n",
    "plt.plot(np.log10(alpha), -np.log10(alpha) +1.6,'--', color = 'black',  label ='y = -x + 1.6')\n",
    "plt.colorbar()\n",
    "\n",
    "plt.ylim(min(np.log10(cutoff)),max(np.log10(cutoff)))\n",
    "plt.legend()\n",
    "plt.xlabel('$\\log_{{10}}(\\\\alpha)$')\n",
    "plt.ylabel('$\\log_{{10}}(\\Xi^2)$')\n",
    "plt.plot()\n",
    "plt.show()"
   ]
  },
  {
   "cell_type": "code",
   "execution_count": 195,
   "metadata": {},
   "outputs": [
    {
     "data": {
      "text/plain": [
       "100.2652826856679"
      ]
     },
     "execution_count": 195,
     "metadata": {},
     "output_type": "execute_result"
    }
   ],
   "source": [
    "limiting(a,b, d_vec, x, 1e-10, 5e4,ML)"
   ]
  },
  {
   "cell_type": "code",
   "execution_count": 273,
   "metadata": {},
   "outputs": [
    {
     "data": {
      "text/plain": [
       "(array([13.989602486300406]),\n",
       " array([[ 0.               ,  0.               ],\n",
       "        [51.1229283002286  , 10.337769862790026]]))"
      ]
     },
     "execution_count": 273,
     "metadata": {},
     "output_type": "execute_result"
    }
   ],
   "source": [
    "derivative(1, d_vec, x, 1e-4, 5e5,ML)"
   ]
  },
  {
   "cell_type": "code",
   "execution_count": 298,
   "metadata": {},
   "outputs": [],
   "source": [
    "d_vec = np.array([1,0,0])\n",
    "zeros = np.load(file_location(d_vec, ML))['zeros']\n",
    "x = np.round(zeros[1],7)"
   ]
  },
  {
   "cell_type": "code",
   "execution_count": 301,
   "metadata": {},
   "outputs": [
    {
     "data": {
      "text/plain": [
       "(array([27.79663862775118, 24.16129853142814]),\n",
       " array([[  0.               ,   0.               ,   0.               ],\n",
       "        [101.95405859790091 ,  75.91392857428798 ,   0.               ],\n",
       "        [ 55.005813857628304, 159.57029198963775 , 363.1570607203235  ]]))"
      ]
     },
     "execution_count": 301,
     "metadata": {},
     "output_type": "execute_result"
    }
   ],
   "source": [
    "derivative(2, d_vec, x, 1e-4, 5e5,ML)"
   ]
  },
  {
   "cell_type": "code",
   "execution_count": null,
   "metadata": {},
   "outputs": [],
   "source": [
    "27.796638626681"
   ]
  },
  {
   "cell_type": "code",
   "execution_count": 259,
   "metadata": {},
   "outputs": [
    {
     "name": "stdout",
     "output_type": "stream",
     "text": [
      "[[50.972317722188045 50.80012347551387  50.598061940739115 50.40099554926572  50.22877315558281  50.08800216331651  49.97767261892048  49.89351570939271 ]\n",
      " [51.11870394935363  51.093777673191966 51.03029911300737  50.933378195688036 50.823234277608115 50.71782401769589  50.62674481962868  50.55282070870844 ]\n",
      " [51.12292767487211  51.12278357665943  51.1197437770317   51.103704151906584 51.066305612657445 51.012057956955864 50.9522144952696   50.89593688843617 ]\n",
      " [51.12292830020665  51.12292830009771  51.122927369359424 51.12278863857325  51.12051627923459  51.110198939167574 51.08817313152     51.05781042011919 ]\n",
      " [51.122928300206645 51.122928300218405 51.12292830022451  51.122928299875745 51.122927001359145 51.12279885313611  51.12114306018897  51.11460804642886 ]\n",
      " [51.122928300206645 51.122928300218405 51.12292830022451  51.12292830022765  51.12292830022926  51.122928299324435 51.12292661650155  51.1228131932226  ]\n",
      " [51.122928300206645 51.122928300218405 51.12292830022451  51.12292830022765  51.12292830022926  51.12292830023015  51.12292830023053  51.12292829817879 ]\n",
      " [51.122928300206645 51.122928300218405 51.12292830022451  51.12292830022765  51.12292830022926  51.12292830023015  51.12292830023053  51.12292830023085 ]]\n"
     ]
    }
   ],
   "source": [
    "print(Z)\n"
   ]
  },
  {
   "cell_type": "code",
   "execution_count": 241,
   "metadata": {},
   "outputs": [
    {
     "name": "stdout",
     "output_type": "stream",
     "text": [
      "[[1.0000000000000000e-02 3.7275937203149418e-03 1.3894954943731374e-03 5.1794746792312130e-04 1.9306977288832496e-04 7.1968567300115290e-05 2.6826957952797274e-05 1.0000000000000001e-05]\n",
      " [1.0000000000000000e-02 3.7275937203149418e-03 1.3894954943731374e-03 5.1794746792312130e-04 1.9306977288832496e-04 7.1968567300115290e-05 2.6826957952797274e-05 1.0000000000000001e-05]\n",
      " [1.0000000000000000e-02 3.7275937203149418e-03 1.3894954943731374e-03 5.1794746792312130e-04 1.9306977288832496e-04 7.1968567300115290e-05 2.6826957952797274e-05 1.0000000000000001e-05]\n",
      " [1.0000000000000000e-02 3.7275937203149418e-03 1.3894954943731374e-03 5.1794746792312130e-04 1.9306977288832496e-04 7.1968567300115290e-05 2.6826957952797274e-05 1.0000000000000001e-05]\n",
      " [1.0000000000000000e-02 3.7275937203149418e-03 1.3894954943731374e-03 5.1794746792312130e-04 1.9306977288832496e-04 7.1968567300115290e-05 2.6826957952797274e-05 1.0000000000000001e-05]\n",
      " [1.0000000000000000e-02 3.7275937203149418e-03 1.3894954943731374e-03 5.1794746792312130e-04 1.9306977288832496e-04 7.1968567300115290e-05 2.6826957952797274e-05 1.0000000000000001e-05]\n",
      " [1.0000000000000000e-02 3.7275937203149418e-03 1.3894954943731374e-03 5.1794746792312130e-04 1.9306977288832496e-04 7.1968567300115290e-05 2.6826957952797274e-05 1.0000000000000001e-05]\n",
      " [1.0000000000000000e-02 3.7275937203149418e-03 1.3894954943731374e-03 5.1794746792312130e-04 1.9306977288832496e-04 7.1968567300115290e-05 2.6826957952797274e-05 1.0000000000000001e-05]]\n"
     ]
    }
   ],
   "source": [
    "print(A)"
   ]
  },
  {
   "cell_type": "code",
   "execution_count": 242,
   "metadata": {},
   "outputs": [
    {
     "name": "stdout",
     "output_type": "stream",
     "text": [
      "[[1.0000000000000000e+02 1.0000000000000000e+02 1.0000000000000000e+02 1.0000000000000000e+02 1.0000000000000000e+02 1.0000000000000000e+02 1.0000000000000000e+02 1.0000000000000000e+02]\n",
      " [2.7724079967417731e+02 2.7724079967417731e+02 2.7724079967417731e+02 2.7724079967417731e+02 2.7724079967417731e+02 2.7724079967417731e+02 2.7724079967417731e+02 2.7724079967417731e+02]\n",
      " [7.6862461003977376e+02 7.6862461003977376e+02 7.6862461003977376e+02 7.6862461003977376e+02 7.6862461003977376e+02 7.6862461003977376e+02 7.6862461003977376e+02 7.6862461003977376e+02]\n",
      " [2.1309410153667955e+03 2.1309410153667955e+03 2.1309410153667955e+03 2.1309410153667955e+03 2.1309410153667955e+03 2.1309410153667955e+03 2.1309410153667955e+03 2.1309410153667955e+03]\n",
      " [5.9078379115879434e+03 5.9078379115879434e+03 5.9078379115879434e+03 5.9078379115879434e+03 5.9078379115879434e+03 5.9078379115879434e+03 5.9078379115879434e+03 5.9078379115879434e+03]\n",
      " [1.6378937069540612e+04 1.6378937069540612e+04 1.6378937069540612e+04 1.6378937069540612e+04 1.6378937069540612e+04 1.6378937069540612e+04 1.6378937069540612e+04 1.6378937069540612e+04]\n",
      " [4.5409096109724698e+04 4.5409096109724698e+04 4.5409096109724698e+04 4.5409096109724698e+04 4.5409096109724698e+04 4.5409096109724698e+04 4.5409096109724698e+04 4.5409096109724698e+04]\n",
      " [1.2589254117941661e+05 1.2589254117941661e+05 1.2589254117941661e+05 1.2589254117941661e+05 1.2589254117941661e+05 1.2589254117941661e+05 1.2589254117941661e+05 1.2589254117941661e+05]]\n"
     ]
    }
   ],
   "source": [
    "print(C)"
   ]
  },
  {
   "cell_type": "code",
   "execution_count": 92,
   "metadata": {},
   "outputs": [
    {
     "data": {
      "text/plain": [
       "4.0576173674367055e-06"
      ]
     },
     "execution_count": 92,
     "metadata": {},
     "output_type": "execute_result"
    }
   ],
   "source": [
    "36.15078745794372 - 36.150783400326354"
   ]
  },
  {
   "cell_type": "code",
   "execution_count": 60,
   "metadata": {},
   "outputs": [
    {
     "data": {
      "text/plain": [
       "0.003975514069360031"
      ]
     },
     "execution_count": 60,
     "metadata": {},
     "output_type": "execute_result"
    }
   ],
   "source": [
    "36.1507875785595-36.14681206449014"
   ]
  },
  {
   "cell_type": "code",
   "execution_count": 58,
   "metadata": {},
   "outputs": [
    {
     "data": {
      "text/plain": [
       "-0.0060105436923976185"
      ]
     },
     "execution_count": 58,
     "metadata": {},
     "output_type": "execute_result"
    }
   ],
   "source": [
    "36.140801520797744 -36.14681206449014"
   ]
  },
  {
   "cell_type": "code",
   "execution_count": 166,
   "metadata": {},
   "outputs": [
    {
     "data": {
      "text/plain": [
       "-0.0010212308397967718"
      ]
     },
     "execution_count": 166,
     "metadata": {},
     "output_type": "execute_result"
    }
   ],
   "source": [
    "17.015216260589114 -   17.01623749142891"
   ]
  },
  {
   "cell_type": "code",
   "execution_count": 109,
   "metadata": {},
   "outputs": [
    {
     "name": "stdout",
     "output_type": "stream",
     "text": [
      "[[ 10000.              10000.              10000.              10000.              10000.              10000.            ]\n",
      " [ 21877.616239495517  21877.616239495517  21877.616239495517  21877.616239495517  21877.616239495517  21877.616239495517]\n",
      " [ 47863.0092322638    47863.0092322638    47863.0092322638    47863.0092322638    47863.0092322638    47863.0092322638  ]\n",
      " [104712.85480508985  104712.85480508985  104712.85480508985  104712.85480508985  104712.85480508985  104712.85480508985 ]\n",
      " [229086.76527677747  229086.76527677747  229086.76527677747  229086.76527677747  229086.76527677747  229086.76527677747 ]\n",
      " [501187.2336272725   501187.2336272725   501187.2336272725   501187.2336272725   501187.2336272725   501187.2336272725  ]]\n"
     ]
    }
   ],
   "source": [
    "print(C)"
   ]
  },
  {
   "cell_type": "code",
   "execution_count": 167,
   "metadata": {},
   "outputs": [
    {
     "name": "stdout",
     "output_type": "stream",
     "text": [
      "[[0.01              0.003981071705535 0.001584893192461 0.00063095734448  0.000251188643151 0.0001           ]\n",
      " [0.01              0.003981071705535 0.001584893192461 0.00063095734448  0.000251188643151 0.0001           ]\n",
      " [0.01              0.003981071705535 0.001584893192461 0.00063095734448  0.000251188643151 0.0001           ]\n",
      " [0.01              0.003981071705535 0.001584893192461 0.00063095734448  0.000251188643151 0.0001           ]\n",
      " [0.01              0.003981071705535 0.001584893192461 0.00063095734448  0.000251188643151 0.0001           ]\n",
      " [0.01              0.003981071705535 0.001584893192461 0.00063095734448  0.000251188643151 0.0001           ]]\n"
     ]
    }
   ],
   "source": [
    "print(A)"
   ]
  },
  {
   "cell_type": "markdown",
   "metadata": {},
   "source": [
    "# Try to fit line to boundary region\n"
   ]
  },
  {
   "cell_type": "code",
   "execution_count": 127,
   "metadata": {},
   "outputs": [
    {
     "name": "stderr",
     "output_type": "stream",
     "text": [
      "  0%|          | 0/10 [00:00<?, ?it/s]"
     ]
    },
    {
     "name": "stderr",
     "output_type": "stream",
     "text": [
      "100%|██████████| 10/10 [00:23<00:00,  2.37s/it]\n"
     ]
    }
   ],
   "source": [
    "a = 1\n",
    "b = 1\n",
    "\n",
    "resolution = 10\n",
    "alpha = np.logspace(-1,-3,resolution)\n",
    "cutoff = np.logspace(2,4, resolution)\n",
    "\n",
    "A, C = np.meshgrid(alpha, cutoff, indexing='xy')\n",
    "Z = np.zeros_like(A)\n",
    "for i in tqdm(range(len(A))):\n",
    "    for j in range(len(C)):\n",
    "        Z[i,j] = limiting(a,b, d_vec, x, A[i,j],C[i,j],ML)"
   ]
  },
  {
   "cell_type": "code",
   "execution_count": 159,
   "metadata": {},
   "outputs": [
    {
     "name": "stderr",
     "output_type": "stream",
     "text": [
      "/var/folders/jw/v39ld52d21dg5yc3z5wt296r0000gn/T/ipykernel_78881/1043979193.py:5: RuntimeWarning: invalid value encountered in log\n",
      "  plt.contourf(np.log10(A), np.log10(C), np.log(Z- Z[-1,:]+1e-6), levels=100)\n"
     ]
    },
    {
     "data": {
      "image/png": "[encoded data removed]",
      "text/plain": [
       "<Figure size 640x480 with 2 Axes>"
      ]
     },
     "metadata": {},
     "output_type": "display_data"
    }
   ],
   "source": [
    "plt.plot(np.log10(alpha), -np.log10(alpha) + 1.43)\n",
    "\n",
    "\n",
    "\n",
    "plt.contourf(np.log10(A), np.log10(C), np.log(Z- Z[-1,:]+1e-6), levels=100)\n",
    "plt.colorbar()\n",
    "\n",
    "plt.ylim(2,4)\n",
    "\n",
    "plt.show()"
   ]
  },
  {
   "cell_type": "code",
   "execution_count": 142,
   "metadata": {},
   "outputs": [
    {
     "name": "stdout",
     "output_type": "stream",
     "text": [
      "[[-7.730932123735101e-04 -3.125307498562790e-02 -3.632326203929210e-01 -1.917147492666977e+00 -6.160295164259075e+00 -1.448883993466148e+01 -2.796161948611854e+01 -4.751816506016905e+01 -7.430214170814224e+01 -1.098951200267536e+02]\n",
      " [-2.369427399173674e-06 -8.291928592676356e-04 -3.684109282336578e-02 -4.471027311903697e-01 -2.408655603718756e+00 -7.820922905683496e+00 -1.850141564232028e+01 -3.582950019679332e+01 -6.102437433963306e+01 -9.555948563574496e+01]\n",
      " [-1.668993832026899e-10 -2.236222311324809e-06 -9.275244295849916e-04 -4.450679993790629e-02 -5.584747005520683e-01 -3.054288586590303e+00 -9.990216037063902e+00 -2.372534862731978e+01 -4.604979316824627e+01 -7.853692451658041e+01]\n",
      " [ 3.552713678800501e-15 -1.877680233519641e-10 -2.747139333791893e-06 -1.183335444338240e-03 -5.746041253620859e-02 -7.228667136698022e-01 -3.952937125464814e+00 -1.292154310147735e+01 -3.066969200742531e+01 -5.950009538630907e+01]\n",
      " [ 3.552713678800501e-15  0.000000000000000e+00 -2.024762579821981e-10 -3.267660204642198e-06 -1.472759774081567e-03 -7.290650210494221e-02 -9.249202674897958e-01 -5.077812388662650e+00 -1.663211398915412e+01 -3.951635768467423e+01]\n",
      " [ 3.552713678800501e-15  3.552713678800501e-15  0.000000000000000e+00 -2.413855781924212e-10 -4.107752168636125e-06 -1.889302883213873e-03 -9.411490706177972e-02 -1.195723887960654e+00 -6.564858400303734e+00 -2.149223959289708e+01]\n",
      " [ 3.552713678800501e-15  7.105427357601002e-15  0.000000000000000e+00  7.105427357601002e-15 -2.822559963533422e-10 -5.095780906572145e-06 -2.398423517050219e-03 -1.205729593770997e-01 -1.537813135989239e+00 -8.453198936988599e+00]\n",
      " [ 3.552713678800501e-15  0.000000000000000e+00  0.000000000000000e+00  7.105427357601002e-15 -7.105427357601002e-15 -3.569624595911591e-10 -6.552682037863633e-06 -3.099922847823677e-03 -1.559785259276794e-01 -1.983992253001816e+00]\n",
      " [ 3.552713678800501e-15  0.000000000000000e+00  0.000000000000000e+00  7.105427357601002e-15  7.105427357601002e-15 -1.421085471520200e-14 -4.419149490786367e-10 -8.314059314784572e-06 -3.960734075803884e-03 -1.955169649253605e-01]\n",
      " [ 0.000000000000000e+00  0.000000000000000e+00  0.000000000000000e+00  0.000000000000000e+00  0.000000000000000e+00  0.000000000000000e+00  0.000000000000000e+00  0.000000000000000e+00  0.000000000000000e+00  0.000000000000000e+00]]\n"
     ]
    }
   ],
   "source": [
    "print(Z- Z[-1,:])"
   ]
  },
  {
   "cell_type": "code",
   "execution_count": 139,
   "metadata": {},
   "outputs": [
    {
     "name": "stdout",
     "output_type": "stream",
     "text": [
      "[10.607707480852437 10.499484990898772 10.434607312641251 10.395714166328602 10.37239833766882  10.358420865604138 10.350041591242089 10.34501834766644  10.341996273876703 10.335072364090536]\n"
     ]
    }
   ],
   "source": [
    "print(Z[-1,:])"
   ]
  },
  {
   "cell_type": "code",
   "execution_count": 161,
   "metadata": {},
   "outputs": [
    {
     "name": "stdout",
     "output_type": "stream",
     "text": [
      "269153.48039269156\n"
     ]
    }
   ],
   "source": [
    "print(10**(1.43)/1e-4)"
   ]
  },
  {
   "cell_type": "code",
   "execution_count": 202,
   "metadata": {},
   "outputs": [
    {
     "data": {
      "text/plain": [
       "(array([  742.9735753395449, -1268.874267474484 ]),\n",
       " array([[     0.             ,      0.             ,      0.             ],\n",
       "        [  2673.7269029621293,   1597.6994574842893,      0.             ],\n",
       "        [ -3129.3892044513323, -17691.307448508003 , -17228.10530012971  ]]))"
      ]
     },
     "execution_count": 202,
     "metadata": {},
     "output_type": "execute_result"
    }
   ],
   "source": [
    "derivative(2, d_vec, x, 1e-4, 1e4, ML)"
   ]
  },
  {
   "cell_type": "code",
   "execution_count": 302,
   "metadata": {},
   "outputs": [
    {
     "name": "stdout",
     "output_type": "stream",
     "text": [
      "4\n",
      "4\n",
      "Next  [0 0 0]\n"
     ]
    },
    {
     "name": "stderr",
     "output_type": "stream",
     "text": [
      "100%|██████████| 15/15 [00:32<00:00,  2.20s/it]\n"
     ]
    }
   ],
   "source": [
    "from derivativeintensive import *"
   ]
  },
  {
   "cell_type": "code",
   "execution_count": 212,
   "metadata": {},
   "outputs": [],
   "source": [
    "alpha = 1e-4\n",
    "cutoff = 5e4"
   ]
  },
  {
   "cell_type": "code",
   "execution_count": null,
   "metadata": {},
   "outputs": [],
   "source": []
  },
  {
   "cell_type": "code",
   "execution_count": 213,
   "metadata": {},
   "outputs": [
    {
     "name": "stderr",
     "output_type": "stream",
     "text": [
      "  0%|          | 0/15 [00:00<?, ?it/s]"
     ]
    },
    {
     "name": "stderr",
     "output_type": "stream",
     "text": [
      "100%|██████████| 15/15 [02:31<00:00, 10.13s/it]\n"
     ]
    },
    {
     "data": {
      "text/plain": [
       "(array([[ 3.418777118647069e+01,  1.087568244938529e+02],\n",
       "        [ 3.555404322597755e+01,  2.161510699091480e+01],\n",
       "        [ 3.976097955776023e+01, -6.091575229247137e+01],\n",
       "        [ 1.744895782012014e+02,  1.908866697238783e+03],\n",
       "        [ 3.663587577340567e+01,  4.726346768283859e+01],\n",
       "        [ 1.487142508000423e+02,  2.401091363075075e+03],\n",
       "        [ 2.563917399643717e+01, -1.655477624404737e+01],\n",
       "        [ 2.615234422082273e+02, -4.624321382043137e+03],\n",
       "        [ 9.926752138163867e+01, -2.933698315143403e+02],\n",
       "        [ 7.423759884140883e+02, -1.268660754565067e+03],\n",
       "        [ 1.508270766159284e+02,  3.676371679205092e+02],\n",
       "        [ 1.541302014269376e+02,  2.228447827506162e+02],\n",
       "        [ 2.022253810303363e+01,  1.007198981402171e+01],\n",
       "        [ 1.094974182332861e+02, -5.623184571391811e+02],\n",
       "        [ 3.078585186565317e+03,  6.904793988801460e+04]]),\n",
       " {'d_vec': array([2, 0, 0]),\n",
       "  'ML': 4,\n",
       "  'n_max': 2,\n",
       "  'cutoffs': 50000.0,\n",
       "  'alpha': 0.0001},\n",
       " array([0.2483702, 0.7248122, 1.256776 , 1.9012171, 2.3896478, 3.0340277, 3.4723377, 4.0761681, 4.5207114, 4.9183471, 5.2292658, 5.630259 , 6.8823551, 7.7384732, 8.0283856]))"
      ]
     },
     "execution_count": 213,
     "metadata": {},
     "output_type": "execute_result"
    }
   ],
   "source": [
    "derivative_directory(d_vec, ML, 2, alpha, cutoff)"
   ]
  },
  {
   "cell_type": "code",
   "execution_count": 10,
   "metadata": {},
   "outputs": [],
   "source": [
    "def load_last_npz(directory, file_name):\n",
    "    base_path = os.path.join(directory,file_name)\n",
    "    filename = f\"{base_path}_{{}}.npz\"\n",
    "    counter = 0\n",
    "    while os.path.exists(filename.format(counter)):\n",
    "        counter += 1\n",
    "    \n",
    "    counter -= 1\n",
    "    print(f\"Loading {filename.format(counter)}\")\n",
    "    return np.load(filename.format(counter), allow_pickle=True)"
   ]
  },
  {
   "cell_type": "code",
   "execution_count": 14,
   "metadata": {},
   "outputs": [],
   "source": []
  },
  {
   "cell_type": "code",
   "execution_count": 1,
   "metadata": {},
   "outputs": [
    {
     "name": "stdout",
     "output_type": "stream",
     "text": [
      "4\n",
      "0\n",
      "Next  [0 0 0]\n"
     ]
    },
    {
     "ename": "FileNotFoundError",
     "evalue": "[Errno 2] No such file or directory: 'roots_zeta/ML_0/d_000/data.npz'",
     "output_type": "error",
     "traceback": [
      "\u001b[0;31m---------------------------------------------------------------------------\u001b[0m",
      "\u001b[0;31mFileNotFoundError\u001b[0m                         Traceback (most recent call last)",
      "Cell \u001b[0;32mIn[1], line 1\u001b[0m\n\u001b[0;32m----> 1\u001b[0m \u001b[38;5;28;01mfrom\u001b[39;00m \u001b[38;5;21;01mderivativeintensive\u001b[39;00m \u001b[38;5;28;01mimport\u001b[39;00m \u001b[38;5;241m*\u001b[39m\n",
      "File \u001b[0;32m~/Library/CloudStorage/OneDrive-UniversityofEdinburgh/MPhys project/Code/MPhys-Code/derivativeintensive.py:137\u001b[0m\n\u001b[1;32m    130\u001b[0m     plot_nice(q_derivatives,accurate_deriv, asymptotes, zeros, d_vec )\n\u001b[1;32m    133\u001b[0m     plt\u001b[38;5;241m.\u001b[39mshow()\n\u001b[0;32m--> 137\u001b[0m \u001b[43mmain\u001b[49m\u001b[43m(\u001b[49m\u001b[43m)\u001b[49m\n",
      "File \u001b[0;32m~/Library/CloudStorage/OneDrive-UniversityofEdinburgh/MPhys project/Code/MPhys-Code/derivativeintensive.py:86\u001b[0m, in \u001b[0;36mmain\u001b[0;34m()\u001b[0m\n\u001b[1;32m     84\u001b[0m d_vec \u001b[38;5;241m=\u001b[39m ds[i]\n\u001b[1;32m     85\u001b[0m \u001b[38;5;28mprint\u001b[39m(\u001b[38;5;124m'\u001b[39m\u001b[38;5;124mNext \u001b[39m\u001b[38;5;124m'\u001b[39m, ds[i])\n\u001b[0;32m---> 86\u001b[0m \u001b[43mderivative_directory\u001b[49m\u001b[43m(\u001b[49m\u001b[43md_vec\u001b[49m\u001b[43m,\u001b[49m\u001b[43m \u001b[49m\u001b[43mML\u001b[49m\u001b[43m,\u001b[49m\u001b[43m \u001b[49m\u001b[43mn_max\u001b[49m\u001b[43m,\u001b[49m\u001b[43m \u001b[49m\u001b[43malpha\u001b[49m\u001b[43m,\u001b[49m\u001b[43m \u001b[49m\u001b[43mcutoff\u001b[49m\u001b[43m)\u001b[49m\n",
      "File \u001b[0;32m~/Library/CloudStorage/OneDrive-UniversityofEdinburgh/MPhys project/Code/MPhys-Code/derivativeintensive.py:17\u001b[0m, in \u001b[0;36mderivative_directory\u001b[0;34m(d_vec, ML, n_max, alpha, cutoff)\u001b[0m\n\u001b[1;32m     16\u001b[0m \u001b[38;5;28;01mdef\u001b[39;00m \u001b[38;5;21mderivative_directory\u001b[39m(d_vec, ML, n_max, alpha, cutoff):\n\u001b[0;32m---> 17\u001b[0m     data \u001b[38;5;241m=\u001b[39m \u001b[43mnp\u001b[49m\u001b[38;5;241;43m.\u001b[39;49m\u001b[43mload\u001b[49m\u001b[43m(\u001b[49m\u001b[43mfile_location\u001b[49m\u001b[43m(\u001b[49m\u001b[43md_vec\u001b[49m\u001b[43m,\u001b[49m\u001b[43m \u001b[49m\u001b[43mML\u001b[49m\u001b[43m)\u001b[49m\u001b[43m)\u001b[49m\n\u001b[1;32m     18\u001b[0m     zeros \u001b[38;5;241m=\u001b[39m data[\u001b[38;5;124m'\u001b[39m\u001b[38;5;124mzeros\u001b[39m\u001b[38;5;124m'\u001b[39m]\n\u001b[1;32m     19\u001b[0m     zeros  \u001b[38;5;241m=\u001b[39m np\u001b[38;5;241m.\u001b[39mround(zeros, \u001b[38;5;241m7\u001b[39m) \u001b[38;5;66;03m#take same precision as in main paper\u001b[39;00m\n",
      "File \u001b[0;32m~/opt/anaconda3/lib/python3.9/site-packages/numpy/lib/npyio.py:405\u001b[0m, in \u001b[0;36mload\u001b[0;34m(file, mmap_mode, allow_pickle, fix_imports, encoding, max_header_size)\u001b[0m\n\u001b[1;32m    403\u001b[0m     own_fid \u001b[38;5;241m=\u001b[39m \u001b[38;5;28;01mFalse\u001b[39;00m\n\u001b[1;32m    404\u001b[0m \u001b[38;5;28;01melse\u001b[39;00m:\n\u001b[0;32m--> 405\u001b[0m     fid \u001b[38;5;241m=\u001b[39m stack\u001b[38;5;241m.\u001b[39menter_context(\u001b[38;5;28;43mopen\u001b[39;49m\u001b[43m(\u001b[49m\u001b[43mos_fspath\u001b[49m\u001b[43m(\u001b[49m\u001b[43mfile\u001b[49m\u001b[43m)\u001b[49m\u001b[43m,\u001b[49m\u001b[43m \u001b[49m\u001b[38;5;124;43m\"\u001b[39;49m\u001b[38;5;124;43mrb\u001b[39;49m\u001b[38;5;124;43m\"\u001b[39;49m\u001b[43m)\u001b[49m)\n\u001b[1;32m    406\u001b[0m     own_fid \u001b[38;5;241m=\u001b[39m \u001b[38;5;28;01mTrue\u001b[39;00m\n\u001b[1;32m    408\u001b[0m \u001b[38;5;66;03m# Code to distinguish from NumPy binary files and pickles.\u001b[39;00m\n",
      "\u001b[0;31mFileNotFoundError\u001b[0m: [Errno 2] No such file or directory: 'roots_zeta/ML_0/d_000/data.npz'"
     ]
    }
   ],
   "source": [
    "from derivativeintensive import *"
   ]
  },
  {
   "cell_type": "code",
   "execution_count": 306,
   "metadata": {},
   "outputs": [],
   "source": [
    "d_vec = np.array([0,0,0])\n",
    "ML = 4"
   ]
  },
  {
   "cell_type": "code",
   "execution_count": 307,
   "metadata": {},
   "outputs": [
    {
     "name": "stdout",
     "output_type": "stream",
     "text": [
      "{'d_vec': array([0, 0, 0]), 'ML': 4, 'n_max': 4, 'cutoffs': 500000.0, 'alpha': 0.001}\n"
     ]
    }
   ],
   "source": [
    "dat = np.load(derivative_location(d_vec, ML), allow_pickle=True)\n",
    "print(dat['metadata'])"
   ]
  },
  {
   "cell_type": "code",
   "execution_count": 308,
   "metadata": {},
   "outputs": [
    {
     "name": "stdout",
     "output_type": "stream",
     "text": [
      "[[ 1.1214750565718992e+01  2.0395889076102669e+01  1.6970584906590500e+02  7.2255316187660071e+02]\n",
      " [ 2.3234888879328228e+01  1.3939261050321274e+00  4.7927831951769809e+02 -9.1721224443216931e+02]\n",
      " [ 2.9971934829761668e+01  6.1626982129099886e+01  8.3702313653940155e+02  6.6712818489972569e+03]\n",
      " [ 2.3761458306942622e+01  8.3258926705721521e+00  3.9758849372280122e+02  7.0042459966112278e+02]\n",
      " [ 4.5667937083407118e+01 -1.7989291650137002e+02  2.6706161763227656e+03 -3.9522291639571544e+04]\n",
      " [ 5.9943316521711822e+01  4.9824790879031518e+01  1.3786926428767445e+03  4.0758775112183444e+03]\n",
      " [ 1.7759296520516230e+01  7.6844184791248855e+00  7.6203346150751742e+01  1.8438622097896183e+02]\n",
      " [ 6.5388931153414418e+01 -2.3439789956071186e+02  3.1593529986308586e+03 -3.9917916431131758e+04]\n",
      " [ 6.9911093966672865e+01  2.6512656758862164e+01  1.5011078863519258e+03  2.7973023174966825e+03]\n",
      " [ 6.5962862755684739e+01  6.6135115255671579e+01  1.4518369825332941e+03  5.6325631313306576e+03]\n",
      " [ 5.2361551111553474e+01  1.3548612839490241e+02  1.8965736419132679e+03  2.1932756355619451e+04]\n",
      " [ 5.1807584002165555e+01 -1.1140380185702055e+02  1.6671777958367204e+03 -1.7826306989770270e+04]\n",
      " [ 8.9336598061288555e+01 -1.2753175877443539e+02  2.4529648848953175e+03 -1.6061195519727091e+04]\n",
      " [ 2.3377540852842593e+01  8.0256928127805871e+00  9.6808631863473437e+01  3.1547894135249851e+02]\n",
      " [ 1.4291011625619058e+02 -1.8315045405527301e+03  4.6252056980138899e+04 -1.5131800337442714e+06]]\n"
     ]
    }
   ],
   "source": [
    "print(dat['dervatives'])"
   ]
  },
  {
   "cell_type": "code",
   "execution_count": 182,
   "metadata": {},
   "outputs": [],
   "source": [
    "ML = 4\n",
    "d_vec = np.array([1,0,0])\n",
    "\n",
    "\n",
    "\n"
   ]
  },
  {
   "cell_type": "code",
   "execution_count": 319,
   "metadata": {},
   "outputs": [],
   "source": [
    "np.set_printoptions(precision = 7, linewidth=700, suppress=False)"
   ]
  },
  {
   "cell_type": "code",
   "execution_count": 312,
   "metadata": {},
   "outputs": [
    {
     "name": "stdout",
     "output_type": "stream",
     "text": [
      "?\n",
      "4 [1 0 0]\n",
      "\\num{1.41945e+01}\n",
      "\\num{2.41578e+01}\n",
      "\\num{-1.27677e+04}\n",
      "\\num{3.99719e+01}\n",
      "\\num{-1.39360e+01}\n",
      "\\num{5.58530e+02}\n",
      "\\num{1.00590e+01}\n",
      "\\num{7.63459e+01}\n",
      "\\num{-2.87362e+04}\n",
      "\\num{-6.11492e+01}\n",
      "\\num{-3.71572e+04}\n",
      "\\num{1.05913e+02}\n",
      "\\num{3.11952e+03}\n",
      "\\num{1.68488e+01}\n",
      "\\num{-3.32942e+02}\n",
      "?\n",
      "6 [0 0 1]\n",
      "\\num{1.40897e+01}\n",
      "\\num{2.20987e+01}\n",
      "\\num{-2.48720e+04}\n",
      "\\num{3.88821e+01}\n",
      "\\num{-1.57382e+01}\n",
      "\\num{5.14450e+02}\n",
      "\\num{1.09394e+01}\n",
      "\\num{7.08635e+01}\n",
      "\\num{-3.78771e+04}\n",
      "\\num{-6.09636e+01}\n",
      "\\num{-4.58194e+04}\n",
      "\\num{1.03033e+02}\n",
      "\\num{3.47345e+03}\n",
      "\\num{1.76174e+01}\n",
      "\\num{-3.26951e+02}\n",
      "?\n",
      "4 [1 1 0]\n",
      "\\num{1.08533e+02}\n",
      "\\num{1.62187e+03}\n",
      "\\num{1.35298e+01}\n",
      "\\num{1.46311e+03}\n",
      "\\num{3.95171e+01}\n",
      "\\num{4.00964e+02}\n",
      "\\num{-2.94711e+01}\n",
      "\\num{1.05851e+03}\n",
      "\\num{4.08980e+02}\n",
      "\\num{-3.67217e+02}\n",
      "\\num{-1.62100e+05}\n",
      "\\num{1.36554e+02}\n",
      "\\num{-6.86309e+01}\n",
      "\\num{-2.84349e+02}\n",
      "\\num{-4.76066e+04}\n",
      "?\n",
      "6 [0 1 1]\n",
      "\\num{8.17085e+01}\n",
      "\\num{2.84073e+03}\n",
      "\\num{1.53819e+01}\n",
      "\\num{2.47873e+03}\n",
      "\\num{3.38314e+01}\n",
      "\\num{4.69559e+02}\n",
      "\\num{-2.63930e+01}\n",
      "\\num{1.29384e+03}\n",
      "\\num{2.81455e+02}\n",
      "\\num{-7.07482e+02}\n",
      "\\num{-2.11818e+05}\n",
      "\\num{1.13021e+02}\n",
      "\\num{-9.91480e+01}\n",
      "\\num{-2.55055e+02}\n",
      "\\num{-6.03127e+04}\n",
      "?\n",
      "4 [1 1 1]\n",
      "\\num{6.62366e+01}\n",
      "\\num{-2.19355e+02}\n",
      "\\num{3.41619e+00}\n",
      "\\num{-3.48135e+03}\n",
      "\\num{4.54739e+04}\n",
      "\\num{1.59308e+01}\n",
      "\\num{-1.27189e+03}\n",
      "\\num{-1.05068e+03}\n",
      "\\num{4.17409e-01}\n",
      "\\num{-2.51971e+04}\n",
      "\\num{-1.97222e+04}\n",
      "\\num{9.54145e+03}\n",
      "\\num{-2.48368e+00}\n",
      "\\num{-6.10894e+03}\n",
      "\\num{-8.93563e+02}\n",
      "?\n",
      "6 [1 1 1]\n",
      "\\num{4.71961e+01}\n",
      "\\num{-1.67962e+03}\n",
      "\\num{4.00735e+00}\n",
      "\\num{-6.13943e+03}\n",
      "\\num{6.64138e+04}\n",
      "\\num{1.44137e+01}\n",
      "\\num{-1.94764e+03}\n",
      "\\num{-1.42657e+03}\n",
      "\\num{2.50550e-01}\n",
      "\\num{-3.48750e+04}\n",
      "\\num{-2.47254e+04}\n",
      "\\num{1.17427e+04}\n",
      "\\num{-2.48945e+00}\n",
      "\\num{-7.50818e+03}\n",
      "\\num{-1.10194e+03}\n",
      "?\n",
      "4 [2 0 0]\n",
      "\\num{1.18349e+02}\n",
      "\\num{2.26651e+01}\n",
      "\\num{-6.06870e+01}\n",
      "\\num{1.90893e+03}\n",
      "\\num{4.72956e+01}\n",
      "\\num{2.40111e+03}\n",
      "\\num{-1.65448e+01}\n",
      "\\num{-4.62432e+03}\n",
      "\\num{-2.93365e+02}\n",
      "\\num{-1.26866e+03}\n",
      "\\num{3.67640e+02}\n",
      "\\num{2.22847e+02}\n",
      "\\num{1.00732e+01}\n",
      "\\num{-5.62318e+02}\n",
      "\\num{6.90479e+04}\n",
      "?\n",
      "6 [0 0 2]\n",
      "\\num{6.64872e+01}\n",
      "\\num{-7.09633e+01}\n",
      "\\num{-3.16833e+01}\n",
      "\\num{3.03399e+03}\n",
      "\\num{5.49487e+01}\n",
      "\\num{1.13202e+03}\n",
      "\\num{-3.23257e+01}\n",
      "\\num{-2.71724e+03}\n",
      "\\num{-4.32221e+02}\n",
      "\\num{-6.38300e+02}\n",
      "\\num{2.80712e+02}\n",
      "\\num{1.71507e+02}\n",
      "\\num{9.93520e+00}\n",
      "\\num{-5.80979e+02}\n",
      "\\num{-2.75978e+03}\n"
     ]
    }
   ],
   "source": [
    "\n",
    "ds1 = np.array([[1,0,0], [1,1,0], [1,1,1], [2,0,0]])\n",
    "\n",
    "ds2 = np.array([[0,0,1], [0,1,1], [1,1,1], [0,0,2]])\n",
    "\n",
    "for j in range(0, len(ds1)):\n",
    "    n = 1\n",
    "    ML = 4\n",
    "    d_vec = ds1[j]\n",
    "    print(\"?\")\n",
    "    print(ML, d_vec)\n",
    "    data =np.load(derivative_location(d_vec, ML), allow_pickle=True)\n",
    "    for i in range(0, len(data['dervatives'])):\n",
    "        val = data['dervatives'][i,n]\n",
    "        print('\\\\num{{{:.5e}}}'.format(val))\n",
    "\n",
    "\n",
    "    ML = 6\n",
    "    d_vec = ds2[j]\n",
    "    data =np.load(derivative_location(d_vec, ML), allow_pickle=True)\n",
    "    print(\"?\")\n",
    "    print(ML, d_vec)\n",
    "    for i in range(0, len(data['dervatives'])):\n",
    "        val = data['dervatives'][i,n]\n",
    "        print('\\\\num{{{:.5e}}}'.format(val))\n",
    "\n",
    "\n",
    "#print format scientific notation\n",
    "    \n",
    "\n",
    "\n",
    "\n"
   ]
  },
  {
   "cell_type": "code",
   "execution_count": 340,
   "metadata": {},
   "outputs": [
    {
     "name": "stdout",
     "output_type": "stream",
     "text": [
      "?\n",
      "4 [0 0 0]\n",
      "?\n",
      "derivative  1\n",
      "[11.2147506]\n",
      "[23.2348889]\n",
      "[29.9719348]\n",
      "[23.7614583]\n",
      "[45.6679371]\n",
      "[59.9433165]\n",
      "[17.7592965]\n",
      "[65.3889312]\n",
      "[69.911094]\n",
      "[65.9628628]\n",
      "[52.3615511]\n",
      "[51.807584]\n",
      "[89.3365981]\n",
      "[23.3775409]\n",
      "[142.9101163]\n",
      "?\n",
      "derivative  2\n",
      "[20.3958891]\n",
      "[1.3939261]\n",
      "[61.6269821]\n",
      "[8.3258927]\n",
      "[-179.8929165]\n",
      "[49.8247909]\n",
      "[7.6844185]\n",
      "[-234.3978996]\n",
      "[26.5126568]\n",
      "[66.1351153]\n",
      "[135.4861284]\n",
      "[-111.4038019]\n",
      "[-127.5317588]\n",
      "[8.0256928]\n",
      "[-1831.5045406]\n",
      "?\n",
      "derivative  3\n",
      "[169.7058491]\n",
      "[479.2783195]\n",
      "[837.0231365]\n",
      "[397.5884937]\n",
      "[2670.6161763]\n",
      "[1378.6926429]\n",
      "[76.2033462]\n",
      "[3159.3529986]\n",
      "[1501.1078864]\n",
      "[1451.8369825]\n",
      "[1896.5736419]\n",
      "[1667.1777958]\n",
      "[2452.9648849]\n",
      "[96.8086319]\n",
      "[46252.0569801]\n",
      "?\n",
      "derivative  4\n",
      "[722.5531619]\n",
      "[-917.2122444]\n",
      "[6671.281849]\n",
      "[700.4245997]\n",
      "[-39522.2916396]\n",
      "[4075.8775112]\n",
      "[184.386221]\n",
      "[-39917.9164311]\n",
      "[2797.3023175]\n",
      "[5632.5631313]\n",
      "[21932.7563556]\n",
      "[-17826.3069898]\n",
      "[-16061.1955197]\n",
      "[315.4789414]\n",
      "[-1513180.0337443]\n"
     ]
    }
   ],
   "source": [
    "np.set_printoptions(precision = 7, linewidth=700, suppress=False)\n",
    "\n",
    "n_max = 4\n",
    "ML = 4\n",
    "d_vec = np.array([0,0,0])\n",
    "print(\"?\")\n",
    "print(ML, d_vec)\n",
    "data =np.load(derivative_location(d_vec, ML), allow_pickle=True)\n",
    "for n in range(0, n_max):\n",
    "\n",
    "    print(\"?\")\n",
    "    print(\"derivative \", n+1)\n",
    "\n",
    "    current = np.array(data['dervatives'][:,n])\n",
    "    for i in range(0, len(current)):\n",
    "        val = current[i]\n",
    "        print(np.array([val]))\n",
    "    # for i in range(0, len(data['dervatives'])):\n",
    "\n",
    "    #     val = data['dervatives'][i,n]\n",
    "    #     #print(str(val).strip('[]'))\n",
    "    #     print('\\\\num{{{:.7e}}}'.format(val))\n",
    "\n",
    "\n",
    "#print format scientific notation"
   ]
  },
  {
   "cell_type": "code",
   "execution_count": 180,
   "metadata": {},
   "outputs": [
    {
     "name": "stdout",
     "output_type": "stream",
     "text": [
      "\\num{1.00000e-04}\n"
     ]
    }
   ],
   "source": [
    "print('\\\\num{{{:.5e}}}'.format(1e-4))"
   ]
  },
  {
   "cell_type": "code",
   "execution_count": 330,
   "metadata": {},
   "outputs": [
    {
     "name": "stdout",
     "output_type": "stream",
     "text": [
      "\\num{7.0000001e+00}\n"
     ]
    }
   ],
   "source": [
    "\n",
    "val = 7.00000007\n",
    "print('\\\\num{{{:.7e}}}'.format(val))"
   ]
  },
  {
   "cell_type": "code",
   "execution_count": 33,
   "metadata": {},
   "outputs": [
    {
     "data": {
      "text/plain": [
       "array([ 1.1834858434633786e+02,  2.2665130904378188e+01, -6.0687005737979675e+01,  1.9089322133892019e+03,  4.7295646982500045e+01,  2.4011065708116557e+03, -1.6544833291637353e+01, -4.6243153811643497e+03, -2.9336549861734267e+02, -1.2686574299879503e+03,  3.6763991069166974e+02,  2.2284695854216159e+02,  1.0073151463813165e+01, -5.6231765078756644e+02,  6.9047940607256518e+04])"
      ]
     },
     "execution_count": 33,
     "metadata": {},
     "output_type": "execute_result"
    }
   ],
   "source": [
    "data['dervatives'][:,1]"
   ]
  },
  {
   "cell_type": "code",
   "execution_count": null,
   "metadata": {},
   "outputs": [],
   "source": []
  }
 ],
 "metadata": {
  "kernelspec": {
   "display_name": "base",
   "language": "python",
   "name": "python3"
  },
  "language_info": {
   "codemirror_mode": {
    "name": "ipython",
    "version": 3
   },
   "file_extension": ".py",
   "mimetype": "text/x-python",
   "name": "python",
   "nbconvert_exporter": "python",
   "pygments_lexer": "ipython3",
   "version": "3.9.16"
  }
 },
 "nbformat": 4,
 "nbformat_minor": 2
}
