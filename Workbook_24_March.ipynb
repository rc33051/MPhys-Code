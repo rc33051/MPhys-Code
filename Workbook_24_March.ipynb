{
 "cells": [
  {
   "cell_type": "code",
   "execution_count": 43,
   "metadata": {},
   "outputs": [
    {
     "name": "stdout",
     "output_type": "stream",
     "text": [
      "The autoreload extension is already loaded. To reload it, use:\n",
      "  %reload_ext autoreload\n"
     ]
    }
   ],
   "source": [
    "from standard_imports import *\n",
    "import os \n",
    "from graph_convergence_gaa_1 import *\n",
    "np.set_printoptions(precision = 15, linewidth=700, suppress=False)\n",
    "%load_ext autoreload\n",
    "%autoreload 2"
   ]
  },
  {
   "cell_type": "code",
   "execution_count": 162,
   "metadata": {},
   "outputs": [],
   "source": [
    "ML = 4\n",
    "d_vec = np.array([1,1,0])\n",
    "\n",
    "a = 2\n",
    "b = 0\n"
   ]
  },
  {
   "cell_type": "code",
   "execution_count": 14,
   "metadata": {},
   "outputs": [
    {
     "name": "stderr",
     "output_type": "stream",
     "text": [
      "  0%|          | 0/10 [00:00<?, ?it/s]"
     ]
    },
    {
     "name": "stdout",
     "output_type": "stream",
     "text": [
      "2 0\n",
      "2 0\n",
      "2 0\n",
      "2 0\n",
      "2 0\n",
      "2 0\n",
      "2 0\n",
      "2 0\n",
      "2 0\n",
      "2 0\n"
     ]
    },
    {
     "name": "stderr",
     "output_type": "stream",
     "text": [
      " 10%|█         | 1/10 [00:05<00:47,  5.28s/it]"
     ]
    },
    {
     "name": "stdout",
     "output_type": "stream",
     "text": [
      "2 0\n",
      "2 0\n",
      "2 0\n",
      "2 0\n",
      "2 0\n",
      "2 0\n",
      "2 0\n",
      "2 0\n",
      "2 0\n",
      "2 0\n"
     ]
    },
    {
     "name": "stderr",
     "output_type": "stream",
     "text": [
      " 20%|██        | 2/10 [00:09<00:38,  4.79s/it]"
     ]
    },
    {
     "name": "stdout",
     "output_type": "stream",
     "text": [
      "2 0\n",
      "2 0\n",
      "2 0\n",
      "2 0\n",
      "2 0\n",
      "2 0\n",
      "2 0\n",
      "2 0\n",
      "2 0\n",
      "2 0\n"
     ]
    },
    {
     "name": "stderr",
     "output_type": "stream",
     "text": [
      " 30%|███       | 3/10 [00:14<00:32,  4.69s/it]"
     ]
    },
    {
     "name": "stdout",
     "output_type": "stream",
     "text": [
      "2 0\n",
      "2 0\n",
      "2 0\n",
      "2 0\n",
      "2 0\n",
      "2 0\n",
      "2 0\n",
      "2 0\n",
      "2 0\n",
      "2 0\n"
     ]
    },
    {
     "name": "stderr",
     "output_type": "stream",
     "text": [
      " 40%|████      | 4/10 [00:19<00:28,  4.76s/it]"
     ]
    },
    {
     "name": "stdout",
     "output_type": "stream",
     "text": [
      "2 0\n",
      "2 0\n",
      "2 0\n",
      "2 0\n",
      "2 0\n",
      "2 0\n",
      "2 0\n",
      "2 0\n",
      "2 0\n",
      "2 0\n"
     ]
    },
    {
     "name": "stderr",
     "output_type": "stream",
     "text": [
      " 50%|█████     | 5/10 [00:24<00:25,  5.07s/it]"
     ]
    },
    {
     "name": "stdout",
     "output_type": "stream",
     "text": [
      "2 0\n",
      "2 0\n",
      "2 0\n",
      "2 0\n",
      "2 0\n",
      "2 0\n",
      "2 0\n",
      "2 0\n",
      "2 0\n",
      "2 0\n"
     ]
    },
    {
     "name": "stderr",
     "output_type": "stream",
     "text": [
      " 60%|██████    | 6/10 [00:29<00:20,  5.03s/it]"
     ]
    },
    {
     "name": "stdout",
     "output_type": "stream",
     "text": [
      "2 0\n",
      "2 0\n",
      "2 0\n",
      "2 0\n",
      "2 0\n",
      "2 0\n",
      "2 0\n",
      "2 0\n",
      "2 0\n",
      "2 0\n"
     ]
    },
    {
     "name": "stderr",
     "output_type": "stream",
     "text": [
      " 70%|███████   | 7/10 [00:35<00:16,  5.35s/it]"
     ]
    },
    {
     "name": "stdout",
     "output_type": "stream",
     "text": [
      "2 0\n",
      "2 0\n",
      "2 0\n",
      "2 0\n",
      "2 0\n",
      "2 0\n",
      "2 0\n",
      "2 0\n",
      "2 0\n",
      "2 0\n"
     ]
    },
    {
     "name": "stderr",
     "output_type": "stream",
     "text": [
      " 80%|████████  | 8/10 [00:40<00:10,  5.27s/it]"
     ]
    },
    {
     "name": "stdout",
     "output_type": "stream",
     "text": [
      "2 0\n",
      "2 0\n",
      "2 0\n",
      "2 0\n",
      "2 0\n",
      "2 0\n",
      "2 0\n",
      "2 0\n",
      "2 0\n",
      "2 0\n"
     ]
    },
    {
     "name": "stderr",
     "output_type": "stream",
     "text": [
      " 90%|█████████ | 9/10 [00:46<00:05,  5.24s/it]"
     ]
    },
    {
     "name": "stdout",
     "output_type": "stream",
     "text": [
      "2 0\n",
      "2 0\n",
      "2 0\n",
      "2 0\n",
      "2 0\n",
      "2 0\n",
      "2 0\n",
      "2 0\n",
      "2 0\n",
      "2 0\n"
     ]
    },
    {
     "name": "stderr",
     "output_type": "stream",
     "text": [
      "100%|██████████| 10/10 [00:51<00:00,  5.18s/it]\n"
     ]
    },
    {
     "data": {
      "image/png": "[encoded data removed]",
      "text/plain": [
       "<Figure size 640x480 with 2 Axes>"
      ]
     },
     "metadata": {},
     "output_type": "display_data"
    }
   ],
   "source": [
    "zeros = np.load(file_location(d_vec, ML))['zeros']\n",
    "d_vec = np.array([1,0,0])\n",
    "x = zeros[0]\n",
    "\n",
    "\n",
    "resolution = 10\n",
    "alpha = np.logspace(-1,-7,resolution)\n",
    "cutoff = np.logspace(1,5, resolution)\n",
    "\n",
    "A, C = np.meshgrid(alpha, cutoff, indexing='ij')\n",
    "Z = np.zeros_like(A)\n",
    "for i in tqdm(range(len(A))):\n",
    "    for j in range(len(C)):\n",
    "        Z[i,j] = limiting(a,b, d_vec, x, A[i,j],C[i,j],ML)\n",
    "        #derivative(1, d_vec, x, A[i,j],C[i,j],ML) #limiting(a,b,d_vec, x, A[i,j], C[i,j], ML)\n",
    "\n",
    "\n",
    "\n",
    "#extent = (np.log10(np.min(A)), np.log10(np.max(A)), np.log10(np.min(C)), np.log10(np.max(C)))\n",
    "\n",
    "#plt.imshow(np.log10(102.83955351102952-Z), extent=extent, origin='lower', aspect='auto')\n",
    "\n",
    "plt.contourf(np.log10(A), np.log10(C), Z, levels=30)\n",
    "plt.colorbar()\n",
    "\n",
    "plt.plot()\n",
    "plt.show()\n",
    "\n"
   ]
  },
  {
   "cell_type": "code",
   "execution_count": 27,
   "metadata": {},
   "outputs": [
    {
     "data": {
      "text/plain": [
       "28.105936544624917"
      ]
     },
     "execution_count": 27,
     "metadata": {},
     "output_type": "execute_result"
    }
   ],
   "source": [
    "\n",
    "g_ab_large(2,0, d_vec, x, 1e6, 0, ML)"
   ]
  },
  {
   "cell_type": "code",
   "execution_count": 62,
   "metadata": {},
   "outputs": [],
   "source": [
    "def deriv_tolarence(d_vec, ML, iterations):\n",
    "    \n",
    "    x = np.load(file_location(d_vec, ML))['zeros'][0]\n",
    "    alpha = 0.01\n",
    "    cutoff = 1e4\n",
    "    value = derivative(1, d_vec, x, alpha, cutoff, ML )\n",
    "    returned_value = value\n",
    "    increasing_cut = True\n",
    "    tolerence = 1e-4\n",
    "    # results = np.array([])\n",
    "    # cutoffs = np.array([])\n",
    "    # alphas = np.array([])\n",
    "    for i in range(iterations):\n",
    "        if increasing_cut:\n",
    "            cutoff = cutoff*1.5\n",
    "            print('new ',cutoff)\n",
    "            value_tmp = derivative(1, d_vec, x, alpha, cutoff, ML )\n",
    "            if np.abs(value_tmp-value) < tolerence:\n",
    "                increasing_cut = False\n",
    "                # results = np.append(results, value_tmp)\n",
    "                # cutoffs = np.append(cutoffs, cutoff)\n",
    "                # alphas = np.append(alphas, alpha)\n",
    "                returned_value = value_tmp\n",
    "            value = value_tmp\n",
    "        else:\n",
    "            alpha = alpha/1.5\n",
    "            print('new ',alpha)\n",
    "            value_tmp = derivative(1, d_vec, x, alpha, cutoff, ML )\n",
    "            if np.abs(value_tmp-value) > tolerence:\n",
    "                increasing_cut = True\n",
    "\n",
    "    return returned_value, cutoff, alpha #results, cutoffs, alphas"
   ]
  },
  {
   "cell_type": "code",
   "execution_count": 224,
   "metadata": {},
   "outputs": [
    {
     "name": "stdout",
     "output_type": "stream",
     "text": [
      "0.47289424869938573\n"
     ]
    },
    {
     "name": "stderr",
     "output_type": "stream",
     "text": [
      "100%|██████████| 6/6 [02:18<00:00, 23.05s/it]\n"
     ]
    }
   ],
   "source": [
    "ML = 4\n",
    "d_vec = np.array([0,0,0])\n",
    "\n",
    "zeros = np.load(file_location(d_vec, ML))['zeros']\n",
    "x = zeros[0]\n",
    "\n",
    "print(x)\n",
    "\n",
    "a = 1\n",
    "b = 0\n",
    "\n",
    "resolution = 6\n",
    "alpha = np.logspace(-2,-4,resolution)\n",
    "cutoff = np.logspace(4,5.7, resolution)\n",
    "\n",
    "A, C = np.meshgrid(alpha, cutoff, indexing='xy')\n",
    "Z = np.zeros_like(A)\n",
    "for i in tqdm(range(len(A))):\n",
    "    for j in range(len(C)):\n",
    "        Z[i,j] = limiting(a,b, d_vec, x, A[i,j],C[i,j],ML)"
   ]
  },
  {
   "cell_type": "code",
   "execution_count": 226,
   "metadata": {},
   "outputs": [
    {
     "data": {
      "image/png": "[encoded data removed]",
      "text/plain": [
       "<Figure size 640x480 with 2 Axes>"
      ]
     },
     "metadata": {},
     "output_type": "display_data"
    }
   ],
   "source": [
    "\n",
    "plt.contourf(np.log10(A), np.log10(C), Z, levels=30)\n",
    "plt.colorbar()\n",
    "\n",
    "plt.plot()\n",
    "plt.show()"
   ]
  },
  {
   "cell_type": "code",
   "execution_count": null,
   "metadata": {},
   "outputs": [
    {
     "data": {
      "text/plain": [
       "10.33751906517864"
      ]
     },
     "execution_count": 114,
     "metadata": {},
     "output_type": "execute_result"
    }
   ],
   "source": [
    "limiting(a,b, d_vec, x, 1e-5, 2e6,ML)"
   ]
  },
  {
   "cell_type": "code",
   "execution_count": null,
   "metadata": {},
   "outputs": [
    {
     "data": {
      "text/plain": [
       "10.337526674184119"
      ]
     },
     "execution_count": 116,
     "metadata": {},
     "output_type": "execute_result"
    }
   ],
   "source": [
    "limiting(a,b, d_vec, x, 1e-5, 3e6,ML)"
   ]
  },
  {
   "cell_type": "code",
   "execution_count": 227,
   "metadata": {},
   "outputs": [
    {
     "name": "stdout",
     "output_type": "stream",
     "text": [
      "[[39.75525917289723  39.755259173241754 39.75525917290108  39.755244210691025 39.753890709291575 39.744061104018584]\n",
      " [39.75525917289723  39.75525917324176  39.75525917337889  39.755259170607346 39.75523359061925  39.75384988201207 ]\n",
      " [39.75525917289723  39.75525917324176  39.75525917337889  39.75525917343348  39.75525916060445  39.755219845067025]\n",
      " [39.75525917289723  39.75525917324176  39.75525917337889  39.75525917343348  39.75525917345522  39.75525912706953 ]\n",
      " [39.75525917289723  39.75525917324176  39.75525917337889  39.75525917343348  39.75525917345523  39.75525917346353 ]\n",
      " [39.75525917289723  39.75525917324176  39.75525917337889  39.75525917343348  39.75525917345523  39.75525917346356 ]]\n"
     ]
    }
   ],
   "source": [
    "print(Z)"
   ]
  },
  {
   "cell_type": "code",
   "execution_count": 228,
   "metadata": {},
   "outputs": [
    {
     "data": {
      "text/plain": [
       "8.327560863108374e-12"
      ]
     },
     "execution_count": 228,
     "metadata": {},
     "output_type": "execute_result"
    }
   ],
   "source": [
    "39.75525917346356 -39.75525917345523"
   ]
  },
  {
   "cell_type": "code",
   "execution_count": 166,
   "metadata": {},
   "outputs": [
    {
     "data": {
      "text/plain": [
       "-0.0010212308397967718"
      ]
     },
     "execution_count": 166,
     "metadata": {},
     "output_type": "execute_result"
    }
   ],
   "source": [
    "17.015216260589114 -   17.01623749142891"
   ]
  },
  {
   "cell_type": "code",
   "execution_count": 109,
   "metadata": {},
   "outputs": [
    {
     "name": "stdout",
     "output_type": "stream",
     "text": [
      "[[ 10000.              10000.              10000.              10000.              10000.              10000.            ]\n",
      " [ 21877.616239495517  21877.616239495517  21877.616239495517  21877.616239495517  21877.616239495517  21877.616239495517]\n",
      " [ 47863.0092322638    47863.0092322638    47863.0092322638    47863.0092322638    47863.0092322638    47863.0092322638  ]\n",
      " [104712.85480508985  104712.85480508985  104712.85480508985  104712.85480508985  104712.85480508985  104712.85480508985 ]\n",
      " [229086.76527677747  229086.76527677747  229086.76527677747  229086.76527677747  229086.76527677747  229086.76527677747 ]\n",
      " [501187.2336272725   501187.2336272725   501187.2336272725   501187.2336272725   501187.2336272725   501187.2336272725  ]]\n"
     ]
    }
   ],
   "source": [
    "print(C)"
   ]
  },
  {
   "cell_type": "code",
   "execution_count": 167,
   "metadata": {},
   "outputs": [
    {
     "name": "stdout",
     "output_type": "stream",
     "text": [
      "[[0.01              0.003981071705535 0.001584893192461 0.00063095734448  0.000251188643151 0.0001           ]\n",
      " [0.01              0.003981071705535 0.001584893192461 0.00063095734448  0.000251188643151 0.0001           ]\n",
      " [0.01              0.003981071705535 0.001584893192461 0.00063095734448  0.000251188643151 0.0001           ]\n",
      " [0.01              0.003981071705535 0.001584893192461 0.00063095734448  0.000251188643151 0.0001           ]\n",
      " [0.01              0.003981071705535 0.001584893192461 0.00063095734448  0.000251188643151 0.0001           ]\n",
      " [0.01              0.003981071705535 0.001584893192461 0.00063095734448  0.000251188643151 0.0001           ]]\n"
     ]
    }
   ],
   "source": [
    "print(A)"
   ]
  },
  {
   "cell_type": "markdown",
   "metadata": {},
   "source": [
    "# Try to fit line to boundary region\n"
   ]
  },
  {
   "cell_type": "code",
   "execution_count": 127,
   "metadata": {},
   "outputs": [
    {
     "name": "stderr",
     "output_type": "stream",
     "text": [
      "  0%|          | 0/10 [00:00<?, ?it/s]"
     ]
    },
    {
     "name": "stderr",
     "output_type": "stream",
     "text": [
      "100%|██████████| 10/10 [00:23<00:00,  2.37s/it]\n"
     ]
    }
   ],
   "source": [
    "a = 1\n",
    "b = 1\n",
    "\n",
    "resolution = 10\n",
    "alpha = np.logspace(-1,-3,resolution)\n",
    "cutoff = np.logspace(2,4, resolution)\n",
    "\n",
    "A, C = np.meshgrid(alpha, cutoff, indexing='xy')\n",
    "Z = np.zeros_like(A)\n",
    "for i in tqdm(range(len(A))):\n",
    "    for j in range(len(C)):\n",
    "        Z[i,j] = limiting(a,b, d_vec, x, A[i,j],C[i,j],ML)"
   ]
  },
  {
   "cell_type": "code",
   "execution_count": 159,
   "metadata": {},
   "outputs": [
    {
     "name": "stderr",
     "output_type": "stream",
     "text": [
      "/var/folders/jw/v39ld52d21dg5yc3z5wt296r0000gn/T/ipykernel_78881/1043979193.py:5: RuntimeWarning: invalid value encountered in log\n",
      "  plt.contourf(np.log10(A), np.log10(C), np.log(Z- Z[-1,:]+1e-6), levels=100)\n"
     ]
    },
    {
     "data": {
      "image/png": "[encoded data removed]",
      "text/plain": [
       "<Figure size 640x480 with 2 Axes>"
      ]
     },
     "metadata": {},
     "output_type": "display_data"
    }
   ],
   "source": [
    "plt.plot(np.log10(alpha), -np.log10(alpha) + 1.43)\n",
    "\n",
    "\n",
    "\n",
    "plt.contourf(np.log10(A), np.log10(C), np.log(Z- Z[-1,:]+1e-6), levels=100)\n",
    "plt.colorbar()\n",
    "\n",
    "plt.ylim(2,4)\n",
    "\n",
    "plt.show()"
   ]
  },
  {
   "cell_type": "code",
   "execution_count": 142,
   "metadata": {},
   "outputs": [
    {
     "name": "stdout",
     "output_type": "stream",
     "text": [
      "[[-7.730932123735101e-04 -3.125307498562790e-02 -3.632326203929210e-01 -1.917147492666977e+00 -6.160295164259075e+00 -1.448883993466148e+01 -2.796161948611854e+01 -4.751816506016905e+01 -7.430214170814224e+01 -1.098951200267536e+02]\n",
      " [-2.369427399173674e-06 -8.291928592676356e-04 -3.684109282336578e-02 -4.471027311903697e-01 -2.408655603718756e+00 -7.820922905683496e+00 -1.850141564232028e+01 -3.582950019679332e+01 -6.102437433963306e+01 -9.555948563574496e+01]\n",
      " [-1.668993832026899e-10 -2.236222311324809e-06 -9.275244295849916e-04 -4.450679993790629e-02 -5.584747005520683e-01 -3.054288586590303e+00 -9.990216037063902e+00 -2.372534862731978e+01 -4.604979316824627e+01 -7.853692451658041e+01]\n",
      " [ 3.552713678800501e-15 -1.877680233519641e-10 -2.747139333791893e-06 -1.183335444338240e-03 -5.746041253620859e-02 -7.228667136698022e-01 -3.952937125464814e+00 -1.292154310147735e+01 -3.066969200742531e+01 -5.950009538630907e+01]\n",
      " [ 3.552713678800501e-15  0.000000000000000e+00 -2.024762579821981e-10 -3.267660204642198e-06 -1.472759774081567e-03 -7.290650210494221e-02 -9.249202674897958e-01 -5.077812388662650e+00 -1.663211398915412e+01 -3.951635768467423e+01]\n",
      " [ 3.552713678800501e-15  3.552713678800501e-15  0.000000000000000e+00 -2.413855781924212e-10 -4.107752168636125e-06 -1.889302883213873e-03 -9.411490706177972e-02 -1.195723887960654e+00 -6.564858400303734e+00 -2.149223959289708e+01]\n",
      " [ 3.552713678800501e-15  7.105427357601002e-15  0.000000000000000e+00  7.105427357601002e-15 -2.822559963533422e-10 -5.095780906572145e-06 -2.398423517050219e-03 -1.205729593770997e-01 -1.537813135989239e+00 -8.453198936988599e+00]\n",
      " [ 3.552713678800501e-15  0.000000000000000e+00  0.000000000000000e+00  7.105427357601002e-15 -7.105427357601002e-15 -3.569624595911591e-10 -6.552682037863633e-06 -3.099922847823677e-03 -1.559785259276794e-01 -1.983992253001816e+00]\n",
      " [ 3.552713678800501e-15  0.000000000000000e+00  0.000000000000000e+00  7.105427357601002e-15  7.105427357601002e-15 -1.421085471520200e-14 -4.419149490786367e-10 -8.314059314784572e-06 -3.960734075803884e-03 -1.955169649253605e-01]\n",
      " [ 0.000000000000000e+00  0.000000000000000e+00  0.000000000000000e+00  0.000000000000000e+00  0.000000000000000e+00  0.000000000000000e+00  0.000000000000000e+00  0.000000000000000e+00  0.000000000000000e+00  0.000000000000000e+00]]\n"
     ]
    }
   ],
   "source": [
    "print(Z- Z[-1,:])"
   ]
  },
  {
   "cell_type": "code",
   "execution_count": 139,
   "metadata": {},
   "outputs": [
    {
     "name": "stdout",
     "output_type": "stream",
     "text": [
      "[10.607707480852437 10.499484990898772 10.434607312641251 10.395714166328602 10.37239833766882  10.358420865604138 10.350041591242089 10.34501834766644  10.341996273876703 10.335072364090536]\n"
     ]
    }
   ],
   "source": [
    "print(Z[-1,:])"
   ]
  },
  {
   "cell_type": "code",
   "execution_count": 161,
   "metadata": {},
   "outputs": [
    {
     "name": "stdout",
     "output_type": "stream",
     "text": [
      "269153.48039269156\n"
     ]
    }
   ],
   "source": [
    "print(10**(1.43)/1e-4)"
   ]
  },
  {
   "cell_type": "code",
   "execution_count": 202,
   "metadata": {},
   "outputs": [
    {
     "data": {
      "text/plain": [
       "(array([  742.9735753395449, -1268.874267474484 ]),\n",
       " array([[     0.             ,      0.             ,      0.             ],\n",
       "        [  2673.7269029621293,   1597.6994574842893,      0.             ],\n",
       "        [ -3129.3892044513323, -17691.307448508003 , -17228.10530012971  ]]))"
      ]
     },
     "execution_count": 202,
     "metadata": {},
     "output_type": "execute_result"
    }
   ],
   "source": [
    "derivative(2, d_vec, x, 1e-4, 1e4, ML)"
   ]
  },
  {
   "cell_type": "code",
   "execution_count": 211,
   "metadata": {},
   "outputs": [],
   "source": [
    "from derivativeintensive import *"
   ]
  },
  {
   "cell_type": "code",
   "execution_count": 212,
   "metadata": {},
   "outputs": [],
   "source": [
    "alpha = 1e-4\n",
    "cutoff = 5e4"
   ]
  },
  {
   "cell_type": "code",
   "execution_count": 213,
   "metadata": {},
   "outputs": [
    {
     "name": "stderr",
     "output_type": "stream",
     "text": [
      "  0%|          | 0/15 [00:00<?, ?it/s]"
     ]
    },
    {
     "name": "stderr",
     "output_type": "stream",
     "text": [
      "100%|██████████| 15/15 [02:31<00:00, 10.13s/it]\n"
     ]
    },
    {
     "data": {
      "text/plain": [
       "(array([[ 3.418777118647069e+01,  1.087568244938529e+02],\n",
       "        [ 3.555404322597755e+01,  2.161510699091480e+01],\n",
       "        [ 3.976097955776023e+01, -6.091575229247137e+01],\n",
       "        [ 1.744895782012014e+02,  1.908866697238783e+03],\n",
       "        [ 3.663587577340567e+01,  4.726346768283859e+01],\n",
       "        [ 1.487142508000423e+02,  2.401091363075075e+03],\n",
       "        [ 2.563917399643717e+01, -1.655477624404737e+01],\n",
       "        [ 2.615234422082273e+02, -4.624321382043137e+03],\n",
       "        [ 9.926752138163867e+01, -2.933698315143403e+02],\n",
       "        [ 7.423759884140883e+02, -1.268660754565067e+03],\n",
       "        [ 1.508270766159284e+02,  3.676371679205092e+02],\n",
       "        [ 1.541302014269376e+02,  2.228447827506162e+02],\n",
       "        [ 2.022253810303363e+01,  1.007198981402171e+01],\n",
       "        [ 1.094974182332861e+02, -5.623184571391811e+02],\n",
       "        [ 3.078585186565317e+03,  6.904793988801460e+04]]),\n",
       " {'d_vec': array([2, 0, 0]),\n",
       "  'ML': 4,\n",
       "  'n_max': 2,\n",
       "  'cutoffs': 50000.0,\n",
       "  'alpha': 0.0001},\n",
       " array([0.2483702, 0.7248122, 1.256776 , 1.9012171, 2.3896478, 3.0340277, 3.4723377, 4.0761681, 4.5207114, 4.9183471, 5.2292658, 5.630259 , 6.8823551, 7.7384732, 8.0283856]))"
      ]
     },
     "execution_count": 213,
     "metadata": {},
     "output_type": "execute_result"
    }
   ],
   "source": [
    "derivative_directory(d_vec, ML, 2, alpha, cutoff)"
   ]
  },
  {
   "cell_type": "code",
   "execution_count": 214,
   "metadata": {},
   "outputs": [],
   "source": [
    "def load_last_npz(directory, file_name):\n",
    "    base_path = os.path.join(directory,file_name)\n",
    "    filename = f\"{base_path}_{{}}.npz\"\n",
    "    counter = 0\n",
    "    while os.path.exists(filename.format(counter)):\n",
    "        counter += 1\n",
    "    \n",
    "    counter -= 1\n",
    "    print(f\"Loading {filename.format(counter)}\")\n",
    "    return np.load(filename.format(counter), allow_pickle=True)"
   ]
  },
  {
   "cell_type": "code",
   "execution_count": 215,
   "metadata": {},
   "outputs": [
    {
     "ename": "NameError",
     "evalue": "name 'derivative_location' is not defined",
     "output_type": "error",
     "traceback": [
      "\u001b[0;31m---------------------------------------------------------------------------\u001b[0m",
      "\u001b[0;31mNameError\u001b[0m                                 Traceback (most recent call last)",
      "Cell \u001b[0;32mIn[215], line 1\u001b[0m\n\u001b[0;32m----> 1\u001b[0m data \u001b[38;5;241m=\u001b[39mload_last_npz(\u001b[43mderivative_location\u001b[49m(d_vec, ML), \u001b[38;5;124m\"\u001b[39m\u001b[38;5;124mdata\u001b[39m\u001b[38;5;124m\"\u001b[39m)\n",
      "\u001b[0;31mNameError\u001b[0m: name 'derivative_location' is not defined"
     ]
    }
   ],
   "source": [
    "data =load_last_npz(derivative_location(d_vec, ML), \"data\")"
   ]
  },
  {
   "cell_type": "code",
   "execution_count": 217,
   "metadata": {},
   "outputs": [
    {
     "name": "stdout",
     "output_type": "stream",
     "text": [
      "4\n",
      "Next  [0 0 0]\n"
     ]
    },
    {
     "name": "stderr",
     "output_type": "stream",
     "text": [
      "  0%|          | 0/15 [00:00<?, ?it/s]"
     ]
    },
    {
     "name": "stderr",
     "output_type": "stream",
     "text": [
      "  7%|▋         | 1/15 [00:46<10:57, 46.97s/it]\n",
      "[autoreload of derivativeintensive failed: Traceback (most recent call last):\n",
      "  File \"/Users/ericrechberger/opt/anaconda3/lib/python3.9/site-packages/IPython/extensions/autoreload.py\", line 276, in check\n",
      "    superreload(m, reload, self.old_objects)\n",
      "  File \"/Users/ericrechberger/opt/anaconda3/lib/python3.9/site-packages/IPython/extensions/autoreload.py\", line 475, in superreload\n",
      "    module = reload(module)\n",
      "  File \"/Users/ericrechberger/opt/anaconda3/lib/python3.9/importlib/__init__.py\", line 169, in reload\n",
      "    _bootstrap._exec(spec, module)\n",
      "  File \"<frozen importlib._bootstrap>\", line 613, in _exec\n",
      "  File \"<frozen importlib._bootstrap_external>\", line 850, in exec_module\n",
      "  File \"<frozen importlib._bootstrap>\", line 228, in _call_with_frames_removed\n",
      "  File \"/Users/ericrechberger/Library/CloudStorage/OneDrive-UniversityofEdinburgh/MPhys project/Code/MPhys-Code/derivativeintensive.py\", line 137, in <module>\n",
      "    main()\n",
      "  File \"/Users/ericrechberger/Library/CloudStorage/OneDrive-UniversityofEdinburgh/MPhys project/Code/MPhys-Code/derivativeintensive.py\", line 75, in main\n",
      "    derivative_directory(d_vec, ML, n_max, alpha,cutoff)\n",
      "  File \"/Users/ericrechberger/Library/CloudStorage/OneDrive-UniversityofEdinburgh/MPhys project/Code/MPhys-Code/derivativeintensive.py\", line 34, in derivative_directory\n",
      "    derivative_array[i], g_matrices[i] = derivative(n_max, d_vec, zeros[i], alpha, cutoff, ML )\n",
      "  File \"/Users/ericrechberger/Library/CloudStorage/OneDrive-UniversityofEdinburgh/MPhys project/Code/MPhys-Code/derivative.py\", line 218, in derivative\n",
      "    FV_matrix[i,j] = deltaFV(i,j,d_vec, x, cutoff, alpha, ML )\n",
      "KeyboardInterrupt\n",
      "]\n"
     ]
    }
   ],
   "source": [
    "from derivativeintensive import *"
   ]
  },
  {
   "cell_type": "code",
   "execution_count": null,
   "metadata": {},
   "outputs": [],
   "source": []
  }
 ],
 "metadata": {
  "kernelspec": {
   "display_name": "base",
   "language": "python",
   "name": "python3"
  },
  "language_info": {
   "codemirror_mode": {
    "name": "ipython",
    "version": 3
   },
   "file_extension": ".py",
   "mimetype": "text/x-python",
   "name": "python",
   "nbconvert_exporter": "python",
   "pygments_lexer": "ipython3",
   "version": "3.9.16"
  }
 },
 "nbformat": 4,
 "nbformat_minor": 2
}
