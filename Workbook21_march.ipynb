{
 "cells": [
  {
   "cell_type": "code",
   "execution_count": 43,
   "metadata": {},
   "outputs": [
    {
     "name": "stdout",
     "output_type": "stream",
     "text": [
      "The autoreload extension is already loaded. To reload it, use:\n",
      "  %reload_ext autoreload\n"
     ]
    }
   ],
   "source": [
    "from graph_convergence_gaa_1 import *\n",
    "np.set_printoptions(precision=10, linewidth=200)\n",
    "%load_ext autoreload\n",
    "%autoreload 2\n"
   ]
  },
  {
   "cell_type": "code",
   "execution_count": 58,
   "metadata": {},
   "outputs": [
    {
     "name": "stderr",
     "output_type": "stream",
     "text": [
      "  0%|          | 0/10 [00:00<?, ?it/s]"
     ]
    },
    {
     "name": "stdout",
     "output_type": "stream",
     "text": [
      "1 1\n"
     ]
    },
    {
     "name": "stdout",
     "output_type": "stream",
     "text": [
      "1 1\n",
      "1 1\n",
      "1 1\n",
      "1 1\n",
      "1 1\n",
      "1 1\n",
      "1 1\n",
      "1 1\n",
      "1 1\n"
     ]
    },
    {
     "name": "stderr",
     "output_type": "stream",
     "text": [
      " 10%|█         | 1/10 [00:02<00:26,  2.95s/it]"
     ]
    },
    {
     "name": "stdout",
     "output_type": "stream",
     "text": [
      "1 1\n",
      "1 1\n",
      "1 1\n",
      "1 1\n",
      "1 1\n",
      "1 1\n",
      "1 1\n",
      "1 1\n",
      "1 1\n",
      "1 1\n"
     ]
    },
    {
     "name": "stderr",
     "output_type": "stream",
     "text": [
      " 20%|██        | 2/10 [00:05<00:22,  2.86s/it]"
     ]
    },
    {
     "name": "stdout",
     "output_type": "stream",
     "text": [
      "1 1\n",
      "1 1\n",
      "1 1\n",
      "1 1\n",
      "1 1\n",
      "1 1\n",
      "1 1\n",
      "1 1\n",
      "1 1\n",
      "1 1\n"
     ]
    },
    {
     "name": "stderr",
     "output_type": "stream",
     "text": [
      " 30%|███       | 3/10 [00:08<00:19,  2.85s/it]"
     ]
    },
    {
     "name": "stdout",
     "output_type": "stream",
     "text": [
      "1 1\n",
      "1 1\n",
      "1 1\n",
      "1 1\n",
      "1 1\n",
      "1 1\n",
      "1 1\n",
      "1 1\n",
      "1 1\n",
      "1 1\n"
     ]
    },
    {
     "name": "stderr",
     "output_type": "stream",
     "text": [
      " 40%|████      | 4/10 [00:12<00:18,  3.15s/it]"
     ]
    },
    {
     "name": "stdout",
     "output_type": "stream",
     "text": [
      "1 1\n",
      "1 1\n",
      "1 1\n",
      "1 1\n",
      "1 1\n",
      "1 1\n",
      "1 1\n",
      "1 1\n",
      "1 1\n",
      "1 1\n"
     ]
    },
    {
     "name": "stderr",
     "output_type": "stream",
     "text": [
      " 50%|█████     | 5/10 [00:16<00:17,  3.40s/it]"
     ]
    },
    {
     "name": "stdout",
     "output_type": "stream",
     "text": [
      "1 1\n",
      "1 1\n",
      "1 1\n",
      "1 1\n",
      "1 1\n",
      "1 1\n",
      "1 1\n",
      "1 1\n",
      "1 1\n",
      "1 1\n"
     ]
    },
    {
     "name": "stderr",
     "output_type": "stream",
     "text": [
      " 60%|██████    | 6/10 [00:20<00:15,  3.75s/it]"
     ]
    },
    {
     "name": "stdout",
     "output_type": "stream",
     "text": [
      "1 1\n",
      "1 1\n",
      "1 1\n",
      "1 1\n",
      "1 1\n",
      "1 1\n",
      "1 1\n",
      "1 1\n",
      "1 1\n",
      "1 1\n"
     ]
    },
    {
     "name": "stderr",
     "output_type": "stream",
     "text": [
      " 70%|███████   | 7/10 [00:25<00:12,  4.19s/it]"
     ]
    },
    {
     "name": "stdout",
     "output_type": "stream",
     "text": [
      "1 1\n",
      "1 1\n",
      "1 1\n",
      "1 1\n",
      "1 1\n",
      "1 1\n",
      "1 1\n",
      "1 1\n",
      "1 1\n",
      "1 1\n"
     ]
    },
    {
     "name": "stderr",
     "output_type": "stream",
     "text": [
      " 80%|████████  | 8/10 [00:32<00:09,  4.91s/it]"
     ]
    },
    {
     "name": "stdout",
     "output_type": "stream",
     "text": [
      "1 1\n",
      "1 1\n",
      "1 1\n",
      "1 1\n",
      "1 1\n",
      "1 1\n",
      "1 1\n",
      "1 1\n",
      "1 1\n",
      "1 1\n"
     ]
    },
    {
     "name": "stderr",
     "output_type": "stream",
     "text": [
      " 90%|█████████ | 9/10 [00:41<00:06,  6.26s/it]"
     ]
    },
    {
     "name": "stdout",
     "output_type": "stream",
     "text": [
      "1 1\n",
      "1 1\n",
      "1 1\n",
      "1 1\n",
      "1 1\n",
      "1 1\n",
      "1 1\n",
      "1 1\n",
      "1 1\n",
      "1 1\n"
     ]
    },
    {
     "name": "stderr",
     "output_type": "stream",
     "text": [
      "100%|██████████| 10/10 [00:57<00:00,  5.71s/it]\n"
     ]
    }
   ],
   "source": [
    "\n",
    "a = 1\n",
    "b = 1\n",
    "\n",
    "d_vec = np.array([1,0,0])\n",
    "x = 0.643941\n",
    "alpha = 0.1\n",
    "#cutoff = 5e4\n",
    "ML = 4\n",
    "\n",
    "\n",
    "\n",
    "resolution = 10\n",
    "alpha = np.logspace(-1,-4,resolution)\n",
    "cutoff = np.logspace(3,5.5, resolution)\n",
    "\n",
    "A, C = np.meshgrid(alpha, cutoff)\n",
    "Z = np.zeros_like(A)\n",
    "for i in tqdm(range(len(A))):\n",
    "    for j in range(len(C)):\n",
    "        Z[i,j] = limiting(a,b, d_vec, x, A[i,j],C[i,j],ML)\n",
    "        #derivative(1, d_vec, x, A[i,j],C[i,j],ML) #limiting(a,b,d_vec, x, A[i,j], C[i,j], ML)"
   ]
  },
  {
   "cell_type": "code",
   "execution_count": 59,
   "metadata": {},
   "outputs": [
    {
     "data": {
      "image/png": "[encoded data removed]",
      "text/plain": [
       "<Figure size 640x480 with 2 Axes>"
      ]
     },
     "metadata": {},
     "output_type": "display_data"
    },
    {
     "name": "stdout",
     "output_type": "stream",
     "text": [
      "[[  10.6077027096   10.4629141445   10.3957091962   10.3628452874   10.0126483087    4.5618813244  -19.7563639763  -76.915834112  -177.5754730445 -335.3089232739]\n",
      " [  10.6077027096   10.4629141445   10.3957092457   10.3645109434   10.3313839812    8.98770912     -3.8392833197  -47.6683829608 -138.6598587921 -290.8457032369]\n",
      " [  10.6077027096   10.4629141445   10.3957092457   10.3645154947   10.3498581372   10.2061466375    5.8914300048  -21.1811164288  -96.1333194749 -237.7650786336]\n",
      " [  10.6077027096   10.4629141445   10.3957092457   10.364515495    10.3500365421   10.3398081708    9.6187418712   -2.0811289444  -54.4097381619 -177.485769939 ]\n",
      " [  10.6077027096   10.4629141445   10.3957092457   10.364515495    10.3500366385   10.3433067076   10.3003675674    7.425593598   -20.1804135473 -114.5691620374]\n",
      " [  10.6077027096   10.4629141445   10.3957092457   10.364515495    10.3500366385   10.343316148    10.3398188143   10.0445905574    0.7684334433  -57.5227521382]\n",
      " [  10.6077027096   10.4629141445   10.3957092457   10.364515495    10.3500366385   10.3433161486   10.3401965718   10.3312456916    8.7872245699  -16.3961779017]\n",
      " [  10.6077027096   10.4629141445   10.3957092457   10.364515495    10.3500366385   10.3433161486   10.3401967735   10.3387287785   10.2525070387    4.0668526922]\n",
      " [  10.6077027096   10.4629141445   10.3957092457   10.364515495    10.3500366385   10.3433161486   10.3401967735   10.3387488865   10.3372648841    9.7044866694]\n",
      " [  10.6077027096   10.4629141445   10.3957092457   10.364515495    10.3500366385   10.3433161486   10.3401967735   10.3387488879   10.3380764069   10.3216235976]]\n"
     ]
    }
   ],
   "source": [
    "plt.contourf(np.log10(A), np.log10(C), Z, levels=30)\n",
    "plt.colorbar()\n",
    "\n",
    "\n",
    "plt.plot()\n",
    "plt.show()\n",
    "\n",
    "np.savez(\"temp\", Z = Z)\n",
    "print(Z)"
   ]
  },
  {
   "cell_type": "code",
   "execution_count": 52,
   "metadata": {},
   "outputs": [
    {
     "name": "stdout",
     "output_type": "stream",
     "text": [
      "[[0.1          0.1          0.1          0.1          0.1          0.1         ]\n",
      " [0.0251188643 0.0251188643 0.0251188643 0.0251188643 0.0251188643 0.0251188643]\n",
      " [0.0063095734 0.0063095734 0.0063095734 0.0063095734 0.0063095734 0.0063095734]\n",
      " [0.0015848932 0.0015848932 0.0015848932 0.0015848932 0.0015848932 0.0015848932]\n",
      " [0.0003981072 0.0003981072 0.0003981072 0.0003981072 0.0003981072 0.0003981072]\n",
      " [0.0001       0.0001       0.0001       0.0001       0.0001       0.0001      ]]\n"
     ]
    }
   ],
   "source": [
    "print(A)"
   ]
  },
  {
   "cell_type": "code",
   "execution_count": 53,
   "metadata": {},
   "outputs": [
    {
     "name": "stdout",
     "output_type": "stream",
     "text": [
      "[[ 1000.            1995.2623149689  3981.071705535   7943.2823472428 15848.9319246111 31622.7766016838]\n",
      " [ 1000.            1995.2623149689  3981.071705535   7943.2823472428 15848.9319246111 31622.7766016838]\n",
      " [ 1000.            1995.2623149689  3981.071705535   7943.2823472428 15848.9319246111 31622.7766016838]\n",
      " [ 1000.            1995.2623149689  3981.071705535   7943.2823472428 15848.9319246111 31622.7766016838]\n",
      " [ 1000.            1995.2623149689  3981.071705535   7943.2823472428 15848.9319246111 31622.7766016838]\n",
      " [ 1000.            1995.2623149689  3981.071705535   7943.2823472428 15848.9319246111 31622.7766016838]]\n"
     ]
    }
   ],
   "source": [
    "print(C)"
   ]
  },
  {
   "cell_type": "code",
   "execution_count": null,
   "metadata": {},
   "outputs": [],
   "source": []
  }
 ],
 "metadata": {
  "kernelspec": {
   "display_name": "base",
   "language": "python",
   "name": "python3"
  },
  "language_info": {
   "codemirror_mode": {
    "name": "ipython",
    "version": 3
   },
   "file_extension": ".py",
   "mimetype": "text/x-python",
   "name": "python",
   "nbconvert_exporter": "python",
   "pygments_lexer": "ipython3",
   "version": "3.9.16"
  }
 },
 "nbformat": 4,
 "nbformat_minor": 2
}
