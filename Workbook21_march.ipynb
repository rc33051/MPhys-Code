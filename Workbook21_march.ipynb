{
 "cells": [
  {
   "cell_type": "code",
   "execution_count": 110,
   "metadata": {},
   "outputs": [
    {
     "name": "stdout",
     "output_type": "stream",
     "text": [
      "The autoreload extension is already loaded. To reload it, use:\n",
      "  %reload_ext autoreload\n"
     ]
    }
   ],
   "source": [
    "from graph_convergence_gaa_1 import *\n",
    "np.set_printoptions(precision=10, linewidth=200)\n",
    "%load_ext autoreload\n",
    "%autoreload 2\n",
    "from derivative import *\n"
   ]
  },
  {
   "cell_type": "code",
   "execution_count": 117,
   "metadata": {},
   "outputs": [
    {
     "name": "stderr",
     "output_type": "stream",
     "text": [
      "100%|██████████| 6/6 [00:39<00:00,  6.55s/it]\n"
     ]
    }
   ],
   "source": [
    "\n",
    "a = 1\n",
    "b = 0\n",
    "\n",
    "d_vec = np.array([1,0,0])\n",
    "#x = 0.643941\n",
    "x = 10.2\n",
    "alpha = 0.1\n",
    "#cutoff = 5e4\n",
    "ML = 4\n",
    "\n",
    "\n",
    "\n",
    "resolution = 6\n",
    "alpha = np.logspace(-1,-3,resolution)\n",
    "cutoff = np.logspace(3,5, resolution)\n",
    "\n",
    "A, C = np.meshgrid(alpha, cutoff)\n",
    "Z = np.zeros_like(A)\n",
    "for i in tqdm(range(len(A))):\n",
    "    for j in range(len(C)):\n",
    "        Z[i,j] = derivative(1, d_vec, x, A[i,j],C[i,j],ML) #limiting(a,b,d_vec, x, A[i,j], C[i,j], ML)\n",
    "        #limiting(a,b, d_vec, x, A[i,j],C[i,j],ML)\n",
    "        #derivative(1, d_vec, x, A[i,j],C[i,j],ML) #limiting(a,b,d_vec, x, A[i,j], C[i,j], ML)"
   ]
  },
  {
   "cell_type": "code",
   "execution_count": 116,
   "metadata": {},
   "outputs": [
    {
     "name": "stdout",
     "output_type": "stream",
     "text": [
      "0.1\n"
     ]
    }
   ],
   "source": [
    "print(x)"
   ]
  },
  {
   "cell_type": "code",
   "execution_count": 99,
   "metadata": {},
   "outputs": [
    {
     "name": "stdout",
     "output_type": "stream",
     "text": [
      "0 0\n"
     ]
    },
    {
     "name": "stdout",
     "output_type": "stream",
     "text": [
      "19.449112940837267\n"
     ]
    }
   ],
   "source": [
    "print(limiting(a,b,d_vec, x,0.01, 1e3, ML))"
   ]
  },
  {
   "cell_type": "code",
   "execution_count": 118,
   "metadata": {},
   "outputs": [
    {
     "data": {
      "image/png": "[encoded data removed]",
      "text/plain": [
       "<Figure size 640x480 with 2 Axes>"
      ]
     },
     "metadata": {},
     "output_type": "display_data"
    },
    {
     "name": "stdout",
     "output_type": "stream",
     "text": [
      "[[116.9058743373 117.1977450935 117.3139498682 117.3811258698 118.202723692  123.0339036416]\n",
      " [116.9058743373 117.1977450935 117.3139409344 117.3602132139 117.4117324365 118.694015593 ]\n",
      " [116.9058743373 117.1977450935 117.3139409344 117.3601993319 117.378636641  117.438180356 ]\n",
      " [116.9058743373 117.1977450935 117.3139409344 117.3601993319 117.3786151316 117.3859807093]\n",
      " [116.9058743373 117.1977450935 117.3139409344 117.3601993319 117.3786151316 117.3859465935]\n",
      " [116.9058743373 117.1977450935 117.3139409344 117.3601993319 117.3786151316 117.3859465935]]\n"
     ]
    }
   ],
   "source": [
    "plt.contourf(np.log10(A), np.log10(C), Z, levels=30)\n",
    "plt.colorbar()\n",
    "\n",
    "\n",
    "plt.plot()\n",
    "plt.show()\n",
    "\n",
    "np.savez(\"temp\", Z = Z)\n",
    "print(Z)"
   ]
  },
  {
   "cell_type": "code",
   "execution_count": 52,
   "metadata": {},
   "outputs": [
    {
     "name": "stdout",
     "output_type": "stream",
     "text": [
      "[[0.1          0.1          0.1          0.1          0.1          0.1         ]\n",
      " [0.0251188643 0.0251188643 0.0251188643 0.0251188643 0.0251188643 0.0251188643]\n",
      " [0.0063095734 0.0063095734 0.0063095734 0.0063095734 0.0063095734 0.0063095734]\n",
      " [0.0015848932 0.0015848932 0.0015848932 0.0015848932 0.0015848932 0.0015848932]\n",
      " [0.0003981072 0.0003981072 0.0003981072 0.0003981072 0.0003981072 0.0003981072]\n",
      " [0.0001       0.0001       0.0001       0.0001       0.0001       0.0001      ]]\n"
     ]
    }
   ],
   "source": [
    "print(A)"
   ]
  },
  {
   "cell_type": "code",
   "execution_count": 53,
   "metadata": {},
   "outputs": [
    {
     "name": "stdout",
     "output_type": "stream",
     "text": [
      "[[ 1000.            1995.2623149689  3981.071705535   7943.2823472428 15848.9319246111 31622.7766016838]\n",
      " [ 1000.            1995.2623149689  3981.071705535   7943.2823472428 15848.9319246111 31622.7766016838]\n",
      " [ 1000.            1995.2623149689  3981.071705535   7943.2823472428 15848.9319246111 31622.7766016838]\n",
      " [ 1000.            1995.2623149689  3981.071705535   7943.2823472428 15848.9319246111 31622.7766016838]\n",
      " [ 1000.            1995.2623149689  3981.071705535   7943.2823472428 15848.9319246111 31622.7766016838]\n",
      " [ 1000.            1995.2623149689  3981.071705535   7943.2823472428 15848.9319246111 31622.7766016838]]\n"
     ]
    }
   ],
   "source": [
    "print(C)"
   ]
  },
  {
   "cell_type": "code",
   "execution_count": 62,
   "metadata": {},
   "outputs": [
    {
     "name": "stderr",
     "output_type": "stream",
     "text": [
      "  0%|          | 0/10 [00:00<?, ?it/s]"
     ]
    },
    {
     "name": "stdout",
     "output_type": "stream",
     "text": [
      "1 1\n",
      "1 1\n",
      "1 1\n",
      "1 1\n",
      "1 1\n",
      "1 1\n",
      "1 1\n",
      "1 1\n",
      "1 1\n"
     ]
    },
    {
     "name": "stderr",
     "output_type": "stream",
     "text": [
      "  0%|          | 0/10 [00:13<?, ?it/s]\n",
      "[autoreload of graph_convergence_gaa_1 failed: Traceback (most recent call last):\n",
      "  File \"/Users/ericrechberger/opt/anaconda3/lib/python3.9/site-packages/IPython/extensions/autoreload.py\", line 276, in check\n",
      "    superreload(m, reload, self.old_objects)\n",
      "  File \"/Users/ericrechberger/opt/anaconda3/lib/python3.9/site-packages/IPython/extensions/autoreload.py\", line 475, in superreload\n",
      "    module = reload(module)\n",
      "  File \"/Users/ericrechberger/opt/anaconda3/lib/python3.9/importlib/__init__.py\", line 169, in reload\n",
      "    _bootstrap._exec(spec, module)\n",
      "  File \"<frozen importlib._bootstrap>\", line 613, in _exec\n",
      "  File \"<frozen importlib._bootstrap_external>\", line 850, in exec_module\n",
      "  File \"<frozen importlib._bootstrap>\", line 228, in _call_with_frames_removed\n",
      "  File \"/Users/ericrechberger/Library/CloudStorage/OneDrive-UniversityofEdinburgh/MPhys project/Code/MPhys-Code/graph_convergence_gaa_1.py\", line 66, in <module>\n",
      "    main()\n",
      "  File \"/Users/ericrechberger/Library/CloudStorage/OneDrive-UniversityofEdinburgh/MPhys project/Code/MPhys-Code/graph_convergence_gaa_1.py\", line 48, in main\n",
      "    Z[i,j] = limiting(a,b, d_vec, x, A[i,j],C[i,j],ML)\n",
      "  File \"/Users/ericrechberger/Library/CloudStorage/OneDrive-UniversityofEdinburgh/MPhys project/Code/MPhys-Code/graph_convergence_gaa_1.py\", line 23, in limiting\n",
      "    return g_large(a,b,d_vec, x, cutoff, alpha, ML )-gam**(1+2*b)*U(a,b,x,alpha)\n",
      "  File \"/Users/ericrechberger/Library/CloudStorage/OneDrive-UniversityofEdinburgh/MPhys project/Code/MPhys-Code/gab_large_cutoff.py\", line 92, in g_ab_parallel\n",
      "    results = executor.map(unpack_evaluate_terms_summand, tasks)\n",
      "KeyboardInterrupt\n",
      "]\n"
     ]
    }
   ],
   "source": [
    "data = np.load(\"temp.npz\")\n",
    "Z = data[\"Z\"]"
   ]
  },
  {
   "cell_type": "code",
   "execution_count": 89,
   "metadata": {},
   "outputs": [],
   "source": [
    "data = np.load(\"temp.npz\")"
   ]
  },
  {
   "cell_type": "code",
   "execution_count": null,
   "metadata": {},
   "outputs": [],
   "source": [
    "Z = data[\"Z\"]"
   ]
  },
  {
   "cell_type": "code",
   "execution_count": 90,
   "metadata": {},
   "outputs": [
    {
     "name": "stdout",
     "output_type": "stream",
     "text": [
      "[[ 7.2334832387e+00  1.0440939448e+01  1.0607700340e+01  1.0607702710e+01  1.0607702710e+01  1.0607702710e+01  1.0607702710e+01  1.0607702710e+01  1.0607702710e+01  1.0607702710e+01]\n",
      " [-7.2267247579e+00  3.8208690143e+00  1.0141170040e+01  1.0403650255e+01  1.0403653417e+01  1.0403653417e+01  1.0403653417e+01  1.0403653417e+01  1.0403653417e+01  1.0403653417e+01]\n",
      " [-4.0266319725e+01 -2.4575593246e+01 -2.0538624373e+00  9.8450592013e+00  1.0353687462e+01  1.0353693238e+01  1.0353693238e+01  1.0353693238e+01  1.0353693238e+01  1.0353693238e+01]\n",
      " [-1.0781144603e+02 -9.0656426906e+01 -5.8373451602e+01 -1.4519234498e+01  9.3232679812e+00  1.0341449432e+01  1.0341460805e+01  1.0341460805e+01  1.0341460805e+01  1.0341460805e+01]\n",
      " [-2.4424082708e+02 -2.2670335262e+02 -1.9132509936e+02 -1.2805905373e+02 -3.9798859052e+01  8.2855255904e+00  1.0338442929e+01  1.0338465771e+01  1.0338465771e+01  1.0338465771e+01]\n",
      " [-5.1979375151e+02 -5.0216112621e+02 -4.6597327140e+02 -3.9654343593e+02 -2.6911945136e+02 -9.0938299446e+01  6.1916156324e+00  1.0337686347e+01  1.0337732455e+01  1.0337732455e+01]\n",
      " [-1.0765594120e+03 -1.0589033980e+03 -1.0225140516e+03 -9.5147158395e+02 -8.1161086402e+02 -5.5432089963e+02 -1.9430324226e+02  1.9590481287e+00  1.0337459748e+01  1.0337552908e+01]\n",
      " [-2.2016911745e+03 -2.1840294284e+03 -2.1475905497e+03 -2.0761467097e+03 -1.9330321269e+03 -1.6506202741e+03 -1.1307360172e+03 -4.0322641229e+02 -6.5947811496e+00  1.0337320699e+01]\n",
      " [-4.4754926640e+03 -4.4578295141e+03 -4.4213784959e+03 -4.3498359859e+03 -4.2059115386e+03 -3.9169269644e+03 -3.3462746139e+03 -2.2957010387e+03 -8.2545251049e+02 -2.3881338166e+01]\n",
      " [-9.0707146078e+03 -9.0530511142e+03 -9.0165971229e+03 -8.9450304304e+03 -8.8009068929e+03 -8.5102864129e+03 -7.9263514030e+03 -6.7731839076e+03 -4.6500448244e+03 -1.6787466104e+03]]\n"
     ]
    }
   ],
   "source": [
    "print(Z)"
   ]
  },
  {
   "cell_type": "code",
   "execution_count": 70,
   "metadata": {},
   "outputs": [
    {
     "data": {
      "image/png": "[encoded data removed]",
      "text/plain": [
       "<Figure size 640x480 with 2 Axes>"
      ]
     },
     "metadata": {},
     "output_type": "display_data"
    },
    {
     "name": "stdout",
     "output_type": "stream",
     "text": [
      "[[ 7.2334832387e+00  1.0440939448e+01  1.0607700340e+01  1.0607702710e+01  1.0607702710e+01  1.0607702710e+01  1.0607702710e+01  1.0607702710e+01  1.0607702710e+01  1.0607702710e+01]\n",
      " [-7.2267247579e+00  3.8208690143e+00  1.0141170040e+01  1.0403650255e+01  1.0403653417e+01  1.0403653417e+01  1.0403653417e+01  1.0403653417e+01  1.0403653417e+01  1.0403653417e+01]\n",
      " [-4.0266319725e+01 -2.4575593246e+01 -2.0538624373e+00  9.8450592013e+00  1.0353687462e+01  1.0353693238e+01  1.0353693238e+01  1.0353693238e+01  1.0353693238e+01  1.0353693238e+01]\n",
      " [-1.0781144603e+02 -9.0656426906e+01 -5.8373451602e+01 -1.4519234498e+01  9.3232679812e+00  1.0341449432e+01  1.0341460805e+01  1.0341460805e+01  1.0341460805e+01  1.0341460805e+01]\n",
      " [-2.4424082708e+02 -2.2670335262e+02 -1.9132509936e+02 -1.2805905373e+02 -3.9798859052e+01  8.2855255904e+00  1.0338442929e+01  1.0338465771e+01  1.0338465771e+01  1.0338465771e+01]\n",
      " [-5.1979375151e+02 -5.0216112621e+02 -4.6597327140e+02 -3.9654343593e+02 -2.6911945136e+02 -9.0938299446e+01  6.1916156324e+00  1.0337686347e+01  1.0337732455e+01  1.0337732455e+01]\n",
      " [-1.0765594120e+03 -1.0589033980e+03 -1.0225140516e+03 -9.5147158395e+02 -8.1161086402e+02 -5.5432089963e+02 -1.9430324226e+02  1.9590481287e+00  1.0337459748e+01  1.0337552908e+01]\n",
      " [-2.2016911745e+03 -2.1840294284e+03 -2.1475905497e+03 -2.0761467097e+03 -1.9330321269e+03 -1.6506202741e+03 -1.1307360172e+03 -4.0322641229e+02 -6.5947811496e+00  1.0337320699e+01]\n",
      " [-4.4754926640e+03 -4.4578295141e+03 -4.4213784959e+03 -4.3498359859e+03 -4.2059115386e+03 -3.9169269644e+03 -3.3462746139e+03 -2.2957010387e+03 -8.2545251049e+02 -2.3881338166e+01]\n",
      " [-9.0707146078e+03 -9.0530511142e+03 -9.0165971229e+03 -8.9450304304e+03 -8.8009068929e+03 -8.5102864129e+03 -7.9263514030e+03 -6.7731839076e+03 -4.6500448244e+03 -1.6787466104e+03]]\n"
     ]
    }
   ],
   "source": [
    "plt.contourf(np.log10(A), np.log10(C), Z, levels=30)\n",
    "plt.colorbar()\n",
    "\n",
    "\n",
    "plt.plot()\n",
    "plt.show()\n",
    "\n",
    "#np.savez(\"temp\", Z = Z)\n",
    "print(Z)"
   ]
  },
  {
   "cell_type": "code",
   "execution_count": 87,
   "metadata": {},
   "outputs": [
    {
     "name": "stdout",
     "output_type": "stream",
     "text": [
      "1 1\n",
      "-102.53061442055696\n"
     ]
    }
   ],
   "source": [
    "print(limiting(a,b,d_vec, x,0.000001, 3e6, ML))"
   ]
  },
  {
   "cell_type": "code",
   "execution_count": null,
   "metadata": {},
   "outputs": [],
   "source": []
  }
 ],
 "metadata": {
  "kernelspec": {
   "display_name": "base",
   "language": "python",
   "name": "python3"
  },
  "language_info": {
   "codemirror_mode": {
    "name": "ipython",
    "version": 3
   },
   "file_extension": ".py",
   "mimetype": "text/x-python",
   "name": "python",
   "nbconvert_exporter": "python",
   "pygments_lexer": "ipython3",
   "version": "3.9.16"
  }
 },
 "nbformat": 4,
 "nbformat_minor": 2
}
