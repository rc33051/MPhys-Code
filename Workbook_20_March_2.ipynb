{
 "cells": [
  {
   "cell_type": "code",
   "execution_count": 2,
   "metadata": {},
   "outputs": [],
   "source": [
    "from standard_imports import *\n",
    "import os\n",
    "%load_ext autoreload\n",
    "%autoreload 2\n"
   ]
  },
  {
   "cell_type": "code",
   "execution_count": 8,
   "metadata": {},
   "outputs": [],
   "source": [
    "def derivative_location(d_vec, ML):\n",
    "    d_vec = np.array(d_vec)\n",
    "    directory = \"derivatives/ML_{}/\".format(ML)\n",
    "    folder_name = \"d_\" + str(d_vec).replace(\" \", \"\").replace(\"[\", \"\").replace(\"]\", \"\")\n",
    "    file_name = \"data\"\n",
    "    base_path = os.path.join(directory,folder_name, file_name)\n",
    "    path_full = f\"{base_path}_{{}}.npz\"\n",
    "    counter = 0\n",
    "    while os.path.exists(path_full.format(counter)):\n",
    "        counter += 1\n",
    "\n",
    "    counter -= 1\n",
    "    return path_full.format(counter)"
   ]
  },
  {
   "cell_type": "code",
   "execution_count": 15,
   "metadata": {},
   "outputs": [],
   "source": [
    "d_vec = np.array([0,0,0])\n",
    "ML = 4"
   ]
  },
  {
   "cell_type": "code",
   "execution_count": 16,
   "metadata": {},
   "outputs": [],
   "source": [
    "zeros = np.load(file_location(d_vec, ML))['zeros'] "
   ]
  },
  {
   "cell_type": "code",
   "execution_count": 18,
   "metadata": {},
   "outputs": [
    {
     "name": "stdout",
     "output_type": "stream",
     "text": [
      "[ 0.4728942  1.4415913  2.6270076  3.5366199  4.251706   5.5377008\n",
      "  7.1962632  8.2879537  9.5345314 10.5505341 11.7014957 12.3102392\n",
      " 13.3831152 15.3537375 16.1218253 17.5325415 18.6053932 19.5186394\n",
      " 20.4033187 21.6944179]\n"
     ]
    }
   ],
   "source": [
    "print(np.round(zeros, 7))"
   ]
  },
  {
   "cell_type": "code",
   "execution_count": null,
   "metadata": {},
   "outputs": [],
   "source": []
  },
  {
   "cell_type": "code",
   "execution_count": null,
   "metadata": {},
   "outputs": [],
   "source": [
    "derivative(1,d_vec, )"
   ]
  },
  {
   "cell_type": "code",
   "execution_count": null,
   "metadata": {},
   "outputs": [],
   "source": [
    "\n",
    "\n",
    "def get_der_at_root_automated(root_final=0.4728942473179055,\n",
    "                              iterations=50):\n",
    "    alpha = 0.5\n",
    "    cut = 10\n",
    "    value = derivative(1,root_final, cut, alpha)\n",
    "    returned_value = value\n",
    "    increasing_cut = True\n",
    "    tolerence = 1e-10\n",
    "    saved_values = []\n",
    "    for i in range(iterations):\n",
    "        if increasing_cut:\n",
    "            cut += 1\n",
    "            value_tmp = zeta_function_der(root_final, cut, alpha)\n",
    "            if np.abs(value_tmp-value) < tolerence:\n",
    "                increasing_cut = False\n",
    "                saved_values.append([value_tmp, cut, alpha])\n",
    "                returned_value = value_tmp\n",
    "            value = value_tmp\n",
    "        else:\n",
    "            alpha = alpha/2.\n",
    "            value_tmp = zeta_function_der(root_final, cut, alpha)\n",
    "            if np.abs(value_tmp-value) > tolerence:\n",
    "                increasing_cut = True\n",
    "    saved_values = np.array(saved_values)\n",
    "    return returned_value, saved_values"
   ]
  },
  {
   "cell_type": "code",
   "execution_count": 24,
   "metadata": {},
   "outputs": [
    {
     "name": "stdout",
     "output_type": "stream",
     "text": [
      "[[11.117246357231458 11.212910910003405 11.214751503263383 11.214751530214611 11.214751530214613 11.21475153021461  11.214751530214611 11.214751530214611 11.214751530214611 11.214751530214611]\n",
      " [10.847473575335464 11.159741824264481 11.213869104319437 11.214751516034907 11.214751530261765 11.214751530261768 11.214751530261765 11.214751530261765 11.214751530261765 11.214751530261765]\n",
      " [10.564658374133417 11.01396222866041  11.186951756011425 11.214285090741539 11.214751522823471 11.21475153027489  11.214751530274885 11.214751530274885 11.214751530274885 11.214751530274885]\n",
      " [10.364776685240074 10.86355959070835  11.111422191926543 11.200076322896152 11.214506097855491 11.21475152634806  11.214751530278535 11.214751530278535 11.214751530278535 11.214751530278535]\n",
      " [10.244197771178111 10.757827393145009 11.032723374635456 11.16023352994082  11.207019570852745 11.214622085844805 11.21475152820473  11.214751530279562 11.214751530279562 11.214751530279562]\n",
      " [10.176306843602527 10.694156303501746 10.977164965433754 11.118726153459237 11.18601420223641  11.210673397820806 11.214683232287012 11.21475152918604  11.214751530279825 11.214751530279825]\n",
      " [10.139298167569399 10.658328802182275 10.943643414904042 11.089423060570134 11.164125162058719 11.199593883782644 11.21260012128957  11.21471551076391  11.214751529702939 11.214751530279797]\n",
      " [10.11944324393823  10.638803090378005 10.924763170710511 11.071742009836644 11.14867000892077  11.188047926767418 11.206755515204023 11.213616768311756 11.21473252928431  11.214751529975528]\n",
      " [10.108877200914934 10.628328694594224 10.914468677533687 11.061783198236292 11.139343961656534 11.179895541405045 11.200664976610556 11.210533858257584 11.21415293460089  11.214741507193315]\n",
      " [10.103277865975118 10.622754864303506 10.90894492926969  11.056353010864452 11.134090899588035 11.174976121941237 11.196364586411153 11.2073211552153   11.212526691743115 11.214435770410791]]\n"
     ]
    }
   ],
   "source": [
    "data = np.load(\"temp.npz\")\n",
    "\n",
    "print(data['Z'])"
   ]
  },
  {
   "cell_type": "code",
   "execution_count": 22,
   "metadata": {},
   "outputs": [],
   "source": [
    "np.set_printoptions(precision=15, linewidth=1000)"
   ]
  },
  {
   "cell_type": "code",
   "execution_count": null,
   "metadata": {},
   "outputs": [],
   "source": [
    "11.214751530214611"
   ]
  }
 ],
 "metadata": {
  "kernelspec": {
   "display_name": "Python 3",
   "language": "python",
   "name": "python3"
  },
  "language_info": {
   "codemirror_mode": {
    "name": "ipython",
    "version": 3
   },
   "file_extension": ".py",
   "mimetype": "text/x-python",
   "name": "python",
   "nbconvert_exporter": "python",
   "pygments_lexer": "ipython3",
   "version": "3.8.10"
  }
 },
 "nbformat": 4,
 "nbformat_minor": 2
}
