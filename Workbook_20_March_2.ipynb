{
 "cells": [
  {
   "cell_type": "code",
   "execution_count": 2,
   "metadata": {},
   "outputs": [],
   "source": [
    "from standard_imports import *\n",
    "import os\n",
    "%load_ext autoreload\n",
    "%autoreload 2\n"
   ]
  },
  {
   "cell_type": "code",
   "execution_count": 8,
   "metadata": {},
   "outputs": [],
   "source": [
    "def derivative_location(d_vec, ML):\n",
    "    d_vec = np.array(d_vec)\n",
    "    directory = \"derivatives/ML_{}/\".format(ML)\n",
    "    folder_name = \"d_\" + str(d_vec).replace(\" \", \"\").replace(\"[\", \"\").replace(\"]\", \"\")\n",
    "    file_name = \"data\"\n",
    "    base_path = os.path.join(directory,folder_name, file_name)\n",
    "    path_full = f\"{base_path}_{{}}.npz\"\n",
    "    counter = 0\n",
    "    while os.path.exists(path_full.format(counter)):\n",
    "        counter += 1\n",
    "\n",
    "    counter -= 1\n",
    "    return path_full.format(counter)"
   ]
  },
  {
   "cell_type": "code",
   "execution_count": 15,
   "metadata": {},
   "outputs": [],
   "source": [
    "d_vec = np.array([0,0,0])\n",
    "ML = 4"
   ]
  },
  {
   "cell_type": "code",
   "execution_count": 16,
   "metadata": {},
   "outputs": [],
   "source": [
    "zeros = np.load(file_location(d_vec, ML))['zeros'] "
   ]
  },
  {
   "cell_type": "code",
   "execution_count": 18,
   "metadata": {},
   "outputs": [
    {
     "name": "stdout",
     "output_type": "stream",
     "text": [
      "[ 0.4728942  1.4415913  2.6270076  3.5366199  4.251706   5.5377008\n",
      "  7.1962632  8.2879537  9.5345314 10.5505341 11.7014957 12.3102392\n",
      " 13.3831152 15.3537375 16.1218253 17.5325415 18.6053932 19.5186394\n",
      " 20.4033187 21.6944179]\n"
     ]
    }
   ],
   "source": [
    "print(np.round(zeros, 7))"
   ]
  },
  {
   "cell_type": "code",
   "execution_count": null,
   "metadata": {},
   "outputs": [],
   "source": []
  },
  {
   "cell_type": "code",
   "execution_count": null,
   "metadata": {},
   "outputs": [],
   "source": [
    "derivative(1,d_vec, )"
   ]
  },
  {
   "cell_type": "code",
   "execution_count": null,
   "metadata": {},
   "outputs": [],
   "source": [
    "\n",
    "\n",
    "def get_der_at_root_automated(root_final=0.4728942473179055,\n",
    "                              iterations=50):\n",
    "    alpha = 0.5\n",
    "    cut = 10\n",
    "    value = derivative(1,root_final, cut, alpha)\n",
    "    returned_value = value\n",
    "    increasing_cut = True\n",
    "    tolerence = 1e-10\n",
    "    saved_values = []\n",
    "    for i in range(iterations):\n",
    "        if increasing_cut:\n",
    "            cut += 1\n",
    "            value_tmp = zeta_function_der(root_final, cut, alpha)\n",
    "            if np.abs(value_tmp-value) < tolerence:\n",
    "                increasing_cut = False\n",
    "                saved_values.append([value_tmp, cut, alpha])\n",
    "                returned_value = value_tmp\n",
    "            value = value_tmp\n",
    "        else:\n",
    "            alpha = alpha/2.\n",
    "            value_tmp = zeta_function_der(root_final, cut, alpha)\n",
    "            if np.abs(value_tmp-value) > tolerence:\n",
    "                increasing_cut = True\n",
    "    saved_values = np.array(saved_values)\n",
    "    return returned_value, saved_values"
   ]
  },
  {
   "cell_type": "code",
   "execution_count": 24,
   "metadata": {},
   "outputs": [
    {
     "name": "stdout",
     "output_type": "stream",
     "text": [
      "[[ 13.970069280514013  13.985438989806152  13.978324228566686  13.978322165078554  13.978322165078554  13.97832216507855   13.978322165078556  13.978322165078556  13.978322165078556  13.978322165078556]\n",
      " [ 14.160668077060489  14.1663175877453    14.001322393784479  13.98647318808934   13.986469906902045  13.98646990690206   13.986469906902048  13.986469906902048  13.986469906902048  13.986469906902048]\n",
      " [ 14.962755327794405  14.951716864306329  14.40775311388254   14.018162779540928  13.988742864590956  13.988737064463816  13.98873706446382   13.98873706446382   13.98873706446382   13.98873706446382 ]\n",
      " [ 16.913920651026555  16.895698293357135  16.106517868214024  14.828329847940529  14.045600496367685  13.989378709217826  13.989367914522811  13.989367914522811  13.989367914522811  13.989367914522811]\n",
      " [ 20.907524384060338  20.887048054169874  20.008817532092017  18.162595604164252  15.601677306642376  14.096422771719697  13.989563824116148  13.989543452299094  13.989543452299094  13.989543452299094]\n",
      " [ 28.653555510261327  28.6324307315077    27.727441425935336  25.675817956069935  21.981355483262565  17.057559276876418  14.192394441036717  13.989630835423418  13.989592296728118  13.989592296728118]\n",
      " [ 43.43595006153198   43.41464316666571   42.50204537974778   40.388778169238414  36.28480438193476   29.18311270386154   19.812285033471838  14.37407889461942   13.989678923808409  13.98960588798126 ]\n",
      " [ 71.51268060140227   71.49132290070493   70.5765951999746    68.44580669758636   64.21896622699963   56.330646618420616  42.816062675041714  25.030577470330037  14.71853050674573   13.989748115985034]\n",
      " [124.76724003723014  124.74586818935383  123.83054683109096  121.69485391600087  117.43309311854462  109.30877495572385   94.29763450004562   68.64791687879467   34.922305529955686  15.371483638267321]\n",
      " [225.73895979375757  225.71758400855805  224.80209738431543  222.66503753084996  218.39350233631862  210.2021115169977   194.7419950184974   166.25207161418555  117.61405222983004   53.673467451053114]]\n"
     ]
    }
   ],
   "source": [
    "data = np.load(\"temp.npz\")\n",
    "\n",
    "print(data['Z'])"
   ]
  },
  {
   "cell_type": "code",
   "execution_count": null,
   "metadata": {},
   "outputs": [],
   "source": []
  },
  {
   "cell_type": "code",
   "execution_count": null,
   "metadata": {},
   "outputs": [],
   "source": [
    "plt."
   ]
  },
  {
   "cell_type": "code",
   "execution_count": 22,
   "metadata": {},
   "outputs": [],
   "source": [
    "np.set_printoptions(precision=15, linewidth=1000)"
   ]
  },
  {
   "cell_type": "code",
   "execution_count": null,
   "metadata": {},
   "outputs": [],
   "source": [
    "11.214751530214611"
   ]
  }
 ],
 "metadata": {
  "kernelspec": {
   "display_name": "Python 3",
   "language": "python",
   "name": "python3"
  },
  "language_info": {
   "codemirror_mode": {
    "name": "ipython",
    "version": 3
   },
   "file_extension": ".py",
   "mimetype": "text/x-python",
   "name": "python",
   "nbconvert_exporter": "python",
   "pygments_lexer": "ipython3",
   "version": "3.9.16"
  }
 },
 "nbformat": 4,
 "nbformat_minor": 2
}
