{
 "cells": [
  {
   "cell_type": "code",
   "execution_count": 305,
   "metadata": {},
   "outputs": [],
   "source": [
    "import numpy as np\n"
   ]
  },
  {
   "cell_type": "code",
   "execution_count": 306,
   "metadata": {},
   "outputs": [],
   "source": [
    "Xi = 2\n",
    "\n",
    "max_size = 2\n",
    "\n",
    "Intervals = np.ceil(Xi/max_size)"
   ]
  },
  {
   "cell_type": "code",
   "execution_count": 307,
   "metadata": {},
   "outputs": [
    {
     "name": "stdout",
     "output_type": "stream",
     "text": [
      "25\n",
      "[[-2 -1  0  1  2]\n",
      " [-2 -1  0  1  2]\n",
      " [-2 -1  0  1  2]\n",
      " [-2 -1  0  1  2]\n",
      " [-2 -1  0  1  2]]\n"
     ]
    }
   ],
   "source": [
    "X,Y = np.meshgrid(np.arange(-Xi,Xi+1), np.arange(-Xi,Xi+1))\n",
    "\n",
    "print(len(np.ravel(X)))\n",
    "print(X)"
   ]
  },
  {
   "cell_type": "code",
   "execution_count": 308,
   "metadata": {},
   "outputs": [
    {
     "name": "stdout",
     "output_type": "stream",
     "text": [
      "2.0\n",
      "[[-2.  0.]\n",
      " [-2.  0.]]\n"
     ]
    }
   ],
   "source": [
    "#name the variable below aptly\n",
    "\n",
    "segments = np.arange(-Intervals, Intervals)*max_size #Xi appears at positive end\n",
    "\n",
    "anomalous_interval = Xi + segments[1]\n",
    "print(anomalous_interval)\n",
    "\n",
    "\n",
    "A, B  = np.meshgrid(segments,segments)\n",
    "\n",
    "print(A)\n"
   ]
  },
  {
   "cell_type": "code",
   "execution_count": null,
   "metadata": {},
   "outputs": [],
   "source": []
  },
  {
   "cell_type": "code",
   "execution_count": 309,
   "metadata": {},
   "outputs": [
    {
     "name": "stdout",
     "output_type": "stream",
     "text": [
      "\n",
      " \n",
      "\n",
      "\n",
      " \n",
      "\n",
      "16\n"
     ]
    }
   ],
   "source": [
    "count = 0\n",
    "for i in range(len(A)):\n",
    "    for j in range(len(A)):\n",
    "\n",
    "        ##santise the ranges\n",
    "\n",
    "        if A[i,j] < -Xi:\n",
    "            a_from = -Xi\n",
    "            a_to = -Xi + anomalous_interval\n",
    "        elif A[i,j] + max_size> Xi:\n",
    "            a_from = A[i,j]\n",
    "            a_to = Xi\n",
    "        else:\n",
    "            a_from = A[i,j]\n",
    "            a_to = A[i,j] + max_size\n",
    "        \n",
    "        #same for b\n",
    "        if B[i,j] < -Xi:\n",
    "            b_from = -Xi\n",
    "            b_to = -Xi + anomalous_interval\n",
    "        elif B[i,j] + max_size> Xi:\n",
    "            b_from = B[i,j]\n",
    "            b_to = Xi\n",
    "        else:\n",
    "            b_from = B[i,j]\n",
    "            b_to = B[i,j] + max_size\n",
    "\n",
    "\n",
    "\n",
    "\n",
    "        a1 = np.arange(a_from, a_to)\n",
    "        b1 = np.arange(b_from, b_to)\n",
    "        A1, B1 = np.meshgrid(a1,b1)\n",
    "\n",
    "        count += len(np.ravel(A1))\n",
    "\n",
    "    \n",
    "    print('\\n \\n')\n",
    "\n",
    "print(count)"
   ]
  },
  {
   "cell_type": "code",
   "execution_count": 310,
   "metadata": {},
   "outputs": [
    {
     "name": "stdout",
     "output_type": "stream",
     "text": [
      "[-2.  0. -2.  0.]\n"
     ]
    }
   ],
   "source": [
    "print(A.ravel())"
   ]
  },
  {
   "cell_type": "code",
   "execution_count": 311,
   "metadata": {},
   "outputs": [
    {
     "name": "stdout",
     "output_type": "stream",
     "text": [
      "1.00e+06\n"
     ]
    }
   ],
   "source": [
    "\n",
    "#print in scientitfic notation\n",
    "print('{:.2e}'.format((1e4)**(3/2)))\n"
   ]
  },
  {
   "cell_type": "code",
   "execution_count": 312,
   "metadata": {},
   "outputs": [
    {
     "name": "stdout",
     "output_type": "stream",
     "text": [
      "[-9  4  5]\n"
     ]
    }
   ],
   "source": [
    "bounds = np.array([-10,3,4])\n",
    "print(bounds+1)"
   ]
  },
  {
   "cell_type": "code",
   "execution_count": 313,
   "metadata": {},
   "outputs": [
    {
     "ename": "IndentationError",
     "evalue": "expected an indented block (954584194.py, line 5)",
     "output_type": "error",
     "traceback": [
      "\u001b[0;36m  Cell \u001b[0;32mIn[313], line 5\u001b[0;36m\u001b[0m\n\u001b[0;31m    \u001b[0m\n\u001b[0m    ^\u001b[0m\n\u001b[0;31mIndentationError\u001b[0m\u001b[0;31m:\u001b[0m expected an indented block\n"
     ]
    }
   ],
   "source": [
    "np.min([bounds**2,(bounds+1)**2], axis=0)\n",
    "\n",
    "\n",
    "if np.sum(np.min([bounds**2,(bounds+1)**2], axis=0)) > cutoff:\n",
    "    "
   ]
  },
  {
   "cell_type": "code",
   "execution_count": 314,
   "metadata": {},
   "outputs": [
    {
     "name": "stdout",
     "output_type": "stream",
     "text": [
      "[[2 2 2]\n",
      " [2 2 2]\n",
      " [2 2 2]]\n"
     ]
    }
   ],
   "source": [
    "a = np.array([2,2,2])\n",
    "\n",
    "\n",
    "\n",
    "\n",
    "X,Y = np.meshgrid(a,a)\n",
    "\n",
    "#X, Y = np.ravel(X), np.ravel(Y)\n",
    "\n",
    "\n",
    "print(X)\n",
    "\n",
    "\n"
   ]
  },
  {
   "cell_type": "markdown",
   "metadata": {},
   "source": []
  },
  {
   "cell_type": "code",
   "execution_count": 315,
   "metadata": {},
   "outputs": [
    {
     "ename": "ValueError",
     "evalue": "all the input array dimensions except for the concatenation axis must match exactly, but along dimension 1, the array at index 0 has size 9 and the array at index 2 has size 8365427",
     "output_type": "error",
     "traceback": [
      "\u001b[0;31m---------------------------------------------------------------------------\u001b[0m",
      "\u001b[0;31mValueError\u001b[0m                                Traceback (most recent call last)",
      "\u001b[1;32m/Users/ericrechberger/Library/CloudStorage/OneDrive-UniversityofEdinburgh/MPhys project/Code/MPhys-Code/splitting_meshgrid.ipynb Cell 13\u001b[0m line \u001b[0;36m1\n\u001b[0;32m----> <a href='vscode-notebook-cell:/Users/ericrechberger/Library/CloudStorage/OneDrive-UniversityofEdinburgh/MPhys%20project/Code/MPhys-Code/splitting_meshgrid.ipynb#X15sZmlsZQ%3D%3D?line=0'>1</a>\u001b[0m coords \u001b[39m=\u001b[39m np\u001b[39m.\u001b[39;49mvstack([X\u001b[39m.\u001b[39;49mravel(), Y\u001b[39m.\u001b[39;49mravel(), Z\u001b[39m.\u001b[39;49mravel()])\n",
      "File \u001b[0;32m<__array_function__ internals>:200\u001b[0m, in \u001b[0;36mvstack\u001b[0;34m(*args, **kwargs)\u001b[0m\n",
      "File \u001b[0;32m~/opt/anaconda3/lib/python3.9/site-packages/numpy/core/shape_base.py:296\u001b[0m, in \u001b[0;36mvstack\u001b[0;34m(tup, dtype, casting)\u001b[0m\n\u001b[1;32m    294\u001b[0m \u001b[39mif\u001b[39;00m \u001b[39mnot\u001b[39;00m \u001b[39misinstance\u001b[39m(arrs, \u001b[39mlist\u001b[39m):\n\u001b[1;32m    295\u001b[0m     arrs \u001b[39m=\u001b[39m [arrs]\n\u001b[0;32m--> 296\u001b[0m \u001b[39mreturn\u001b[39;00m _nx\u001b[39m.\u001b[39;49mconcatenate(arrs, \u001b[39m0\u001b[39;49m, dtype\u001b[39m=\u001b[39;49mdtype, casting\u001b[39m=\u001b[39;49mcasting)\n",
      "File \u001b[0;32m<__array_function__ internals>:200\u001b[0m, in \u001b[0;36mconcatenate\u001b[0;34m(*args, **kwargs)\u001b[0m\n",
      "\u001b[0;31mValueError\u001b[0m: all the input array dimensions except for the concatenation axis must match exactly, but along dimension 1, the array at index 0 has size 9 and the array at index 2 has size 8365427"
     ]
    }
   ],
   "source": [
    "coords = np.vstack([X.ravel(), Y.ravel(), Z.ravel()])"
   ]
  },
  {
   "cell_type": "code",
   "execution_count": 316,
   "metadata": {},
   "outputs": [
    {
     "ename": "ValueError",
     "evalue": "operand has more dimensions than subscripts given in einstein sum, but no '...' ellipsis provided to broadcast the extra dimensions.",
     "output_type": "error",
     "traceback": [
      "\u001b[0;31m---------------------------------------------------------------------------\u001b[0m",
      "\u001b[0;31mValueError\u001b[0m                                Traceback (most recent call last)",
      "\u001b[1;32m/Users/ericrechberger/Library/CloudStorage/OneDrive-UniversityofEdinburgh/MPhys project/Code/MPhys-Code/splitting_meshgrid.ipynb Cell 14\u001b[0m line \u001b[0;36m1\n\u001b[0;32m----> <a href='vscode-notebook-cell:/Users/ericrechberger/Library/CloudStorage/OneDrive-UniversityofEdinburgh/MPhys%20project/Code/MPhys-Code/splitting_meshgrid.ipynb#X16sZmlsZQ%3D%3D?line=0'>1</a>\u001b[0m np\u001b[39m.\u001b[39;49meinsum(\u001b[39m'\u001b[39;49m\u001b[39mij,ij->i\u001b[39;49m\u001b[39m'\u001b[39;49m, coords, coords)\n",
      "File \u001b[0;32m<__array_function__ internals>:200\u001b[0m, in \u001b[0;36meinsum\u001b[0;34m(*args, **kwargs)\u001b[0m\n",
      "File \u001b[0;32m~/opt/anaconda3/lib/python3.9/site-packages/numpy/core/einsumfunc.py:1371\u001b[0m, in \u001b[0;36meinsum\u001b[0;34m(out, optimize, *operands, **kwargs)\u001b[0m\n\u001b[1;32m   1369\u001b[0m     \u001b[39mif\u001b[39;00m specified_out:\n\u001b[1;32m   1370\u001b[0m         kwargs[\u001b[39m'\u001b[39m\u001b[39mout\u001b[39m\u001b[39m'\u001b[39m] \u001b[39m=\u001b[39m out\n\u001b[0;32m-> 1371\u001b[0m     \u001b[39mreturn\u001b[39;00m c_einsum(\u001b[39m*\u001b[39;49moperands, \u001b[39m*\u001b[39;49m\u001b[39m*\u001b[39;49mkwargs)\n\u001b[1;32m   1373\u001b[0m \u001b[39m# Check the kwargs to avoid a more cryptic error later, without having to\u001b[39;00m\n\u001b[1;32m   1374\u001b[0m \u001b[39m# repeat default values here\u001b[39;00m\n\u001b[1;32m   1375\u001b[0m valid_einsum_kwargs \u001b[39m=\u001b[39m [\u001b[39m'\u001b[39m\u001b[39mdtype\u001b[39m\u001b[39m'\u001b[39m, \u001b[39m'\u001b[39m\u001b[39morder\u001b[39m\u001b[39m'\u001b[39m, \u001b[39m'\u001b[39m\u001b[39mcasting\u001b[39m\u001b[39m'\u001b[39m]\n",
      "\u001b[0;31mValueError\u001b[0m: operand has more dimensions than subscripts given in einstein sum, but no '...' ellipsis provided to broadcast the extra dimensions."
     ]
    }
   ],
   "source": [
    "np.einsum('ij,ij->i', coords, coords)"
   ]
  },
  {
   "cell_type": "code",
   "execution_count": 317,
   "metadata": {},
   "outputs": [],
   "source": [
    "def method1():\n",
    "    Xi = 200\n",
    "    x,y,z = np.meshgrid(np.arange(-Xi,Xi+1), np.arange(-Xi,Xi+1), np.arange(-Xi,Xi+1))\n",
    "    r = np.vstack([x.ravel(), y.ravel(), z.ravel()])\n",
    "    r_2 = np.einsum('ij,ij->i', r, r)\n",
    "\n",
    "    return r_2[r_2<100]\n",
    "\n",
    "def method2():\n",
    "    Xi = 200\n",
    "    x,y,z = np.mgrid[-Xi:Xi+1, -Xi:Xi+1, -Xi:Xi+1]\n",
    "    r_2 = x**2 + y**2 + z**2\n",
    "\n",
    "    return r_2[r_2<100]\n",
    "\n",
    "\n",
    "def method3():\n",
    "    Xi = 200\n",
    "    x,y,z = np.meshgrid(np.arange(-Xi,Xi+1), np.arange(-Xi,Xi+1), np.arange(-Xi,Xi+1))\n",
    "    r = np.vstack([x, y, z])\n",
    "    r_2 = np.einsum('ij,ij->i', r, r)\n",
    "\n",
    "    return r_2[r_2<100]"
   ]
  },
  {
   "cell_type": "code",
   "execution_count": 318,
   "metadata": {},
   "outputs": [
    {
     "name": "stdout",
     "output_type": "stream",
     "text": [
      "2.06 s ± 46.7 ms per loop (mean ± std. dev. of 7 runs, 1 loop each)\n"
     ]
    }
   ],
   "source": [
    "%timeit method1()"
   ]
  },
  {
   "cell_type": "code",
   "execution_count": 319,
   "metadata": {},
   "outputs": [
    {
     "name": "stdout",
     "output_type": "stream",
     "text": [
      "2.31 s ± 168 ms per loop (mean ± std. dev. of 7 runs, 1 loop each)\n"
     ]
    }
   ],
   "source": [
    "%timeit method2()"
   ]
  },
  {
   "cell_type": "code",
   "execution_count": 320,
   "metadata": {},
   "outputs": [
    {
     "ename": "ValueError",
     "evalue": "operand has more dimensions than subscripts given in einstein sum, but no '...' ellipsis provided to broadcast the extra dimensions.",
     "output_type": "error",
     "traceback": [
      "\u001b[0;31m---------------------------------------------------------------------------\u001b[0m",
      "\u001b[0;31mValueError\u001b[0m                                Traceback (most recent call last)",
      "\u001b[1;32m/Users/ericrechberger/Library/CloudStorage/OneDrive-UniversityofEdinburgh/MPhys project/Code/MPhys-Code/splitting_meshgrid.ipynb Cell 18\u001b[0m line \u001b[0;36m1\n\u001b[0;32m----> <a href='vscode-notebook-cell:/Users/ericrechberger/Library/CloudStorage/OneDrive-UniversityofEdinburgh/MPhys%20project/Code/MPhys-Code/splitting_meshgrid.ipynb#X23sZmlsZQ%3D%3D?line=0'>1</a>\u001b[0m get_ipython()\u001b[39m.\u001b[39;49mrun_line_magic(\u001b[39m'\u001b[39;49m\u001b[39mtimeit\u001b[39;49m\u001b[39m'\u001b[39;49m, \u001b[39m'\u001b[39;49m\u001b[39mmethod3()\u001b[39;49m\u001b[39m'\u001b[39;49m)\n",
      "File \u001b[0;32m~/opt/anaconda3/lib/python3.9/site-packages/IPython/core/interactiveshell.py:2432\u001b[0m, in \u001b[0;36mInteractiveShell.run_line_magic\u001b[0;34m(self, magic_name, line, _stack_depth)\u001b[0m\n\u001b[1;32m   2430\u001b[0m     kwargs[\u001b[39m'\u001b[39m\u001b[39mlocal_ns\u001b[39m\u001b[39m'\u001b[39m] \u001b[39m=\u001b[39m \u001b[39mself\u001b[39m\u001b[39m.\u001b[39mget_local_scope(stack_depth)\n\u001b[1;32m   2431\u001b[0m \u001b[39mwith\u001b[39;00m \u001b[39mself\u001b[39m\u001b[39m.\u001b[39mbuiltin_trap:\n\u001b[0;32m-> 2432\u001b[0m     result \u001b[39m=\u001b[39m fn(\u001b[39m*\u001b[39;49margs, \u001b[39m*\u001b[39;49m\u001b[39m*\u001b[39;49mkwargs)\n\u001b[1;32m   2434\u001b[0m \u001b[39m# The code below prevents the output from being displayed\u001b[39;00m\n\u001b[1;32m   2435\u001b[0m \u001b[39m# when using magics with decorator @output_can_be_silenced\u001b[39;00m\n\u001b[1;32m   2436\u001b[0m \u001b[39m# when the last Python token in the expression is a ';'.\u001b[39;00m\n\u001b[1;32m   2437\u001b[0m \u001b[39mif\u001b[39;00m \u001b[39mgetattr\u001b[39m(fn, magic\u001b[39m.\u001b[39mMAGIC_OUTPUT_CAN_BE_SILENCED, \u001b[39mFalse\u001b[39;00m):\n",
      "File \u001b[0;32m~/opt/anaconda3/lib/python3.9/site-packages/IPython/core/magics/execution.py:1185\u001b[0m, in \u001b[0;36mExecutionMagics.timeit\u001b[0;34m(self, line, cell, local_ns)\u001b[0m\n\u001b[1;32m   1183\u001b[0m \u001b[39mfor\u001b[39;00m index \u001b[39min\u001b[39;00m \u001b[39mrange\u001b[39m(\u001b[39m0\u001b[39m, \u001b[39m10\u001b[39m):\n\u001b[1;32m   1184\u001b[0m     number \u001b[39m=\u001b[39m \u001b[39m10\u001b[39m \u001b[39m*\u001b[39m\u001b[39m*\u001b[39m index\n\u001b[0;32m-> 1185\u001b[0m     time_number \u001b[39m=\u001b[39m timer\u001b[39m.\u001b[39;49mtimeit(number)\n\u001b[1;32m   1186\u001b[0m     \u001b[39mif\u001b[39;00m time_number \u001b[39m>\u001b[39m\u001b[39m=\u001b[39m \u001b[39m0.2\u001b[39m:\n\u001b[1;32m   1187\u001b[0m         \u001b[39mbreak\u001b[39;00m\n",
      "File \u001b[0;32m~/opt/anaconda3/lib/python3.9/site-packages/IPython/core/magics/execution.py:173\u001b[0m, in \u001b[0;36mTimer.timeit\u001b[0;34m(self, number)\u001b[0m\n\u001b[1;32m    171\u001b[0m gc\u001b[39m.\u001b[39mdisable()\n\u001b[1;32m    172\u001b[0m \u001b[39mtry\u001b[39;00m:\n\u001b[0;32m--> 173\u001b[0m     timing \u001b[39m=\u001b[39m \u001b[39mself\u001b[39;49m\u001b[39m.\u001b[39;49minner(it, \u001b[39mself\u001b[39;49m\u001b[39m.\u001b[39;49mtimer)\n\u001b[1;32m    174\u001b[0m \u001b[39mfinally\u001b[39;00m:\n\u001b[1;32m    175\u001b[0m     \u001b[39mif\u001b[39;00m gcold:\n",
      "File \u001b[0;32m<magic-timeit>:1\u001b[0m, in \u001b[0;36minner\u001b[0;34m(_it, _timer)\u001b[0m\n",
      "\u001b[1;32m/Users/ericrechberger/Library/CloudStorage/OneDrive-UniversityofEdinburgh/MPhys project/Code/MPhys-Code/splitting_meshgrid.ipynb Cell 18\u001b[0m line \u001b[0;36m2\n\u001b[1;32m     <a href='vscode-notebook-cell:/Users/ericrechberger/Library/CloudStorage/OneDrive-UniversityofEdinburgh/MPhys%20project/Code/MPhys-Code/splitting_meshgrid.ipynb#X23sZmlsZQ%3D%3D?line=18'>19</a>\u001b[0m x,y,z \u001b[39m=\u001b[39m np\u001b[39m.\u001b[39mmeshgrid(np\u001b[39m.\u001b[39marange(\u001b[39m-\u001b[39mXi,Xi\u001b[39m+\u001b[39m\u001b[39m1\u001b[39m), np\u001b[39m.\u001b[39marange(\u001b[39m-\u001b[39mXi,Xi\u001b[39m+\u001b[39m\u001b[39m1\u001b[39m), np\u001b[39m.\u001b[39marange(\u001b[39m-\u001b[39mXi,Xi\u001b[39m+\u001b[39m\u001b[39m1\u001b[39m))\n\u001b[1;32m     <a href='vscode-notebook-cell:/Users/ericrechberger/Library/CloudStorage/OneDrive-UniversityofEdinburgh/MPhys%20project/Code/MPhys-Code/splitting_meshgrid.ipynb#X23sZmlsZQ%3D%3D?line=19'>20</a>\u001b[0m r \u001b[39m=\u001b[39m np\u001b[39m.\u001b[39mvstack([x, y, z])\n\u001b[0;32m---> <a href='vscode-notebook-cell:/Users/ericrechberger/Library/CloudStorage/OneDrive-UniversityofEdinburgh/MPhys%20project/Code/MPhys-Code/splitting_meshgrid.ipynb#X23sZmlsZQ%3D%3D?line=20'>21</a>\u001b[0m r_2 \u001b[39m=\u001b[39m np\u001b[39m.\u001b[39;49meinsum(\u001b[39m'\u001b[39;49m\u001b[39mij,ij->i\u001b[39;49m\u001b[39m'\u001b[39;49m, r, r)\n\u001b[1;32m     <a href='vscode-notebook-cell:/Users/ericrechberger/Library/CloudStorage/OneDrive-UniversityofEdinburgh/MPhys%20project/Code/MPhys-Code/splitting_meshgrid.ipynb#X23sZmlsZQ%3D%3D?line=22'>23</a>\u001b[0m \u001b[39mreturn\u001b[39;00m r_2[r_2\u001b[39m<\u001b[39m\u001b[39m100\u001b[39m]\n",
      "File \u001b[0;32m<__array_function__ internals>:200\u001b[0m, in \u001b[0;36meinsum\u001b[0;34m(*args, **kwargs)\u001b[0m\n",
      "File \u001b[0;32m~/opt/anaconda3/lib/python3.9/site-packages/numpy/core/einsumfunc.py:1371\u001b[0m, in \u001b[0;36meinsum\u001b[0;34m(out, optimize, *operands, **kwargs)\u001b[0m\n\u001b[1;32m   1369\u001b[0m     \u001b[39mif\u001b[39;00m specified_out:\n\u001b[1;32m   1370\u001b[0m         kwargs[\u001b[39m'\u001b[39m\u001b[39mout\u001b[39m\u001b[39m'\u001b[39m] \u001b[39m=\u001b[39m out\n\u001b[0;32m-> 1371\u001b[0m     \u001b[39mreturn\u001b[39;00m c_einsum(\u001b[39m*\u001b[39;49moperands, \u001b[39m*\u001b[39;49m\u001b[39m*\u001b[39;49mkwargs)\n\u001b[1;32m   1373\u001b[0m \u001b[39m# Check the kwargs to avoid a more cryptic error later, without having to\u001b[39;00m\n\u001b[1;32m   1374\u001b[0m \u001b[39m# repeat default values here\u001b[39;00m\n\u001b[1;32m   1375\u001b[0m valid_einsum_kwargs \u001b[39m=\u001b[39m [\u001b[39m'\u001b[39m\u001b[39mdtype\u001b[39m\u001b[39m'\u001b[39m, \u001b[39m'\u001b[39m\u001b[39morder\u001b[39m\u001b[39m'\u001b[39m, \u001b[39m'\u001b[39m\u001b[39mcasting\u001b[39m\u001b[39m'\u001b[39m]\n",
      "\u001b[0;31mValueError\u001b[0m: operand has more dimensions than subscripts given in einstein sum, but no '...' ellipsis provided to broadcast the extra dimensions."
     ]
    }
   ],
   "source": [
    "%timeit method3()"
   ]
  },
  {
   "cell_type": "code",
   "execution_count": null,
   "metadata": {},
   "outputs": [
    {
     "name": "stdout",
     "output_type": "stream",
     "text": [
      "9.17 µs ± 70.8 ns per loop (mean ± std. dev. of 7 runs, 100,000 loops each)\n"
     ]
    }
   ],
   "source": [
    "%timeit np.ndindex(3,3)"
   ]
  },
  {
   "cell_type": "code",
   "execution_count": null,
   "metadata": {},
   "outputs": [
    {
     "data": {
      "text/plain": [
       "2.302585092994046"
      ]
     },
     "execution_count": 79,
     "metadata": {},
     "output_type": "execute_result"
    }
   ],
   "source": [
    "np.log(10)"
   ]
  },
  {
   "cell_type": "code",
   "execution_count": null,
   "metadata": {},
   "outputs": [],
   "source": []
  },
  {
   "cell_type": "markdown",
   "metadata": {},
   "source": [
    "# Direct Comparison"
   ]
  },
  {
   "cell_type": "code",
   "execution_count": null,
   "metadata": {},
   "outputs": [],
   "source": [
    "import numpy as np\n",
    "from tqdm import tqdm"
   ]
  },
  {
   "cell_type": "code",
   "execution_count": null,
   "metadata": {},
   "outputs": [],
   "source": [
    "cutoff = 1e4"
   ]
  },
  {
   "cell_type": "code",
   "execution_count": null,
   "metadata": {},
   "outputs": [
    {
     "name": "stderr",
     "output_type": "stream",
     "text": [
      "100%|██████████| 6/6 [00:00<00:00, 11.10it/s]"
     ]
    },
    {
     "name": "stdout",
     "output_type": "stream",
     "text": [
      "[    0     1     1 ... 10000 10000 10000]\n",
      "1257.5870842526792\n"
     ]
    },
    {
     "name": "stderr",
     "output_type": "stream",
     "text": [
      "\n"
     ]
    }
   ],
   "source": [
    "\n",
    "\n",
    "Xi = int(np.sqrt(cutoff))+1 #+1 to make sure xi^2 is in range\n",
    "    \n",
    "max_size = 50\n",
    "partitions = int(np.ceil(Xi/max_size))\n",
    "intervals = np.arange(-partitions, partitions)*max_size #Xi appears at positive end\n",
    "#does not change the result\n",
    "\n",
    "A, B, C  = np.meshgrid(intervals,intervals, intervals) \n",
    "\n",
    "r_2_list = np.array([], dtype=np.int64)\n",
    "sum_r_2 = 0\n",
    "\n",
    "result = 0\n",
    "for i in tqdm(range(len(A))):\n",
    "    for j in range(len(A[i])):\n",
    "        for k in range(len(A[i,j])):\n",
    "                    lower_bounds = np.array([A[i,j,k],B[i,j,k],C[i,j,k]])\n",
    "                    upper_bounds = lower_bounds + max_size\n",
    "\n",
    "                    #if the minima (of magnitudes) are all below the cutoff, proceed\n",
    "                    if np.sum(np.min([lower_bounds**2,upper_bounds**2], axis=0)) <=cutoff:\n",
    "\n",
    "\n",
    "\n",
    "                            x1 = np.arange(lower_bounds[0], upper_bounds[0]) \n",
    "                            y1 = np.arange(lower_bounds[1], upper_bounds[1])\n",
    "                            z1 = np.arange(lower_bounds[2], upper_bounds[2])\n",
    "\n",
    "\n",
    "                            X,Y,Z = np.meshgrid(x1,y1,z1)\n",
    "\n",
    "\n",
    "                            r = np.stack([X.ravel(), Y.ravel(), Z.ravel()], axis=1)\n",
    "\n",
    "\n",
    "                            r_2 = np.einsum(\"ij,ij->i\", r,r)\n",
    "\n",
    "\n",
    "                            r = r[r_2<=cutoff]\n",
    "\n",
    "                            r_2 = r_2[r_2<=cutoff]\n",
    "\n",
    "                            r_2_list = np.append(r_2_list, r_2)\n",
    "\n",
    "                            sum_r_2 += np.sum(r_2)\n",
    "\n",
    "\n",
    "\n",
    "\n",
    "\n",
    "\n",
    "r_2_list = np.sort(r_2_list)\n",
    "print(r_2_list)\n",
    "a = 1/(r_2_list-0.5)\n",
    "\n",
    "res1 = np.sum(a)\n",
    "print(np.sum(a))"
   ]
  },
  {
   "cell_type": "code",
   "execution_count": null,
   "metadata": {},
   "outputs": [
    {
     "name": "stdout",
     "output_type": "stream",
     "text": [
      "25123412820\n",
      "[    0     1     1 ... 10000 10000 10000]\n",
      "1257.5870842526788\n"
     ]
    }
   ],
   "source": [
    "rng = np.arange(-int(np.sqrt(cutoff))-1, int(np.sqrt(cutoff))+2)\n",
    "res = (rng[:,np.newaxis, np.newaxis]**2+rng[np.newaxis,:,np.newaxis]**2+rng[np.newaxis,np.newaxis,:]**2)\n",
    "X,Y,Z = np.meshgrid(rng,rng,rng, indexing = 'ij')\n",
    "coords = np.stack((X,Y,Z), axis=3)\n",
    "r = coords[res<=cutoff]\n",
    "\n",
    "####### parallel and perp components of r\n",
    "r_2 = np.einsum(\"ij,ij->i\", r,r)\n",
    "\n",
    "\n",
    "print(sum(r_2))\n",
    "print(np.sort(r_2))\n",
    "\n",
    "\n",
    "\n",
    "\n",
    "#r_2 = np.sort(r_2)\n",
    "a = 1/(r_2-0.5)\n",
    "\n",
    "res2 = np.sum(a)\n",
    "print(np.sum(a))\n"
   ]
  },
  {
   "cell_type": "code",
   "execution_count": 164,
   "metadata": {},
   "outputs": [
    {
     "name": "stdout",
     "output_type": "stream",
     "text": [
      "4.547473508864641e-13\n"
     ]
    }
   ],
   "source": [
    "print(res1-res2)"
   ]
  },
  {
   "cell_type": "markdown",
   "metadata": {},
   "source": [
    "## Explanation of Discrepancy between new (large) method and old zeta\n",
    "\n",
    "The reason for this is that recurring binary numbers (eg 0.1) are clipped when the memory allocated to the variable runs out. So \n",
    "$ \\frac 1 a + \\frac 1 b + \\frac 1 c \\neq \\frac 1 b + \\frac 1 c + \\frac 1 a$.\n",
    "\n",
    "This error is small depending on the number used, so we just have to ignore the final zeros. This explains the difference between the numbers,\n",
    "it is this numerical instability, the grouping of values for zeta large reshuffels them when adding the reciprocals."
   ]
  },
  {
   "cell_type": "code",
   "execution_count": 162,
   "metadata": {},
   "outputs": [
    {
     "data": {
      "text/plain": [
       "2.220446049250313e-16"
      ]
     },
     "execution_count": 162,
     "metadata": {},
     "output_type": "execute_result"
    }
   ],
   "source": [
    "1/2**52"
   ]
  },
  {
   "cell_type": "code",
   "execution_count": 502,
   "metadata": {},
   "outputs": [],
   "source": [
    "x = 0.0125"
   ]
  },
  {
   "cell_type": "code",
   "execution_count": 503,
   "metadata": {},
   "outputs": [
    {
     "name": "stdout",
     "output_type": "stream",
     "text": [
      "[    0     1     1 ... 10000 10000 10000]\n",
      "-80.10006252604981\n"
     ]
    }
   ],
   "source": [
    "\n",
    "terms1 = np.exp(-0.1*(r_2_list-x))/(r_2_list-x)\n",
    "k1 = np.round(terms1,5)\n",
    "\n",
    "print(r_2_list)\n",
    "print(min(terms1))"
   ]
  },
  {
   "cell_type": "code",
   "execution_count": 504,
   "metadata": {},
   "outputs": [
    {
     "data": {
      "text/plain": [
       "-10000.1000005"
      ]
     },
     "execution_count": 504,
     "metadata": {},
     "output_type": "execute_result"
    }
   ],
   "source": [
    "np.exp(0.1*1e-4)/(-1e-4)"
   ]
  },
  {
   "cell_type": "code",
   "execution_count": 505,
   "metadata": {},
   "outputs": [],
   "source": [
    "terms2 = np.exp(-0.1*(r_2-x))/(r_2-x)\n",
    "\n",
    "k2 = np.round(terms2,8)\n"
   ]
  },
  {
   "cell_type": "code",
   "execution_count": 506,
   "metadata": {},
   "outputs": [
    {
     "name": "stdout",
     "output_type": "stream",
     "text": [
      "[-80.10006   0.91744   0.91744 ...   0.        0.        0.     ]\n"
     ]
    }
   ],
   "source": [
    "print(k1-k2)"
   ]
  },
  {
   "cell_type": "code",
   "execution_count": 507,
   "metadata": {},
   "outputs": [
    {
     "data": {
      "text/plain": [
       "4.649455265237634e-10"
      ]
     },
     "execution_count": 507,
     "metadata": {},
     "output_type": "execute_result"
    }
   ],
   "source": [
    "2**(-53)*len(r_2_list)"
   ]
  },
  {
   "cell_type": "code",
   "execution_count": 497,
   "metadata": {},
   "outputs": [
    {
     "name": "stdout",
     "output_type": "stream",
     "text": [
      "34.545399999999994\n"
     ]
    }
   ],
   "source": [
    "print(np.sum(k1))"
   ]
  },
  {
   "cell_type": "code",
   "execution_count": 498,
   "metadata": {},
   "outputs": [
    {
     "name": "stdout",
     "output_type": "stream",
     "text": [
      "[-2.10254219  1.90245885  1.90245885 ...  0.          0.\n",
      "  0.        ]\n"
     ]
    }
   ],
   "source": [
    "print(terms1)"
   ]
  },
  {
   "cell_type": "code",
   "execution_count": 508,
   "metadata": {},
   "outputs": [
    {
     "name": "stdout",
     "output_type": "stream",
     "text": [
      "Error estimate: 1.0095559622109881e-12\n"
     ]
    }
   ],
   "source": [
    "\n",
    "\n",
    "num_samples = 10\n",
    "bootstrap = np.array([])\n",
    "temp = np.copy(terms1)\n",
    "\n",
    "for _ in range(num_samples):\n",
    "    np.random.shuffle(temp)\n",
    "    sample = sum(temp)\n",
    "    bootstrap = np.append(bootstrap, sample)\n",
    "\n",
    "\n",
    "error_estimate = np.std(bootstrap)\n",
    "print(\"Error estimate:\", error_estimate)\n",
    "\n",
    "\n"
   ]
  },
  {
   "cell_type": "code",
   "execution_count": 509,
   "metadata": {},
   "outputs": [
    {
     "name": "stdout",
     "output_type": "stream",
     "text": [
      "-80.1000625260498111401830101385712623596191406250000000\n",
      "0.0000000000002273736754432320594787597656250000000000\n"
     ]
    }
   ],
   "source": [
    "a, b = np.unique(terms1, return_counts=True)\n",
    "\n",
    "\n",
    "\n",
    "#print fully precision of a[0] in binary\n",
    "\n",
    "print('{:.52f}'.format(a[0]))\n",
    "\n",
    "len(bin(1000)[2:])\n",
    "\n",
    "\n",
    "\n",
    "\n",
    "\n",
    "print('{:.52f}'.format(2**(-42)))"
   ]
  },
  {
   "cell_type": "code",
   "execution_count": 510,
   "metadata": {},
   "outputs": [
    {
     "data": {
      "text/plain": [
       "finfo(resolution=1e-15, min=-1.7976931348623157e+308, max=1.7976931348623157e+308, dtype=float64)"
      ]
     },
     "execution_count": 510,
     "metadata": {},
     "output_type": "execute_result"
    }
   ],
   "source": [
    "np.finfo(np.float64)"
   ]
  },
  {
   "cell_type": "code",
   "execution_count": 515,
   "metadata": {},
   "outputs": [
    {
     "data": {
      "text/plain": [
       "8.015319192820261e-14"
      ]
     },
     "execution_count": 515,
     "metadata": {},
     "output_type": "execute_result"
    }
   ],
   "source": [
    "#squaresum of terms1\n",
    "np.sqrt(np.sum(terms1**2))*1e-15\n",
    "\n",
    "\n"
   ]
  },
  {
   "cell_type": "code",
   "execution_count": 514,
   "metadata": {},
   "outputs": [
    {
     "name": "stdout",
     "output_type": "stream",
     "text": [
      "5.353248465640082e-14\n"
     ]
    }
   ],
   "source": [
    "print(abs(np.sum(terms1))*1e-15)"
   ]
  },
  {
   "cell_type": "code",
   "execution_count": 386,
   "metadata": {},
   "outputs": [
    {
     "data": {
      "text/plain": [
       "2.220446049250313e-16"
      ]
     },
     "execution_count": 386,
     "metadata": {},
     "output_type": "execute_result"
    }
   ],
   "source": [
    "2**(-52)"
   ]
  },
  {
   "cell_type": "code",
   "execution_count": 517,
   "metadata": {},
   "outputs": [
    {
     "data": {
      "text/plain": [
       "0.08329249107219994"
      ]
     },
     "execution_count": 517,
     "metadata": {},
     "output_type": "execute_result"
    }
   ],
   "source": [
    "np.log(4/3)/np.log(10)*2/3"
   ]
  },
  {
   "cell_type": "markdown",
   "metadata": {},
   "source": [
    "We generally need a way to find maximum values in a sum! Once we know the maximum value we can easily approximate the numerical error!"
   ]
  },
  {
   "cell_type": "markdown",
   "metadata": {},
   "source": [
    "# A further note generally on precision. "
   ]
  },
  {
   "cell_type": "markdown",
   "metadata": {},
   "source": [
    "The amount of error strongly depends on the location of the lattice points wrt to the asymptotes. if we have the worst case scenario the for the sum\n",
    "\n",
    "$\\frac{1}{r^2-x}\\; x = 2^{-53}$ which is the precision of storing. In that case the term (obviously) equals $2^{52}$ and the final comma space equals to the 2^0, i.e. one. This means if we include these precisions, then clipping could lead to an error of up to 1. Hence we should regularize all input numbers to some specified precision (and output as well)."
   ]
  },
  {
   "cell_type": "markdown",
   "metadata": {},
   "source": []
  },
  {
   "cell_type": "code",
   "execution_count": 282,
   "metadata": {},
   "outputs": [
    {
     "data": {
      "text/plain": [
       "1.4901161193847656e-08"
      ]
     },
     "execution_count": 282,
     "metadata": {},
     "output_type": "execute_result"
    }
   ],
   "source": [
    "2**(-26)"
   ]
  },
  {
   "cell_type": "code",
   "execution_count": 283,
   "metadata": {},
   "outputs": [
    {
     "data": {
      "text/plain": [
       "1.4901161193847656e-08"
      ]
     },
     "execution_count": 283,
     "metadata": {},
     "output_type": "execute_result"
    }
   ],
   "source": [
    "1/_*2**-52"
   ]
  },
  {
   "cell_type": "markdown",
   "metadata": {},
   "source": [
    "So a precision of 2**(-26) seems to be ideal, and this is the number everything should be rounded to."
   ]
  },
  {
   "cell_type": "code",
   "execution_count": 288,
   "metadata": {},
   "outputs": [
    {
     "name": "stdout",
     "output_type": "stream",
     "text": [
      "0.0\n"
     ]
    }
   ],
   "source": [
    "print(np.round(sum(k1) - sum(k2),8))"
   ]
  },
  {
   "cell_type": "code",
   "execution_count": 290,
   "metadata": {},
   "outputs": [
    {
     "data": {
      "text/plain": [
       "0.43429448190325176"
      ]
     },
     "execution_count": 290,
     "metadata": {},
     "output_type": "execute_result"
    }
   ],
   "source": [
    "1/np.log(10)"
   ]
  },
  {
   "cell_type": "code",
   "execution_count": 291,
   "metadata": {},
   "outputs": [
    {
     "data": {
      "text/plain": [
       "3.720075976020836e-44"
      ]
     },
     "execution_count": 291,
     "metadata": {},
     "output_type": "execute_result"
    }
   ],
   "source": [
    "np.exp(-100)"
   ]
  },
  {
   "cell_type": "code",
   "execution_count": 292,
   "metadata": {},
   "outputs": [
    {
     "data": {
      "text/plain": [
       "0.4971498726941338"
      ]
     },
     "execution_count": 292,
     "metadata": {},
     "output_type": "execute_result"
    }
   ],
   "source": [
    "np.log(np.pi)/np.log(10)"
   ]
  },
  {
   "cell_type": "code",
   "execution_count": 293,
   "metadata": {},
   "outputs": [
    {
     "name": "stdout",
     "output_type": "stream",
     "text": [
      "-177145.3850905516\n"
     ]
    }
   ],
   "source": [
    "alpha = 0.01\n",
    "Xi = 1e4\n",
    "\n",
    "print(1/alpha-Xi*np.sqrt(np.pi/alpha))"
   ]
  },
  {
   "cell_type": "code",
   "execution_count": 485,
   "metadata": {},
   "outputs": [
    {
     "name": "stdout",
     "output_type": "stream",
     "text": [
      "0.1000000000000000055511151231257827021181583404541016\n"
     ]
    }
   ],
   "source": [
    "\n",
    "\n",
    "print('{:.52f}'.format(0.1))"
   ]
  },
  {
   "cell_type": "code",
   "execution_count": null,
   "metadata": {},
   "outputs": [],
   "source": [
    "print('{:.52f}'.format(0.1))"
   ]
  },
  {
   "cell_type": "code",
   "execution_count": null,
   "metadata": {},
   "outputs": [],
   "source": []
  }
 ],
 "metadata": {
  "kernelspec": {
   "display_name": "base",
   "language": "python",
   "name": "python3"
  },
  "language_info": {
   "codemirror_mode": {
    "name": "ipython",
    "version": 3
   },
   "file_extension": ".py",
   "mimetype": "text/x-python",
   "name": "python",
   "nbconvert_exporter": "python",
   "pygments_lexer": "ipython3",
   "version": "3.9.16"
  }
 },
 "nbformat": 4,
 "nbformat_minor": 2
}
