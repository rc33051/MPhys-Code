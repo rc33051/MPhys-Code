{
 "cells": [
  {
   "cell_type": "code",
   "execution_count": 1,
   "metadata": {},
   "outputs": [],
   "source": [
    "import numpy as np\n"
   ]
  },
  {
   "cell_type": "code",
   "execution_count": 108,
   "metadata": {},
   "outputs": [],
   "source": [
    "Xi = 4\n",
    "\n",
    "max_size = 2\n",
    "\n",
    "Intervals = np.ceil(Xi/max_size)"
   ]
  },
  {
   "cell_type": "code",
   "execution_count": 109,
   "metadata": {},
   "outputs": [
    {
     "name": "stdout",
     "output_type": "stream",
     "text": [
      "64\n",
      "[[-4 -3 -2 -1  0  1  2  3]\n",
      " [-4 -3 -2 -1  0  1  2  3]\n",
      " [-4 -3 -2 -1  0  1  2  3]\n",
      " [-4 -3 -2 -1  0  1  2  3]\n",
      " [-4 -3 -2 -1  0  1  2  3]\n",
      " [-4 -3 -2 -1  0  1  2  3]\n",
      " [-4 -3 -2 -1  0  1  2  3]\n",
      " [-4 -3 -2 -1  0  1  2  3]]\n"
     ]
    }
   ],
   "source": [
    "X,Y = np.meshgrid(np.arange(-Xi,Xi), np.arange(-Xi,Xi))\n",
    "\n",
    "print(len(np.ravel(X)))\n",
    "print(X)"
   ]
  },
  {
   "cell_type": "code",
   "execution_count": 110,
   "metadata": {},
   "outputs": [
    {
     "name": "stdout",
     "output_type": "stream",
     "text": [
      "2.0\n",
      "[[-4. -2.  0.  2.]\n",
      " [-4. -2.  0.  2.]\n",
      " [-4. -2.  0.  2.]\n",
      " [-4. -2.  0.  2.]]\n"
     ]
    }
   ],
   "source": [
    "a = np.arange(-Intervals, Intervals)*max_size #Xi appears at positive end\n",
    "\n",
    "anomalous_interval = Xi + a[1]\n",
    "print(anomalous_interval)\n",
    "\n",
    "\n",
    "A, B  = np.meshgrid(a,a)\n",
    "\n",
    "print(A)\n"
   ]
  },
  {
   "cell_type": "code",
   "execution_count": null,
   "metadata": {},
   "outputs": [],
   "source": []
  },
  {
   "cell_type": "code",
   "execution_count": 113,
   "metadata": {},
   "outputs": [
    {
     "name": "stdout",
     "output_type": "stream",
     "text": [
      "[-4. -3. -4. -3.]\n",
      "[-2. -1. -2. -1.]\n",
      "[0. 1. 0. 1.]\n",
      "[2. 3. 2. 3.]\n",
      "\n",
      " \n",
      "\n",
      "[-4. -3. -4. -3.]\n",
      "[-2. -1. -2. -1.]\n",
      "[0. 1. 0. 1.]\n",
      "[2. 3. 2. 3.]\n",
      "\n",
      " \n",
      "\n",
      "[-4. -3. -4. -3.]\n",
      "[-2. -1. -2. -1.]\n",
      "[0. 1. 0. 1.]\n",
      "[2. 3. 2. 3.]\n",
      "\n",
      " \n",
      "\n",
      "[-4. -3. -4. -3.]\n",
      "[-2. -1. -2. -1.]\n",
      "[0. 1. 0. 1.]\n",
      "[2. 3. 2. 3.]\n",
      "\n",
      " \n",
      "\n",
      "64\n"
     ]
    }
   ],
   "source": [
    "count = 0\n",
    "for i in range(len(A)):\n",
    "    for j in range(len(A)):\n",
    "\n",
    "        ##santise the ranges\n",
    "\n",
    "        if A[i,j] < -Xi:\n",
    "            a_from = -Xi\n",
    "            a_to = -Xi + anomalous_interval\n",
    "        elif A[i,j] + max_size> Xi:\n",
    "            a_from = A[i,j]\n",
    "            a_to = Xi\n",
    "        else:\n",
    "            a_from = A[i,j]\n",
    "            a_to = A[i,j] + max_size\n",
    "        \n",
    "        #same for b\n",
    "        if B[i,j] < -Xi:\n",
    "            b_from = -Xi\n",
    "            b_to = -Xi + anomalous_interval\n",
    "        elif B[i,j] + max_size> Xi:\n",
    "            b_from = B[i,j]\n",
    "            b_to = Xi\n",
    "        else:\n",
    "            b_from = B[i,j]\n",
    "            b_to = B[i,j] + max_size\n",
    "\n",
    "\n",
    "\n",
    "\n",
    "        a1 = np.arange(a_from, a_to)\n",
    "        b1 = np.arange(b_from, b_to)\n",
    "        A1, B1 = np.meshgrid(a1,b1)\n",
    "\n",
    "        count += len(np.ravel(A1))\n",
    "\n",
    "    \n",
    "    print('\\n \\n')\n",
    "\n",
    "print(count)"
   ]
  },
  {
   "cell_type": "code",
   "execution_count": 6,
   "metadata": {},
   "outputs": [
    {
     "name": "stdout",
     "output_type": "stream",
     "text": [
      "[0. 2. 4. 6. 8. 0. 2. 4. 6. 8. 0. 2. 4. 6. 8. 0. 2. 4. 6. 8. 0. 2. 4. 6.\n",
      " 8.]\n"
     ]
    }
   ],
   "source": [
    "print(A.ravel())"
   ]
  },
  {
   "cell_type": "code",
   "execution_count": null,
   "metadata": {},
   "outputs": [],
   "source": []
  }
 ],
 "metadata": {
  "kernelspec": {
   "display_name": "base",
   "language": "python",
   "name": "python3"
  },
  "language_info": {
   "codemirror_mode": {
    "name": "ipython",
    "version": 3
   },
   "file_extension": ".py",
   "mimetype": "text/x-python",
   "name": "python",
   "nbconvert_exporter": "python",
   "pygments_lexer": "ipython3",
   "version": "3.9.16"
  }
 },
 "nbformat": 4,
 "nbformat_minor": 2
}
